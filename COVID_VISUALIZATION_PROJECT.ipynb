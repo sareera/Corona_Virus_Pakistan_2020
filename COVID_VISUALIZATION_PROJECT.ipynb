{
 "cells": [
  {
   "cell_type": "markdown",
   "metadata": {
    "colab_type": "text",
    "id": "lxxerFOkn4BX"
   },
   "source": [
    "# **COVID VISUALIZATION PROJECT**"
   ]
  },
  {
   "cell_type": "markdown",
   "metadata": {
    "colab_type": "text",
    "id": "v1V_VAktn4BZ"
   },
   "source": [
    "**Importing different libraries**"
   ]
  },
  {
   "cell_type": "code",
   "execution_count": 1,
   "metadata": {
    "colab": {},
    "colab_type": "code",
    "id": "5uKihLOPn4Bb"
   },
   "outputs": [],
   "source": [
    "import numpy as np \n",
    "import pandas as pd\n",
    "from datetime import datetime as dt"
   ]
  },
  {
   "cell_type": "markdown",
   "metadata": {
    "colab_type": "text",
    "id": "ckwNtpMIn4Bi"
   },
   "source": [
    "**Fetching Excel Sheet of COVID**"
   ]
  },
  {
   "cell_type": "code",
   "execution_count": 2,
   "metadata": {
    "colab": {},
    "colab_type": "code",
    "id": "B7LD3ZRrn4Bj"
   },
   "outputs": [],
   "source": [
    "Sareera_Workbook = pd.ExcelFile(\"COVID_FINAL_DATA.xlsx\")"
   ]
  },
  {
   "cell_type": "markdown",
   "metadata": {
    "colab_type": "text",
    "id": "BWK9LMSwn4Bp"
   },
   "source": [
    "**Displaying all the sheets of Excel Sheet**"
   ]
  },
  {
   "cell_type": "code",
   "execution_count": 3,
   "metadata": {
    "colab": {
     "base_uri": "https://localhost:8080/",
     "height": 187
    },
    "colab_type": "code",
    "id": "VMazu84Un4Bq",
    "outputId": "e9eb5a9e-0286-4384-afd0-4bd8acd1b6a9"
   },
   "outputs": [
    {
     "data": {
      "text/plain": [
       "['TimeSeries_KeyIndicators',\n",
       " 'TimeSeries_KeyIndicators_Detail',\n",
       " 'TimeSeries_Action_Screen',\n",
       " 'TimeSeries_Action_Call',\n",
       " 'TimeSeries_COVID_News',\n",
       " 'TimeSeries_NIH_Response',\n",
       " 'TimeSeries_NIH_Risk',\n",
       " 'TimeSeries_Province_Response',\n",
       " 'TimeSeries_Helpline_Calls',\n",
       " 'TimeSeries_Quarantine_Details']"
      ]
     },
     "execution_count": 3,
     "metadata": {},
     "output_type": "execute_result"
    }
   ],
   "source": [
    "Sareera_Workbook.sheet_names"
   ]
  },
  {
   "cell_type": "markdown",
   "metadata": {
    "colab_type": "text",
    "id": "eVzy1hhrn4CU"
   },
   "source": [
    "**Saving all the sheets separatly by naming them**"
   ]
  },
  {
   "cell_type": "code",
   "execution_count": 4,
   "metadata": {
    "colab": {},
    "colab_type": "code",
    "id": "uzg7XGb8n4CW"
   },
   "outputs": [],
   "source": [
    "sheet1 = Sareera_Workbook.parse(0)\n",
    "sheet2 = Sareera_Workbook.parse(1)\n",
    "sheet3 = Sareera_Workbook.parse(2)\n",
    "sheet4 = Sareera_Workbook.parse(3)\n",
    "sheet5 = Sareera_Workbook.parse(4)\n",
    "sheet6 = Sareera_Workbook.parse(5)\n",
    "sheet7 = Sareera_Workbook.parse(6)\n",
    "sheet8 = Sareera_Workbook.parse(7)\n",
    "sheet9 = Sareera_Workbook.parse(8)\n",
    "sheet10 = Sareera_Workbook.parse(9)"
   ]
  },
  {
   "cell_type": "markdown",
   "metadata": {
    "colab_type": "text",
    "id": "p5mw2qITn4Cc"
   },
   "source": [
    "### **DATA CLEANING ON ALL SHEETS**"
   ]
  },
  {
   "cell_type": "markdown",
   "metadata": {
    "colab_type": "text",
    "id": "aATnoCEOn4Cd"
   },
   "source": [
    "#### **SHEET 1:**"
   ]
  },
  {
   "cell_type": "markdown",
   "metadata": {
    "colab_type": "text",
    "id": "Z6kbpMGkn4Ce"
   },
   "source": [
    "**Displaying Sheet 1**"
   ]
  },
  {
   "cell_type": "code",
   "execution_count": 5,
   "metadata": {
    "colab": {
     "base_uri": "https://localhost:8080/",
     "height": 830
    },
    "colab_type": "code",
    "id": "y1mgwFzZn4Ch",
    "outputId": "6bc9e6b8-0aa5-4723-b02f-68f7d02eca00"
   },
   "outputs": [
    {
     "data": {
      "text/html": [
       "<div>\n",
       "<style scoped>\n",
       "    .dataframe tbody tr th:only-of-type {\n",
       "        vertical-align: middle;\n",
       "    }\n",
       "\n",
       "    .dataframe tbody tr th {\n",
       "        vertical-align: top;\n",
       "    }\n",
       "\n",
       "    .dataframe thead th {\n",
       "        text-align: right;\n",
       "    }\n",
       "</style>\n",
       "<table border=\"1\" class=\"dataframe\">\n",
       "  <thead>\n",
       "    <tr style=\"text-align: right;\">\n",
       "      <th></th>\n",
       "      <th>Unnamed: 0</th>\n",
       "      <th>Cumulative</th>\n",
       "      <th>Cumulative  Test positive</th>\n",
       "      <th>Cumulative  tests performed</th>\n",
       "      <th>Date</th>\n",
       "      <th>Discharged</th>\n",
       "      <th>Expired</th>\n",
       "      <th>Home Quarantine</th>\n",
       "      <th>New  (last 24 hrs)</th>\n",
       "      <th>Region</th>\n",
       "      <th>Still admitted</th>\n",
       "      <th>Tests  performed in last 24 hours</th>\n",
       "    </tr>\n",
       "  </thead>\n",
       "  <tbody>\n",
       "    <tr>\n",
       "      <td>0</td>\n",
       "      <td>4</td>\n",
       "      <td>48</td>\n",
       "      <td>2</td>\n",
       "      <td>80</td>\n",
       "      <td>2020-03-11 00:00:00</td>\n",
       "      <td>0</td>\n",
       "      <td>0</td>\n",
       "      <td>NaN</td>\n",
       "      <td>3</td>\n",
       "      <td>ICT</td>\n",
       "      <td>2</td>\n",
       "      <td>8</td>\n",
       "    </tr>\n",
       "    <tr>\n",
       "      <td>1</td>\n",
       "      <td>5</td>\n",
       "      <td>61</td>\n",
       "      <td>0</td>\n",
       "      <td>95</td>\n",
       "      <td>2020-03-11 00:00:00</td>\n",
       "      <td>0</td>\n",
       "      <td>0</td>\n",
       "      <td>NaN</td>\n",
       "      <td>6</td>\n",
       "      <td>Punjab</td>\n",
       "      <td>0</td>\n",
       "      <td>7</td>\n",
       "    </tr>\n",
       "    <tr>\n",
       "      <td>2</td>\n",
       "      <td>6</td>\n",
       "      <td>84</td>\n",
       "      <td>14</td>\n",
       "      <td>171</td>\n",
       "      <td>2020-03-11 00:00:00</td>\n",
       "      <td>1</td>\n",
       "      <td>0</td>\n",
       "      <td>NaN</td>\n",
       "      <td>1</td>\n",
       "      <td>Sindh</td>\n",
       "      <td>13</td>\n",
       "      <td>55</td>\n",
       "    </tr>\n",
       "    <tr>\n",
       "      <td>3</td>\n",
       "      <td>7</td>\n",
       "      <td>20</td>\n",
       "      <td>0</td>\n",
       "      <td>28</td>\n",
       "      <td>2020-03-11 00:00:00</td>\n",
       "      <td>0</td>\n",
       "      <td>0</td>\n",
       "      <td>NaN</td>\n",
       "      <td>0</td>\n",
       "      <td>KP</td>\n",
       "      <td>0</td>\n",
       "      <td>2</td>\n",
       "    </tr>\n",
       "    <tr>\n",
       "      <td>4</td>\n",
       "      <td>8</td>\n",
       "      <td>3</td>\n",
       "      <td>0</td>\n",
       "      <td>0</td>\n",
       "      <td>2020-03-11 00:00:00</td>\n",
       "      <td>0</td>\n",
       "      <td>0</td>\n",
       "      <td>NaN</td>\n",
       "      <td>0</td>\n",
       "      <td>KPTD</td>\n",
       "      <td>0</td>\n",
       "      <td>0</td>\n",
       "    </tr>\n",
       "    <tr>\n",
       "      <td>...</td>\n",
       "      <td>...</td>\n",
       "      <td>...</td>\n",
       "      <td>...</td>\n",
       "      <td>...</td>\n",
       "      <td>...</td>\n",
       "      <td>...</td>\n",
       "      <td>...</td>\n",
       "      <td>...</td>\n",
       "      <td>...</td>\n",
       "      <td>...</td>\n",
       "      <td>...</td>\n",
       "      <td>...</td>\n",
       "    </tr>\n",
       "    <tr>\n",
       "      <td>372</td>\n",
       "      <td>8</td>\n",
       "      <td>4370</td>\n",
       "      <td>339</td>\n",
       "      <td>3932</td>\n",
       "      <td>2020-05-01 00:00:00</td>\n",
       "      <td>248</td>\n",
       "      <td>3</td>\n",
       "      <td>78.0</td>\n",
       "      <td>194</td>\n",
       "      <td>GB</td>\n",
       "      <td>10</td>\n",
       "      <td>141</td>\n",
       "    </tr>\n",
       "    <tr>\n",
       "      <td>373</td>\n",
       "      <td>9</td>\n",
       "      <td>11194</td>\n",
       "      <td>343</td>\n",
       "      <td>11194</td>\n",
       "      <td>2020-05-01 00:00:00</td>\n",
       "      <td>44</td>\n",
       "      <td>4</td>\n",
       "      <td>277.0</td>\n",
       "      <td>759</td>\n",
       "      <td>ICT</td>\n",
       "      <td>18</td>\n",
       "      <td>759</td>\n",
       "    </tr>\n",
       "    <tr>\n",
       "      <td>374</td>\n",
       "      <td>10</td>\n",
       "      <td>17495</td>\n",
       "      <td>2627</td>\n",
       "      <td>18504</td>\n",
       "      <td>2020-05-01 00:00:00</td>\n",
       "      <td>654</td>\n",
       "      <td>146</td>\n",
       "      <td>1211.0</td>\n",
       "      <td>1052</td>\n",
       "      <td>KP</td>\n",
       "      <td>616</td>\n",
       "      <td>1052</td>\n",
       "    </tr>\n",
       "    <tr>\n",
       "      <td>375</td>\n",
       "      <td>11</td>\n",
       "      <td>53262</td>\n",
       "      <td>6340</td>\n",
       "      <td>82651</td>\n",
       "      <td>2020-05-01 00:00:00</td>\n",
       "      <td>1921</td>\n",
       "      <td>106</td>\n",
       "      <td>2610.0</td>\n",
       "      <td>3689</td>\n",
       "      <td>Punjab</td>\n",
       "      <td>1703</td>\n",
       "      <td>2737</td>\n",
       "    </tr>\n",
       "    <tr>\n",
       "      <td>376</td>\n",
       "      <td>13</td>\n",
       "      <td>54377</td>\n",
       "      <td>6053</td>\n",
       "      <td>54377</td>\n",
       "      <td>2020-05-01 00:00:00</td>\n",
       "      <td>1222</td>\n",
       "      <td>112</td>\n",
       "      <td>3473.0</td>\n",
       "      <td>2587</td>\n",
       "      <td>Sindh</td>\n",
       "      <td>1246</td>\n",
       "      <td>2587</td>\n",
       "    </tr>\n",
       "  </tbody>\n",
       "</table>\n",
       "<p>377 rows × 12 columns</p>\n",
       "</div>"
      ],
      "text/plain": [
       "     Unnamed: 0  Cumulative  Cumulative  Test positive  \\\n",
       "0             4          48                          2   \n",
       "1             5          61                          0   \n",
       "2             6          84                         14   \n",
       "3             7          20                          0   \n",
       "4             8           3                          0   \n",
       "..          ...         ...                        ...   \n",
       "372           8        4370                        339   \n",
       "373           9       11194                        343   \n",
       "374          10       17495                       2627   \n",
       "375          11       53262                       6340   \n",
       "376          13       54377                       6053   \n",
       "\n",
       "     Cumulative  tests performed                 Date  Discharged  Expired  \\\n",
       "0                             80  2020-03-11 00:00:00           0        0   \n",
       "1                             95  2020-03-11 00:00:00           0        0   \n",
       "2                            171  2020-03-11 00:00:00           1        0   \n",
       "3                             28  2020-03-11 00:00:00           0        0   \n",
       "4                              0  2020-03-11 00:00:00           0        0   \n",
       "..                           ...                  ...         ...      ...   \n",
       "372                         3932  2020-05-01 00:00:00         248        3   \n",
       "373                        11194  2020-05-01 00:00:00          44        4   \n",
       "374                        18504  2020-05-01 00:00:00         654      146   \n",
       "375                        82651  2020-05-01 00:00:00        1921      106   \n",
       "376                        54377  2020-05-01 00:00:00        1222      112   \n",
       "\n",
       "     Home Quarantine  New  (last 24 hrs)  Region  Still admitted  \\\n",
       "0                NaN                   3     ICT               2   \n",
       "1                NaN                   6  Punjab               0   \n",
       "2                NaN                   1   Sindh              13   \n",
       "3                NaN                   0      KP               0   \n",
       "4                NaN                   0    KPTD               0   \n",
       "..               ...                 ...     ...             ...   \n",
       "372             78.0                 194      GB              10   \n",
       "373            277.0                 759     ICT              18   \n",
       "374           1211.0                1052      KP             616   \n",
       "375           2610.0                3689  Punjab            1703   \n",
       "376           3473.0                2587   Sindh            1246   \n",
       "\n",
       "    Tests  performed in last 24 hours  \n",
       "0                                   8  \n",
       "1                                   7  \n",
       "2                                  55  \n",
       "3                                   2  \n",
       "4                                   0  \n",
       "..                                ...  \n",
       "372                               141  \n",
       "373                               759  \n",
       "374                              1052  \n",
       "375                              2737  \n",
       "376                              2587  \n",
       "\n",
       "[377 rows x 12 columns]"
      ]
     },
     "execution_count": 5,
     "metadata": {},
     "output_type": "execute_result"
    }
   ],
   "source": [
    "sheet1"
   ]
  },
  {
   "cell_type": "markdown",
   "metadata": {
    "colab_type": "text",
    "id": "ChdO6Ai9n4Df"
   },
   "source": [
    "**Capitalize all the column headings**"
   ]
  },
  {
   "cell_type": "code",
   "execution_count": 6,
   "metadata": {
    "colab": {
     "base_uri": "https://localhost:8080/",
     "height": 102
    },
    "colab_type": "code",
    "id": "6_ynrxwun4Dh",
    "outputId": "f659e370-520f-4ce3-cc69-571d87075671"
   },
   "outputs": [
    {
     "data": {
      "text/plain": [
       "Index(['UNNAMED: 0', 'CUMULATIVE', 'CUMULATIVE  TEST POSITIVE',\n",
       "       'CUMULATIVE  TESTS PERFORMED', 'DATE', 'DISCHARGED', 'EXPIRED',\n",
       "       'HOME QUARANTINE', 'NEW  (LAST 24 HRS)', 'REGION', 'STILL ADMITTED',\n",
       "       'TESTS  PERFORMED IN LAST 24 HOURS'],\n",
       "      dtype='object')"
      ]
     },
     "execution_count": 6,
     "metadata": {},
     "output_type": "execute_result"
    }
   ],
   "source": [
    "sheet1.columns=sheet1.columns.str.upper().str.strip()\n",
    "sheet1.columns"
   ]
  },
  {
   "cell_type": "markdown",
   "metadata": {
    "colab_type": "text",
    "id": "YHqGdZp9n4Do"
   },
   "source": [
    "**Drop the column 1 'UNNAMED: 0' column**"
   ]
  },
  {
   "cell_type": "code",
   "execution_count": 7,
   "metadata": {
    "colab": {
     "base_uri": "https://localhost:8080/",
     "height": 810
    },
    "colab_type": "code",
    "id": "8HGLfky-n4Dp",
    "outputId": "adef8f6d-9d87-4db5-b974-98da4fd05cb6"
   },
   "outputs": [
    {
     "data": {
      "text/html": [
       "<div>\n",
       "<style scoped>\n",
       "    .dataframe tbody tr th:only-of-type {\n",
       "        vertical-align: middle;\n",
       "    }\n",
       "\n",
       "    .dataframe tbody tr th {\n",
       "        vertical-align: top;\n",
       "    }\n",
       "\n",
       "    .dataframe thead th {\n",
       "        text-align: right;\n",
       "    }\n",
       "</style>\n",
       "<table border=\"1\" class=\"dataframe\">\n",
       "  <thead>\n",
       "    <tr style=\"text-align: right;\">\n",
       "      <th></th>\n",
       "      <th>CUMULATIVE</th>\n",
       "      <th>CUMULATIVE  TEST POSITIVE</th>\n",
       "      <th>CUMULATIVE  TESTS PERFORMED</th>\n",
       "      <th>DATE</th>\n",
       "      <th>DISCHARGED</th>\n",
       "      <th>EXPIRED</th>\n",
       "      <th>HOME QUARANTINE</th>\n",
       "      <th>NEW  (LAST 24 HRS)</th>\n",
       "      <th>REGION</th>\n",
       "      <th>STILL ADMITTED</th>\n",
       "      <th>TESTS  PERFORMED IN LAST 24 HOURS</th>\n",
       "    </tr>\n",
       "  </thead>\n",
       "  <tbody>\n",
       "    <tr>\n",
       "      <td>0</td>\n",
       "      <td>48</td>\n",
       "      <td>2</td>\n",
       "      <td>80</td>\n",
       "      <td>2020-03-11 00:00:00</td>\n",
       "      <td>0</td>\n",
       "      <td>0</td>\n",
       "      <td>NaN</td>\n",
       "      <td>3</td>\n",
       "      <td>ICT</td>\n",
       "      <td>2</td>\n",
       "      <td>8</td>\n",
       "    </tr>\n",
       "    <tr>\n",
       "      <td>1</td>\n",
       "      <td>61</td>\n",
       "      <td>0</td>\n",
       "      <td>95</td>\n",
       "      <td>2020-03-11 00:00:00</td>\n",
       "      <td>0</td>\n",
       "      <td>0</td>\n",
       "      <td>NaN</td>\n",
       "      <td>6</td>\n",
       "      <td>Punjab</td>\n",
       "      <td>0</td>\n",
       "      <td>7</td>\n",
       "    </tr>\n",
       "    <tr>\n",
       "      <td>2</td>\n",
       "      <td>84</td>\n",
       "      <td>14</td>\n",
       "      <td>171</td>\n",
       "      <td>2020-03-11 00:00:00</td>\n",
       "      <td>1</td>\n",
       "      <td>0</td>\n",
       "      <td>NaN</td>\n",
       "      <td>1</td>\n",
       "      <td>Sindh</td>\n",
       "      <td>13</td>\n",
       "      <td>55</td>\n",
       "    </tr>\n",
       "    <tr>\n",
       "      <td>3</td>\n",
       "      <td>20</td>\n",
       "      <td>0</td>\n",
       "      <td>28</td>\n",
       "      <td>2020-03-11 00:00:00</td>\n",
       "      <td>0</td>\n",
       "      <td>0</td>\n",
       "      <td>NaN</td>\n",
       "      <td>0</td>\n",
       "      <td>KP</td>\n",
       "      <td>0</td>\n",
       "      <td>2</td>\n",
       "    </tr>\n",
       "    <tr>\n",
       "      <td>4</td>\n",
       "      <td>3</td>\n",
       "      <td>0</td>\n",
       "      <td>0</td>\n",
       "      <td>2020-03-11 00:00:00</td>\n",
       "      <td>0</td>\n",
       "      <td>0</td>\n",
       "      <td>NaN</td>\n",
       "      <td>0</td>\n",
       "      <td>KPTD</td>\n",
       "      <td>0</td>\n",
       "      <td>0</td>\n",
       "    </tr>\n",
       "    <tr>\n",
       "      <td>...</td>\n",
       "      <td>...</td>\n",
       "      <td>...</td>\n",
       "      <td>...</td>\n",
       "      <td>...</td>\n",
       "      <td>...</td>\n",
       "      <td>...</td>\n",
       "      <td>...</td>\n",
       "      <td>...</td>\n",
       "      <td>...</td>\n",
       "      <td>...</td>\n",
       "      <td>...</td>\n",
       "    </tr>\n",
       "    <tr>\n",
       "      <td>372</td>\n",
       "      <td>4370</td>\n",
       "      <td>339</td>\n",
       "      <td>3932</td>\n",
       "      <td>2020-05-01 00:00:00</td>\n",
       "      <td>248</td>\n",
       "      <td>3</td>\n",
       "      <td>78.0</td>\n",
       "      <td>194</td>\n",
       "      <td>GB</td>\n",
       "      <td>10</td>\n",
       "      <td>141</td>\n",
       "    </tr>\n",
       "    <tr>\n",
       "      <td>373</td>\n",
       "      <td>11194</td>\n",
       "      <td>343</td>\n",
       "      <td>11194</td>\n",
       "      <td>2020-05-01 00:00:00</td>\n",
       "      <td>44</td>\n",
       "      <td>4</td>\n",
       "      <td>277.0</td>\n",
       "      <td>759</td>\n",
       "      <td>ICT</td>\n",
       "      <td>18</td>\n",
       "      <td>759</td>\n",
       "    </tr>\n",
       "    <tr>\n",
       "      <td>374</td>\n",
       "      <td>17495</td>\n",
       "      <td>2627</td>\n",
       "      <td>18504</td>\n",
       "      <td>2020-05-01 00:00:00</td>\n",
       "      <td>654</td>\n",
       "      <td>146</td>\n",
       "      <td>1211.0</td>\n",
       "      <td>1052</td>\n",
       "      <td>KP</td>\n",
       "      <td>616</td>\n",
       "      <td>1052</td>\n",
       "    </tr>\n",
       "    <tr>\n",
       "      <td>375</td>\n",
       "      <td>53262</td>\n",
       "      <td>6340</td>\n",
       "      <td>82651</td>\n",
       "      <td>2020-05-01 00:00:00</td>\n",
       "      <td>1921</td>\n",
       "      <td>106</td>\n",
       "      <td>2610.0</td>\n",
       "      <td>3689</td>\n",
       "      <td>Punjab</td>\n",
       "      <td>1703</td>\n",
       "      <td>2737</td>\n",
       "    </tr>\n",
       "    <tr>\n",
       "      <td>376</td>\n",
       "      <td>54377</td>\n",
       "      <td>6053</td>\n",
       "      <td>54377</td>\n",
       "      <td>2020-05-01 00:00:00</td>\n",
       "      <td>1222</td>\n",
       "      <td>112</td>\n",
       "      <td>3473.0</td>\n",
       "      <td>2587</td>\n",
       "      <td>Sindh</td>\n",
       "      <td>1246</td>\n",
       "      <td>2587</td>\n",
       "    </tr>\n",
       "  </tbody>\n",
       "</table>\n",
       "<p>377 rows × 11 columns</p>\n",
       "</div>"
      ],
      "text/plain": [
       "     CUMULATIVE  CUMULATIVE  TEST POSITIVE  CUMULATIVE  TESTS PERFORMED  \\\n",
       "0            48                          2                           80   \n",
       "1            61                          0                           95   \n",
       "2            84                         14                          171   \n",
       "3            20                          0                           28   \n",
       "4             3                          0                            0   \n",
       "..          ...                        ...                          ...   \n",
       "372        4370                        339                         3932   \n",
       "373       11194                        343                        11194   \n",
       "374       17495                       2627                        18504   \n",
       "375       53262                       6340                        82651   \n",
       "376       54377                       6053                        54377   \n",
       "\n",
       "                    DATE  DISCHARGED  EXPIRED  HOME QUARANTINE  \\\n",
       "0    2020-03-11 00:00:00           0        0              NaN   \n",
       "1    2020-03-11 00:00:00           0        0              NaN   \n",
       "2    2020-03-11 00:00:00           1        0              NaN   \n",
       "3    2020-03-11 00:00:00           0        0              NaN   \n",
       "4    2020-03-11 00:00:00           0        0              NaN   \n",
       "..                   ...         ...      ...              ...   \n",
       "372  2020-05-01 00:00:00         248        3             78.0   \n",
       "373  2020-05-01 00:00:00          44        4            277.0   \n",
       "374  2020-05-01 00:00:00         654      146           1211.0   \n",
       "375  2020-05-01 00:00:00        1921      106           2610.0   \n",
       "376  2020-05-01 00:00:00        1222      112           3473.0   \n",
       "\n",
       "     NEW  (LAST 24 HRS)  REGION  STILL ADMITTED  \\\n",
       "0                     3     ICT               2   \n",
       "1                     6  Punjab               0   \n",
       "2                     1   Sindh              13   \n",
       "3                     0      KP               0   \n",
       "4                     0    KPTD               0   \n",
       "..                  ...     ...             ...   \n",
       "372                 194      GB              10   \n",
       "373                 759     ICT              18   \n",
       "374                1052      KP             616   \n",
       "375                3689  Punjab            1703   \n",
       "376                2587   Sindh            1246   \n",
       "\n",
       "    TESTS  PERFORMED IN LAST 24 HOURS  \n",
       "0                                   8  \n",
       "1                                   7  \n",
       "2                                  55  \n",
       "3                                   2  \n",
       "4                                   0  \n",
       "..                                ...  \n",
       "372                               141  \n",
       "373                               759  \n",
       "374                              1052  \n",
       "375                              2737  \n",
       "376                              2587  \n",
       "\n",
       "[377 rows x 11 columns]"
      ]
     },
     "execution_count": 7,
     "metadata": {},
     "output_type": "execute_result"
    }
   ],
   "source": [
    "sheet1.drop(['UNNAMED: 0'], axis=1, inplace=True)\n",
    "sheet1"
   ]
  },
  {
   "cell_type": "markdown",
   "metadata": {
    "colab_type": "text",
    "id": "OiBlF6yrn4Dv"
   },
   "source": [
    "**Finding which column has missing data**"
   ]
  },
  {
   "cell_type": "code",
   "execution_count": 8,
   "metadata": {
    "colab": {
     "base_uri": "https://localhost:8080/",
     "height": 221
    },
    "colab_type": "code",
    "id": "E-4M08wln4Dw",
    "outputId": "34631e2f-3655-48df-e262-7abba1371815"
   },
   "outputs": [
    {
     "data": {
      "text/plain": [
       "CUMULATIVE                             0\n",
       "CUMULATIVE  TEST POSITIVE              0\n",
       "CUMULATIVE  TESTS PERFORMED            0\n",
       "DATE                                   0\n",
       "DISCHARGED                             0\n",
       "EXPIRED                                0\n",
       "HOME QUARANTINE                      139\n",
       "NEW  (LAST 24 HRS)                     0\n",
       "REGION                                 0\n",
       "STILL ADMITTED                         0\n",
       "TESTS  PERFORMED IN LAST 24 HOURS      0\n",
       "dtype: int64"
      ]
     },
     "execution_count": 8,
     "metadata": {},
     "output_type": "execute_result"
    }
   ],
   "source": [
    "sheet1.isnull().sum()"
   ]
  },
  {
   "cell_type": "markdown",
   "metadata": {
    "colab_type": "text",
    "id": "n-pP-Vyfn4D1"
   },
   "source": [
    "**Filling the empty boxes with 0 (zeros)**"
   ]
  },
  {
   "cell_type": "code",
   "execution_count": 9,
   "metadata": {
    "colab": {
     "base_uri": "https://localhost:8080/",
     "height": 221
    },
    "colab_type": "code",
    "id": "gZl4slIsn4D2",
    "outputId": "9395bff9-a275-4176-99c1-1700951a8794"
   },
   "outputs": [
    {
     "data": {
      "text/plain": [
       "CUMULATIVE                           0\n",
       "CUMULATIVE  TEST POSITIVE            0\n",
       "CUMULATIVE  TESTS PERFORMED          0\n",
       "DATE                                 0\n",
       "DISCHARGED                           0\n",
       "EXPIRED                              0\n",
       "HOME QUARANTINE                      0\n",
       "NEW  (LAST 24 HRS)                   0\n",
       "REGION                               0\n",
       "STILL ADMITTED                       0\n",
       "TESTS  PERFORMED IN LAST 24 HOURS    0\n",
       "dtype: int64"
      ]
     },
     "execution_count": 9,
     "metadata": {},
     "output_type": "execute_result"
    }
   ],
   "source": [
    "sheet1=sheet1.fillna(0)\n",
    "sheet1.isnull().sum()"
   ]
  },
  {
   "cell_type": "markdown",
   "metadata": {
    "colab_type": "text",
    "id": "DUsCFD8Gn4EB"
   },
   "source": [
    "**Checking the Data Types of the columns**"
   ]
  },
  {
   "cell_type": "code",
   "execution_count": 10,
   "metadata": {
    "colab": {
     "base_uri": "https://localhost:8080/",
     "height": 221
    },
    "colab_type": "code",
    "id": "PE5yJIVWn4EC",
    "outputId": "ba8ba7c5-9abd-44e0-83c2-6223d3eda008"
   },
   "outputs": [
    {
     "data": {
      "text/plain": [
       "CUMULATIVE                             int64\n",
       "CUMULATIVE  TEST POSITIVE              int64\n",
       "CUMULATIVE  TESTS PERFORMED            int64\n",
       "DATE                                  object\n",
       "DISCHARGED                             int64\n",
       "EXPIRED                                int64\n",
       "HOME QUARANTINE                      float64\n",
       "NEW  (LAST 24 HRS)                     int64\n",
       "REGION                                object\n",
       "STILL ADMITTED                         int64\n",
       "TESTS  PERFORMED IN LAST 24 HOURS     object\n",
       "dtype: object"
      ]
     },
     "execution_count": 10,
     "metadata": {},
     "output_type": "execute_result"
    }
   ],
   "source": [
    "sheet1.dtypes"
   ]
  },
  {
   "cell_type": "markdown",
   "metadata": {
    "colab_type": "text",
    "id": "fIqL8nKXn4EI"
   },
   "source": [
    "**Changing the datatype and syntax of 'DATE' column**"
   ]
  },
  {
   "cell_type": "code",
   "execution_count": 11,
   "metadata": {
    "colab": {},
    "colab_type": "code",
    "id": "PdoLt2drn4EK"
   },
   "outputs": [],
   "source": [
    "sheet1['DATE']=pd.to_datetime(sheet1['DATE']).dt.date"
   ]
  },
  {
   "cell_type": "markdown",
   "metadata": {
    "colab_type": "text",
    "id": "n5MxhXDhn4EP"
   },
   "source": [
    "**Changing the datatype of TESTS  PERFORMED IN LAST 24 HOURS' from object to float64**"
   ]
  },
  {
   "cell_type": "code",
   "execution_count": 12,
   "metadata": {
    "colab": {
     "base_uri": "https://localhost:8080/",
     "height": 34
    },
    "colab_type": "code",
    "id": "zjltMSy8pTz-",
    "outputId": "95e08430-3597-4a25-9bb9-62a353e5e421"
   },
   "outputs": [
    {
     "data": {
      "text/plain": [
       "'No 0'"
      ]
     },
     "execution_count": 12,
     "metadata": {},
     "output_type": "execute_result"
    }
   ],
   "source": [
    "sheet1['TESTS  PERFORMED IN LAST 24 HOURS'][50]"
   ]
  },
  {
   "cell_type": "code",
   "execution_count": 13,
   "metadata": {
    "colab": {
     "base_uri": "https://localhost:8080/",
     "height": 34
    },
    "colab_type": "code",
    "id": "nR6l-facn4EQ",
    "outputId": "275e0c24-8203-4b0b-f812-3cf5d9bd96d8"
   },
   "outputs": [
    {
     "data": {
      "text/plain": [
       "nan"
      ]
     },
     "execution_count": 13,
     "metadata": {},
     "output_type": "execute_result"
    }
   ],
   "source": [
    "sheet1['TESTS  PERFORMED IN LAST 24 HOURS'] = pd.to_numeric(sheet1['TESTS  PERFORMED IN LAST 24 HOURS'], errors='coerce')\n",
    "sheet1['TESTS  PERFORMED IN LAST 24 HOURS'][50]"
   ]
  },
  {
   "cell_type": "markdown",
   "metadata": {
    "colab_type": "text",
    "id": "uuLssMuUn4EZ"
   },
   "source": [
    "**Replacing the NaN value with zero in the column**"
   ]
  },
  {
   "cell_type": "code",
   "execution_count": 14,
   "metadata": {
    "colab": {
     "base_uri": "https://localhost:8080/",
     "height": 34
    },
    "colab_type": "code",
    "id": "smQH456pn4Eb",
    "outputId": "582aaf50-0c09-4678-dd3f-e6a7169424b7"
   },
   "outputs": [
    {
     "data": {
      "text/plain": [
       "0.0"
      ]
     },
     "execution_count": 14,
     "metadata": {},
     "output_type": "execute_result"
    }
   ],
   "source": [
    "sheet1 = sheet1.replace(np.nan, 0, regex=True)\n",
    "sheet1['TESTS  PERFORMED IN LAST 24 HOURS'][50]"
   ]
  },
  {
   "cell_type": "markdown",
   "metadata": {
    "colab_type": "text",
    "id": "zFVPgu81n4Ei"
   },
   "source": [
    "**Changing the datatype of the 'TESTS  PERFORMED IN LAST 24 HOURS' from float64 to int64**"
   ]
  },
  {
   "cell_type": "code",
   "execution_count": 15,
   "metadata": {
    "colab": {},
    "colab_type": "code",
    "id": "sXOrgWaFn4Ej"
   },
   "outputs": [],
   "source": [
    "sheet1['TESTS  PERFORMED IN LAST 24 HOURS']=sheet1['TESTS  PERFORMED IN LAST 24 HOURS'].apply(np.int64)"
   ]
  },
  {
   "cell_type": "code",
   "execution_count": 16,
   "metadata": {
    "colab": {
     "base_uri": "https://localhost:8080/",
     "height": 34
    },
    "colab_type": "code",
    "id": "xO9OQKCRn4Er",
    "outputId": "65ae782f-ddb5-451a-dc94-ffa2a4c6c18c"
   },
   "outputs": [
    {
     "data": {
      "text/plain": [
       "0"
      ]
     },
     "execution_count": 16,
     "metadata": {},
     "output_type": "execute_result"
    }
   ],
   "source": [
    "sheet1['TESTS  PERFORMED IN LAST 24 HOURS'][50]"
   ]
  },
  {
   "cell_type": "markdown",
   "metadata": {
    "colab_type": "text",
    "id": "11D6Ru9Wn4Ez"
   },
   "source": [
    "**Changing the datatype of 'HOME QUARANTINE' from float64 to \n",
    "int64**"
   ]
  },
  {
   "cell_type": "code",
   "execution_count": 17,
   "metadata": {
    "colab": {},
    "colab_type": "code",
    "id": "RjBMx0QEn4E1"
   },
   "outputs": [],
   "source": [
    "sheet1['HOME QUARANTINE']=sheet1['HOME QUARANTINE'].apply(np.int64)"
   ]
  },
  {
   "cell_type": "markdown",
   "metadata": {
    "colab_type": "text",
    "id": "Z7FjrGs-n4E-"
   },
   "source": [
    "**Again checking the datatypes of all the columns**"
   ]
  },
  {
   "cell_type": "code",
   "execution_count": 18,
   "metadata": {
    "colab": {
     "base_uri": "https://localhost:8080/",
     "height": 221
    },
    "colab_type": "code",
    "id": "8UMgWJ3Zn4E_",
    "outputId": "01ba3463-0ae8-4cdf-a6cb-cc20df91f5f3"
   },
   "outputs": [
    {
     "data": {
      "text/plain": [
       "CUMULATIVE                            int64\n",
       "CUMULATIVE  TEST POSITIVE             int64\n",
       "CUMULATIVE  TESTS PERFORMED           int64\n",
       "DATE                                 object\n",
       "DISCHARGED                            int64\n",
       "EXPIRED                               int64\n",
       "HOME QUARANTINE                       int64\n",
       "NEW  (LAST 24 HRS)                    int64\n",
       "REGION                               object\n",
       "STILL ADMITTED                        int64\n",
       "TESTS  PERFORMED IN LAST 24 HOURS     int64\n",
       "dtype: object"
      ]
     },
     "execution_count": 18,
     "metadata": {},
     "output_type": "execute_result"
    }
   ],
   "source": [
    "sheet1.dtypes"
   ]
  },
  {
   "cell_type": "markdown",
   "metadata": {
    "colab_type": "text",
    "id": "8hlKPEpPn4FE"
   },
   "source": [
    "**Padding will be done on the 'REGION' column**"
   ]
  },
  {
   "cell_type": "code",
   "execution_count": 19,
   "metadata": {
    "colab": {},
    "colab_type": "code",
    "id": "7fIV823Un4FF"
   },
   "outputs": [],
   "source": [
    "sheet1['REGION']=sheet1['REGION'].str.pad(12,side='right')"
   ]
  },
  {
   "cell_type": "markdown",
   "metadata": {
    "colab_type": "text",
    "id": "onmWPlVEn4FL"
   },
   "source": [
    "**Displaying Sheet1 Again**"
   ]
  },
  {
   "cell_type": "code",
   "execution_count": 20,
   "metadata": {
    "colab": {
     "base_uri": "https://localhost:8080/",
     "height": 640
    },
    "colab_type": "code",
    "id": "8xAU2YTzn4FM",
    "outputId": "7740b0c8-819e-4961-866d-f2cd1272a24e"
   },
   "outputs": [
    {
     "data": {
      "text/html": [
       "<div>\n",
       "<style scoped>\n",
       "    .dataframe tbody tr th:only-of-type {\n",
       "        vertical-align: middle;\n",
       "    }\n",
       "\n",
       "    .dataframe tbody tr th {\n",
       "        vertical-align: top;\n",
       "    }\n",
       "\n",
       "    .dataframe thead th {\n",
       "        text-align: right;\n",
       "    }\n",
       "</style>\n",
       "<table border=\"1\" class=\"dataframe\">\n",
       "  <thead>\n",
       "    <tr style=\"text-align: right;\">\n",
       "      <th></th>\n",
       "      <th>CUMULATIVE</th>\n",
       "      <th>CUMULATIVE  TEST POSITIVE</th>\n",
       "      <th>CUMULATIVE  TESTS PERFORMED</th>\n",
       "      <th>DATE</th>\n",
       "      <th>DISCHARGED</th>\n",
       "      <th>EXPIRED</th>\n",
       "      <th>HOME QUARANTINE</th>\n",
       "      <th>NEW  (LAST 24 HRS)</th>\n",
       "      <th>REGION</th>\n",
       "      <th>STILL ADMITTED</th>\n",
       "      <th>TESTS  PERFORMED IN LAST 24 HOURS</th>\n",
       "    </tr>\n",
       "  </thead>\n",
       "  <tbody>\n",
       "    <tr>\n",
       "      <td>0</td>\n",
       "      <td>48</td>\n",
       "      <td>2</td>\n",
       "      <td>80</td>\n",
       "      <td>2020-03-11</td>\n",
       "      <td>0</td>\n",
       "      <td>0</td>\n",
       "      <td>0</td>\n",
       "      <td>3</td>\n",
       "      <td>ICT</td>\n",
       "      <td>2</td>\n",
       "      <td>8</td>\n",
       "    </tr>\n",
       "    <tr>\n",
       "      <td>1</td>\n",
       "      <td>61</td>\n",
       "      <td>0</td>\n",
       "      <td>95</td>\n",
       "      <td>2020-03-11</td>\n",
       "      <td>0</td>\n",
       "      <td>0</td>\n",
       "      <td>0</td>\n",
       "      <td>6</td>\n",
       "      <td>Punjab</td>\n",
       "      <td>0</td>\n",
       "      <td>7</td>\n",
       "    </tr>\n",
       "    <tr>\n",
       "      <td>2</td>\n",
       "      <td>84</td>\n",
       "      <td>14</td>\n",
       "      <td>171</td>\n",
       "      <td>2020-03-11</td>\n",
       "      <td>1</td>\n",
       "      <td>0</td>\n",
       "      <td>0</td>\n",
       "      <td>1</td>\n",
       "      <td>Sindh</td>\n",
       "      <td>13</td>\n",
       "      <td>55</td>\n",
       "    </tr>\n",
       "    <tr>\n",
       "      <td>3</td>\n",
       "      <td>20</td>\n",
       "      <td>0</td>\n",
       "      <td>28</td>\n",
       "      <td>2020-03-11</td>\n",
       "      <td>0</td>\n",
       "      <td>0</td>\n",
       "      <td>0</td>\n",
       "      <td>0</td>\n",
       "      <td>KP</td>\n",
       "      <td>0</td>\n",
       "      <td>2</td>\n",
       "    </tr>\n",
       "    <tr>\n",
       "      <td>4</td>\n",
       "      <td>3</td>\n",
       "      <td>0</td>\n",
       "      <td>0</td>\n",
       "      <td>2020-03-11</td>\n",
       "      <td>0</td>\n",
       "      <td>0</td>\n",
       "      <td>0</td>\n",
       "      <td>0</td>\n",
       "      <td>KPTD</td>\n",
       "      <td>0</td>\n",
       "      <td>0</td>\n",
       "    </tr>\n",
       "    <tr>\n",
       "      <td>...</td>\n",
       "      <td>...</td>\n",
       "      <td>...</td>\n",
       "      <td>...</td>\n",
       "      <td>...</td>\n",
       "      <td>...</td>\n",
       "      <td>...</td>\n",
       "      <td>...</td>\n",
       "      <td>...</td>\n",
       "      <td>...</td>\n",
       "      <td>...</td>\n",
       "      <td>...</td>\n",
       "    </tr>\n",
       "    <tr>\n",
       "      <td>372</td>\n",
       "      <td>4370</td>\n",
       "      <td>339</td>\n",
       "      <td>3932</td>\n",
       "      <td>2020-05-01</td>\n",
       "      <td>248</td>\n",
       "      <td>3</td>\n",
       "      <td>78</td>\n",
       "      <td>194</td>\n",
       "      <td>GB</td>\n",
       "      <td>10</td>\n",
       "      <td>141</td>\n",
       "    </tr>\n",
       "    <tr>\n",
       "      <td>373</td>\n",
       "      <td>11194</td>\n",
       "      <td>343</td>\n",
       "      <td>11194</td>\n",
       "      <td>2020-05-01</td>\n",
       "      <td>44</td>\n",
       "      <td>4</td>\n",
       "      <td>277</td>\n",
       "      <td>759</td>\n",
       "      <td>ICT</td>\n",
       "      <td>18</td>\n",
       "      <td>759</td>\n",
       "    </tr>\n",
       "    <tr>\n",
       "      <td>374</td>\n",
       "      <td>17495</td>\n",
       "      <td>2627</td>\n",
       "      <td>18504</td>\n",
       "      <td>2020-05-01</td>\n",
       "      <td>654</td>\n",
       "      <td>146</td>\n",
       "      <td>1211</td>\n",
       "      <td>1052</td>\n",
       "      <td>KP</td>\n",
       "      <td>616</td>\n",
       "      <td>1052</td>\n",
       "    </tr>\n",
       "    <tr>\n",
       "      <td>375</td>\n",
       "      <td>53262</td>\n",
       "      <td>6340</td>\n",
       "      <td>82651</td>\n",
       "      <td>2020-05-01</td>\n",
       "      <td>1921</td>\n",
       "      <td>106</td>\n",
       "      <td>2610</td>\n",
       "      <td>3689</td>\n",
       "      <td>Punjab</td>\n",
       "      <td>1703</td>\n",
       "      <td>2737</td>\n",
       "    </tr>\n",
       "    <tr>\n",
       "      <td>376</td>\n",
       "      <td>54377</td>\n",
       "      <td>6053</td>\n",
       "      <td>54377</td>\n",
       "      <td>2020-05-01</td>\n",
       "      <td>1222</td>\n",
       "      <td>112</td>\n",
       "      <td>3473</td>\n",
       "      <td>2587</td>\n",
       "      <td>Sindh</td>\n",
       "      <td>1246</td>\n",
       "      <td>2587</td>\n",
       "    </tr>\n",
       "  </tbody>\n",
       "</table>\n",
       "<p>377 rows × 11 columns</p>\n",
       "</div>"
      ],
      "text/plain": [
       "     CUMULATIVE  CUMULATIVE  TEST POSITIVE  CUMULATIVE  TESTS PERFORMED  \\\n",
       "0            48                          2                           80   \n",
       "1            61                          0                           95   \n",
       "2            84                         14                          171   \n",
       "3            20                          0                           28   \n",
       "4             3                          0                            0   \n",
       "..          ...                        ...                          ...   \n",
       "372        4370                        339                         3932   \n",
       "373       11194                        343                        11194   \n",
       "374       17495                       2627                        18504   \n",
       "375       53262                       6340                        82651   \n",
       "376       54377                       6053                        54377   \n",
       "\n",
       "           DATE  DISCHARGED  EXPIRED  HOME QUARANTINE  NEW  (LAST 24 HRS)  \\\n",
       "0    2020-03-11           0        0                0                   3   \n",
       "1    2020-03-11           0        0                0                   6   \n",
       "2    2020-03-11           1        0                0                   1   \n",
       "3    2020-03-11           0        0                0                   0   \n",
       "4    2020-03-11           0        0                0                   0   \n",
       "..          ...         ...      ...              ...                 ...   \n",
       "372  2020-05-01         248        3               78                 194   \n",
       "373  2020-05-01          44        4              277                 759   \n",
       "374  2020-05-01         654      146             1211                1052   \n",
       "375  2020-05-01        1921      106             2610                3689   \n",
       "376  2020-05-01        1222      112             3473                2587   \n",
       "\n",
       "           REGION  STILL ADMITTED  TESTS  PERFORMED IN LAST 24 HOURS  \n",
       "0    ICT                        2                                  8  \n",
       "1    Punjab                     0                                  7  \n",
       "2    Sindh                     13                                 55  \n",
       "3    KP                         0                                  2  \n",
       "4    KPTD                       0                                  0  \n",
       "..            ...             ...                                ...  \n",
       "372  GB                        10                                141  \n",
       "373  ICT                       18                                759  \n",
       "374  KP                       616                               1052  \n",
       "375  Punjab                  1703                               2737  \n",
       "376  Sindh                   1246                               2587  \n",
       "\n",
       "[377 rows x 11 columns]"
      ]
     },
     "execution_count": 20,
     "metadata": {},
     "output_type": "execute_result"
    }
   ],
   "source": [
    "sheet1"
   ]
  },
  {
   "cell_type": "markdown",
   "metadata": {
    "colab_type": "text",
    "id": "iCCLUUuuqh53"
   },
   "source": [
    "#### **SHEET 2:**"
   ]
  },
  {
   "cell_type": "markdown",
   "metadata": {
    "colab_type": "text",
    "id": "b6kg13YIqybR"
   },
   "source": [
    "**Displaying Sheet 2**"
   ]
  },
  {
   "cell_type": "code",
   "execution_count": 21,
   "metadata": {
    "colab": {
     "base_uri": "https://localhost:8080/",
     "height": 0
    },
    "colab_type": "code",
    "id": "hKMmIa3oq0zQ",
    "outputId": "3b08e799-1f17-413f-937b-51d0f3141671"
   },
   "outputs": [
    {
     "data": {
      "text/html": [
       "<div>\n",
       "<style scoped>\n",
       "    .dataframe tbody tr th:only-of-type {\n",
       "        vertical-align: middle;\n",
       "    }\n",
       "\n",
       "    .dataframe tbody tr th {\n",
       "        vertical-align: top;\n",
       "    }\n",
       "\n",
       "    .dataframe thead th {\n",
       "        text-align: right;\n",
       "    }\n",
       "</style>\n",
       "<table border=\"1\" class=\"dataframe\">\n",
       "  <thead>\n",
       "    <tr style=\"text-align: right;\">\n",
       "      <th></th>\n",
       "      <th>Date</th>\n",
       "      <th>Province Old</th>\n",
       "      <th>Suspected Cases Last Date</th>\n",
       "      <th>Suspected Cases Last 24 Hrs</th>\n",
       "      <th>Suspected Cases Cumulative</th>\n",
       "      <th>Lab Tests Last 24 Hrs</th>\n",
       "      <th>Lab Tests Cumulative</th>\n",
       "      <th>Confirmed Cases Last Date</th>\n",
       "      <th>Confirmed Cases Last 24 Hrs</th>\n",
       "      <th>Confirmed Cases Cumulative</th>\n",
       "      <th>...</th>\n",
       "      <th>Confirmed HW - Active Doctors</th>\n",
       "      <th>Confirmed HW - Active Nurses</th>\n",
       "      <th>Confirmed HW - Active Others</th>\n",
       "      <th>Confirmed HW - Active Total</th>\n",
       "      <th>Confirmed HW - Active Isolation</th>\n",
       "      <th>Confirmed HW - Active Hospital</th>\n",
       "      <th>Confirmed HW - Active Hospital Stable</th>\n",
       "      <th>Confirmed HW - Active Hospital Ventilator</th>\n",
       "      <th>Confirmed HW - Active Recovered</th>\n",
       "      <th>Confirmed HW - Active Deaths</th>\n",
       "    </tr>\n",
       "  </thead>\n",
       "  <tbody>\n",
       "    <tr>\n",
       "      <td>0</td>\n",
       "      <td>2020-04-04</td>\n",
       "      <td>AJK</td>\n",
       "      <td>322</td>\n",
       "      <td>21</td>\n",
       "      <td>343</td>\n",
       "      <td>21</td>\n",
       "      <td>343</td>\n",
       "      <td>9</td>\n",
       "      <td>2</td>\n",
       "      <td>11</td>\n",
       "      <td>...</td>\n",
       "      <td>0</td>\n",
       "      <td>0</td>\n",
       "      <td>0</td>\n",
       "      <td>0</td>\n",
       "      <td>0</td>\n",
       "      <td>0</td>\n",
       "      <td>0</td>\n",
       "      <td>0</td>\n",
       "      <td>0</td>\n",
       "      <td>0</td>\n",
       "    </tr>\n",
       "    <tr>\n",
       "      <td>1</td>\n",
       "      <td>2020-04-04</td>\n",
       "      <td>Balochistan</td>\n",
       "      <td>2171</td>\n",
       "      <td>230</td>\n",
       "      <td>2401</td>\n",
       "      <td>0</td>\n",
       "      <td>2401</td>\n",
       "      <td>169</td>\n",
       "      <td>6</td>\n",
       "      <td>175</td>\n",
       "      <td>...</td>\n",
       "      <td>0</td>\n",
       "      <td>0</td>\n",
       "      <td>0</td>\n",
       "      <td>0</td>\n",
       "      <td>0</td>\n",
       "      <td>0</td>\n",
       "      <td>0</td>\n",
       "      <td>0</td>\n",
       "      <td>0</td>\n",
       "      <td>0</td>\n",
       "    </tr>\n",
       "    <tr>\n",
       "      <td>2</td>\n",
       "      <td>2020-04-04</td>\n",
       "      <td>GB</td>\n",
       "      <td>961</td>\n",
       "      <td>2</td>\n",
       "      <td>963</td>\n",
       "      <td>844</td>\n",
       "      <td>860</td>\n",
       "      <td>190</td>\n",
       "      <td>3</td>\n",
       "      <td>193</td>\n",
       "      <td>...</td>\n",
       "      <td>0</td>\n",
       "      <td>0</td>\n",
       "      <td>0</td>\n",
       "      <td>0</td>\n",
       "      <td>0</td>\n",
       "      <td>0</td>\n",
       "      <td>0</td>\n",
       "      <td>0</td>\n",
       "      <td>0</td>\n",
       "      <td>0</td>\n",
       "    </tr>\n",
       "    <tr>\n",
       "      <td>3</td>\n",
       "      <td>2020-04-04</td>\n",
       "      <td>ICT</td>\n",
       "      <td>2395</td>\n",
       "      <td>174</td>\n",
       "      <td>2569</td>\n",
       "      <td>174</td>\n",
       "      <td>2569</td>\n",
       "      <td>68</td>\n",
       "      <td>7</td>\n",
       "      <td>75</td>\n",
       "      <td>...</td>\n",
       "      <td>0</td>\n",
       "      <td>0</td>\n",
       "      <td>0</td>\n",
       "      <td>0</td>\n",
       "      <td>0</td>\n",
       "      <td>0</td>\n",
       "      <td>0</td>\n",
       "      <td>0</td>\n",
       "      <td>0</td>\n",
       "      <td>0</td>\n",
       "    </tr>\n",
       "    <tr>\n",
       "      <td>4</td>\n",
       "      <td>2020-04-04</td>\n",
       "      <td>KP</td>\n",
       "      <td>1938</td>\n",
       "      <td>431</td>\n",
       "      <td>2369</td>\n",
       "      <td>181</td>\n",
       "      <td>1624</td>\n",
       "      <td>311</td>\n",
       "      <td>32</td>\n",
       "      <td>343</td>\n",
       "      <td>...</td>\n",
       "      <td>0</td>\n",
       "      <td>0</td>\n",
       "      <td>0</td>\n",
       "      <td>0</td>\n",
       "      <td>0</td>\n",
       "      <td>0</td>\n",
       "      <td>0</td>\n",
       "      <td>0</td>\n",
       "      <td>0</td>\n",
       "      <td>0</td>\n",
       "    </tr>\n",
       "    <tr>\n",
       "      <td>...</td>\n",
       "      <td>...</td>\n",
       "      <td>...</td>\n",
       "      <td>...</td>\n",
       "      <td>...</td>\n",
       "      <td>...</td>\n",
       "      <td>...</td>\n",
       "      <td>...</td>\n",
       "      <td>...</td>\n",
       "      <td>...</td>\n",
       "      <td>...</td>\n",
       "      <td>...</td>\n",
       "      <td>...</td>\n",
       "      <td>...</td>\n",
       "      <td>...</td>\n",
       "      <td>...</td>\n",
       "      <td>...</td>\n",
       "      <td>...</td>\n",
       "      <td>...</td>\n",
       "      <td>...</td>\n",
       "      <td>...</td>\n",
       "      <td>...</td>\n",
       "    </tr>\n",
       "    <tr>\n",
       "      <td>149</td>\n",
       "      <td>2020-04-25</td>\n",
       "      <td>GB</td>\n",
       "      <td>3434</td>\n",
       "      <td>157</td>\n",
       "      <td>3591</td>\n",
       "      <td>111</td>\n",
       "      <td>3273</td>\n",
       "      <td>307</td>\n",
       "      <td>1</td>\n",
       "      <td>308</td>\n",
       "      <td>...</td>\n",
       "      <td>1</td>\n",
       "      <td>0</td>\n",
       "      <td>16</td>\n",
       "      <td>17</td>\n",
       "      <td>0</td>\n",
       "      <td>14</td>\n",
       "      <td>14</td>\n",
       "      <td>0</td>\n",
       "      <td>1</td>\n",
       "      <td>2</td>\n",
       "    </tr>\n",
       "    <tr>\n",
       "      <td>150</td>\n",
       "      <td>2020-04-25</td>\n",
       "      <td>ICT</td>\n",
       "      <td>8059</td>\n",
       "      <td>396</td>\n",
       "      <td>8455</td>\n",
       "      <td>396</td>\n",
       "      <td>8455</td>\n",
       "      <td>223</td>\n",
       "      <td>12</td>\n",
       "      <td>235</td>\n",
       "      <td>...</td>\n",
       "      <td>14</td>\n",
       "      <td>7</td>\n",
       "      <td>12</td>\n",
       "      <td>33</td>\n",
       "      <td>27</td>\n",
       "      <td>1</td>\n",
       "      <td>1</td>\n",
       "      <td>0</td>\n",
       "      <td>4</td>\n",
       "      <td>1</td>\n",
       "    </tr>\n",
       "    <tr>\n",
       "      <td>151</td>\n",
       "      <td>2020-04-25</td>\n",
       "      <td>KP</td>\n",
       "      <td>12100</td>\n",
       "      <td>821</td>\n",
       "      <td>12921</td>\n",
       "      <td>821</td>\n",
       "      <td>13930</td>\n",
       "      <td>1708</td>\n",
       "      <td>85</td>\n",
       "      <td>1793</td>\n",
       "      <td>...</td>\n",
       "      <td>36</td>\n",
       "      <td>6</td>\n",
       "      <td>34</td>\n",
       "      <td>76</td>\n",
       "      <td>58</td>\n",
       "      <td>2</td>\n",
       "      <td>2</td>\n",
       "      <td>0</td>\n",
       "      <td>15</td>\n",
       "      <td>1</td>\n",
       "    </tr>\n",
       "    <tr>\n",
       "      <td>152</td>\n",
       "      <td>2020-04-25</td>\n",
       "      <td>Punjab</td>\n",
       "      <td>41126</td>\n",
       "      <td>1330</td>\n",
       "      <td>42456</td>\n",
       "      <td>1755</td>\n",
       "      <td>71726</td>\n",
       "      <td>5046</td>\n",
       "      <td>332</td>\n",
       "      <td>5378</td>\n",
       "      <td>...</td>\n",
       "      <td>55</td>\n",
       "      <td>16</td>\n",
       "      <td>22</td>\n",
       "      <td>93</td>\n",
       "      <td>8</td>\n",
       "      <td>50</td>\n",
       "      <td>50</td>\n",
       "      <td>0</td>\n",
       "      <td>35</td>\n",
       "      <td>0</td>\n",
       "    </tr>\n",
       "    <tr>\n",
       "      <td>153</td>\n",
       "      <td>2020-04-25</td>\n",
       "      <td>Sindh</td>\n",
       "      <td>35582</td>\n",
       "      <td>2599</td>\n",
       "      <td>38181</td>\n",
       "      <td>2599</td>\n",
       "      <td>38181</td>\n",
       "      <td>3945</td>\n",
       "      <td>287</td>\n",
       "      <td>4232</td>\n",
       "      <td>...</td>\n",
       "      <td>29</td>\n",
       "      <td>17</td>\n",
       "      <td>31</td>\n",
       "      <td>77</td>\n",
       "      <td>0</td>\n",
       "      <td>62</td>\n",
       "      <td>62</td>\n",
       "      <td>0</td>\n",
       "      <td>15</td>\n",
       "      <td>0</td>\n",
       "    </tr>\n",
       "  </tbody>\n",
       "</table>\n",
       "<p>154 rows × 52 columns</p>\n",
       "</div>"
      ],
      "text/plain": [
       "          Date Province Old  Suspected Cases Last Date  \\\n",
       "0   2020-04-04          AJK                        322   \n",
       "1   2020-04-04  Balochistan                       2171   \n",
       "2   2020-04-04           GB                        961   \n",
       "3   2020-04-04          ICT                       2395   \n",
       "4   2020-04-04           KP                       1938   \n",
       "..         ...          ...                        ...   \n",
       "149 2020-04-25           GB                       3434   \n",
       "150 2020-04-25          ICT                       8059   \n",
       "151 2020-04-25           KP                      12100   \n",
       "152 2020-04-25       Punjab                      41126   \n",
       "153 2020-04-25        Sindh                      35582   \n",
       "\n",
       "     Suspected Cases Last 24 Hrs  Suspected Cases Cumulative  \\\n",
       "0                             21                         343   \n",
       "1                            230                        2401   \n",
       "2                              2                         963   \n",
       "3                            174                        2569   \n",
       "4                            431                        2369   \n",
       "..                           ...                         ...   \n",
       "149                          157                        3591   \n",
       "150                          396                        8455   \n",
       "151                          821                       12921   \n",
       "152                         1330                       42456   \n",
       "153                         2599                       38181   \n",
       "\n",
       "     Lab Tests Last 24 Hrs  Lab Tests Cumulative  Confirmed Cases Last Date  \\\n",
       "0                       21                   343                          9   \n",
       "1                        0                  2401                        169   \n",
       "2                      844                   860                        190   \n",
       "3                      174                  2569                         68   \n",
       "4                      181                  1624                        311   \n",
       "..                     ...                   ...                        ...   \n",
       "149                    111                  3273                        307   \n",
       "150                    396                  8455                        223   \n",
       "151                    821                 13930                       1708   \n",
       "152                   1755                 71726                       5046   \n",
       "153                   2599                 38181                       3945   \n",
       "\n",
       "     Confirmed Cases Last 24 Hrs  Confirmed Cases Cumulative  ...  \\\n",
       "0                              2                          11  ...   \n",
       "1                              6                         175  ...   \n",
       "2                              3                         193  ...   \n",
       "3                              7                          75  ...   \n",
       "4                             32                         343  ...   \n",
       "..                           ...                         ...  ...   \n",
       "149                            1                         308  ...   \n",
       "150                           12                         235  ...   \n",
       "151                           85                        1793  ...   \n",
       "152                          332                        5378  ...   \n",
       "153                          287                        4232  ...   \n",
       "\n",
       "     Confirmed HW - Active Doctors  Confirmed HW - Active Nurses  \\\n",
       "0                                0                             0   \n",
       "1                                0                             0   \n",
       "2                                0                             0   \n",
       "3                                0                             0   \n",
       "4                                0                             0   \n",
       "..                             ...                           ...   \n",
       "149                              1                             0   \n",
       "150                             14                             7   \n",
       "151                             36                             6   \n",
       "152                             55                            16   \n",
       "153                             29                            17   \n",
       "\n",
       "     Confirmed HW - Active Others  Confirmed HW - Active Total  \\\n",
       "0                               0                            0   \n",
       "1                               0                            0   \n",
       "2                               0                            0   \n",
       "3                               0                            0   \n",
       "4                               0                            0   \n",
       "..                            ...                          ...   \n",
       "149                            16                           17   \n",
       "150                            12                           33   \n",
       "151                            34                           76   \n",
       "152                            22                           93   \n",
       "153                            31                           77   \n",
       "\n",
       "     Confirmed HW - Active Isolation  Confirmed HW - Active Hospital  \\\n",
       "0                                  0                               0   \n",
       "1                                  0                               0   \n",
       "2                                  0                               0   \n",
       "3                                  0                               0   \n",
       "4                                  0                               0   \n",
       "..                               ...                             ...   \n",
       "149                                0                              14   \n",
       "150                               27                               1   \n",
       "151                               58                               2   \n",
       "152                                8                              50   \n",
       "153                                0                              62   \n",
       "\n",
       "     Confirmed HW - Active Hospital Stable  \\\n",
       "0                                        0   \n",
       "1                                        0   \n",
       "2                                        0   \n",
       "3                                        0   \n",
       "4                                        0   \n",
       "..                                     ...   \n",
       "149                                     14   \n",
       "150                                      1   \n",
       "151                                      2   \n",
       "152                                     50   \n",
       "153                                     62   \n",
       "\n",
       "     Confirmed HW - Active Hospital Ventilator  \\\n",
       "0                                            0   \n",
       "1                                            0   \n",
       "2                                            0   \n",
       "3                                            0   \n",
       "4                                            0   \n",
       "..                                         ...   \n",
       "149                                          0   \n",
       "150                                          0   \n",
       "151                                          0   \n",
       "152                                          0   \n",
       "153                                          0   \n",
       "\n",
       "     Confirmed HW - Active Recovered  Confirmed HW - Active Deaths  \n",
       "0                                  0                             0  \n",
       "1                                  0                             0  \n",
       "2                                  0                             0  \n",
       "3                                  0                             0  \n",
       "4                                  0                             0  \n",
       "..                               ...                           ...  \n",
       "149                                1                             2  \n",
       "150                                4                             1  \n",
       "151                               15                             1  \n",
       "152                               35                             0  \n",
       "153                               15                             0  \n",
       "\n",
       "[154 rows x 52 columns]"
      ]
     },
     "execution_count": 21,
     "metadata": {},
     "output_type": "execute_result"
    }
   ],
   "source": [
    "sheet2"
   ]
  },
  {
   "cell_type": "markdown",
   "metadata": {
    "colab_type": "text",
    "id": "62vs4_dbq4li"
   },
   "source": [
    "**Capitalize all the column headings**"
   ]
  },
  {
   "cell_type": "code",
   "execution_count": 22,
   "metadata": {
    "colab": {
     "base_uri": "https://localhost:8080/",
     "height": 0
    },
    "colab_type": "code",
    "id": "DfPY9YEFq36-",
    "outputId": "7dc6bd96-9c48-423d-f33e-7d34c7e7bba4"
   },
   "outputs": [
    {
     "data": {
      "text/plain": [
       "Index(['DATE', 'PROVINCE OLD', 'SUSPECTED CASES LAST DATE',\n",
       "       'SUSPECTED CASES LAST 24 HRS', 'SUSPECTED CASES CUMULATIVE',\n",
       "       'LAB TESTS LAST 24 HRS', 'LAB TESTS CUMULATIVE',\n",
       "       'CONFIRMED CASES LAST DATE', 'CONFIRMED CASES LAST 24 HRS',\n",
       "       'CONFIRMED CASES CUMULATIVE', 'DEATHS LAST DATE', 'DEATHS LAST 24 HRS',\n",
       "       'DEATHS CUMULATIVE', 'TRANSMISSION TOTAL',\n",
       "       'TRANSMISSION FOREIGN - IRAN', 'TRANSMISSION FOREIGN - IRAN %',\n",
       "       'TRANSMISSION FOREIGN - OTHER', 'TRANSMISSION FOREIGN - OTHER %',\n",
       "       'TRANSMISSION LOCAL - TABLEEGH', 'TRANSMISSION LOCAL % - TABLEEGH',\n",
       "       'TRANSMISSION LOCAL - OTHERS', 'TRANSMISSION LOCAL % - OTHERS',\n",
       "       'TRANSMISSION LOCAL', 'TRANSMISSION LOCAL %', 'TOTAL HOSPITALS',\n",
       "       'BEDS FOR COVID', 'TOTAL ADMITTED', 'ADMITTED STABLE',\n",
       "       'ADMITTED CRITICAL', 'ADMITTED VENILATOR', 'HOME QUARANTINE',\n",
       "       'RECOVERED', 'DEATH', 'QUARANTINE FACILITIES', 'LAST 24 HRS ARRIVAL',\n",
       "       'LAST 24 HRS (LOCATION)', 'LAST 24 HRS DEPARTURE',\n",
       "       'CUMULATIVE QUARANTINED', 'NUMBER OF TESTS', 'RESULTS ACHIEVED',\n",
       "       'TEST POSITIVE CASES', 'TEST POSITIVE CASES %',\n",
       "       'CONFIRMED HW - ACTIVE DOCTORS', 'CONFIRMED HW - ACTIVE NURSES',\n",
       "       'CONFIRMED HW - ACTIVE OTHERS', 'CONFIRMED HW - ACTIVE TOTAL',\n",
       "       'CONFIRMED HW - ACTIVE ISOLATION', 'CONFIRMED HW - ACTIVE HOSPITAL',\n",
       "       'CONFIRMED HW - ACTIVE HOSPITAL STABLE',\n",
       "       'CONFIRMED HW - ACTIVE HOSPITAL VENTILATOR',\n",
       "       'CONFIRMED HW - ACTIVE RECOVERED', 'CONFIRMED HW - ACTIVE DEATHS'],\n",
       "      dtype='object')"
      ]
     },
     "execution_count": 22,
     "metadata": {},
     "output_type": "execute_result"
    }
   ],
   "source": [
    "sheet2.columns=sheet2.columns.str.upper().str.strip()\n",
    "sheet2.columns"
   ]
  },
  {
   "cell_type": "markdown",
   "metadata": {
    "colab_type": "text",
    "id": "5a826YEUrU2V"
   },
   "source": [
    "**Finding which column has missing data**"
   ]
  },
  {
   "cell_type": "code",
   "execution_count": 23,
   "metadata": {
    "colab": {
     "base_uri": "https://localhost:8080/",
     "height": 0
    },
    "colab_type": "code",
    "id": "64qB3v2xq3Fs",
    "outputId": "90e841ed-8d18-44a7-f43e-4e0fbf405c57"
   },
   "outputs": [
    {
     "data": {
      "text/plain": [
       "DATE                                         0\n",
       "PROVINCE OLD                                 0\n",
       "SUSPECTED CASES LAST DATE                    0\n",
       "SUSPECTED CASES LAST 24 HRS                  0\n",
       "SUSPECTED CASES CUMULATIVE                   0\n",
       "LAB TESTS LAST 24 HRS                        0\n",
       "LAB TESTS CUMULATIVE                         0\n",
       "CONFIRMED CASES LAST DATE                    0\n",
       "CONFIRMED CASES LAST 24 HRS                  0\n",
       "CONFIRMED CASES CUMULATIVE                   0\n",
       "DEATHS LAST DATE                             0\n",
       "DEATHS LAST 24 HRS                           0\n",
       "DEATHS CUMULATIVE                            0\n",
       "TRANSMISSION TOTAL                           0\n",
       "TRANSMISSION FOREIGN - IRAN                  0\n",
       "TRANSMISSION FOREIGN - IRAN %                0\n",
       "TRANSMISSION FOREIGN - OTHER                 0\n",
       "TRANSMISSION FOREIGN - OTHER %               0\n",
       "TRANSMISSION LOCAL - TABLEEGH                0\n",
       "TRANSMISSION LOCAL % - TABLEEGH              0\n",
       "TRANSMISSION LOCAL - OTHERS                  0\n",
       "TRANSMISSION LOCAL % - OTHERS                0\n",
       "TRANSMISSION LOCAL                           0\n",
       "TRANSMISSION LOCAL %                         0\n",
       "TOTAL HOSPITALS                              0\n",
       "BEDS FOR COVID                               0\n",
       "TOTAL ADMITTED                               0\n",
       "ADMITTED STABLE                              0\n",
       "ADMITTED CRITICAL                            0\n",
       "ADMITTED VENILATOR                           0\n",
       "HOME QUARANTINE                              0\n",
       "RECOVERED                                    0\n",
       "DEATH                                        0\n",
       "QUARANTINE FACILITIES                        0\n",
       "LAST 24 HRS ARRIVAL                          0\n",
       "LAST 24 HRS (LOCATION)                       0\n",
       "LAST 24 HRS DEPARTURE                        0\n",
       "CUMULATIVE QUARANTINED                       0\n",
       "NUMBER OF TESTS                              0\n",
       "RESULTS ACHIEVED                             0\n",
       "TEST POSITIVE CASES                          0\n",
       "TEST POSITIVE CASES %                        0\n",
       "CONFIRMED HW - ACTIVE DOCTORS                0\n",
       "CONFIRMED HW - ACTIVE NURSES                 0\n",
       "CONFIRMED HW - ACTIVE OTHERS                 0\n",
       "CONFIRMED HW - ACTIVE TOTAL                  0\n",
       "CONFIRMED HW - ACTIVE ISOLATION              0\n",
       "CONFIRMED HW - ACTIVE HOSPITAL               0\n",
       "CONFIRMED HW - ACTIVE HOSPITAL STABLE        0\n",
       "CONFIRMED HW - ACTIVE HOSPITAL VENTILATOR    0\n",
       "CONFIRMED HW - ACTIVE RECOVERED              0\n",
       "CONFIRMED HW - ACTIVE DEATHS                 0\n",
       "dtype: int64"
      ]
     },
     "execution_count": 23,
     "metadata": {},
     "output_type": "execute_result"
    }
   ],
   "source": [
    "sheet2.isnull().sum()"
   ]
  },
  {
   "cell_type": "markdown",
   "metadata": {
    "colab_type": "text",
    "id": "hPe2FtfCrshI"
   },
   "source": [
    "**Checking the Data Types of the columns**"
   ]
  },
  {
   "cell_type": "code",
   "execution_count": 24,
   "metadata": {
    "colab": {
     "base_uri": "https://localhost:8080/",
     "height": 0
    },
    "colab_type": "code",
    "id": "_IVjOnzHr02R",
    "outputId": "984b9980-8860-488f-a1b4-d50a2e5899ac"
   },
   "outputs": [
    {
     "data": {
      "text/plain": [
       "DATE                                         datetime64[ns]\n",
       "PROVINCE OLD                                         object\n",
       "SUSPECTED CASES LAST DATE                             int64\n",
       "SUSPECTED CASES LAST 24 HRS                           int64\n",
       "SUSPECTED CASES CUMULATIVE                            int64\n",
       "LAB TESTS LAST 24 HRS                                 int64\n",
       "LAB TESTS CUMULATIVE                                  int64\n",
       "CONFIRMED CASES LAST DATE                             int64\n",
       "CONFIRMED CASES LAST 24 HRS                           int64\n",
       "CONFIRMED CASES CUMULATIVE                            int64\n",
       "DEATHS LAST DATE                                      int64\n",
       "DEATHS LAST 24 HRS                                    int64\n",
       "DEATHS CUMULATIVE                                     int64\n",
       "TRANSMISSION TOTAL                                    int64\n",
       "TRANSMISSION FOREIGN - IRAN                           int64\n",
       "TRANSMISSION FOREIGN - IRAN %                       float64\n",
       "TRANSMISSION FOREIGN - OTHER                          int64\n",
       "TRANSMISSION FOREIGN - OTHER %                      float64\n",
       "TRANSMISSION LOCAL - TABLEEGH                         int64\n",
       "TRANSMISSION LOCAL % - TABLEEGH                     float64\n",
       "TRANSMISSION LOCAL - OTHERS                           int64\n",
       "TRANSMISSION LOCAL % - OTHERS                       float64\n",
       "TRANSMISSION LOCAL                                    int64\n",
       "TRANSMISSION LOCAL %                                float64\n",
       "TOTAL HOSPITALS                                       int64\n",
       "BEDS FOR COVID                                        int64\n",
       "TOTAL ADMITTED                                        int64\n",
       "ADMITTED STABLE                                       int64\n",
       "ADMITTED CRITICAL                                     int64\n",
       "ADMITTED VENILATOR                                    int64\n",
       "HOME QUARANTINE                                       int64\n",
       "RECOVERED                                             int64\n",
       "DEATH                                                 int64\n",
       "QUARANTINE FACILITIES                                 int64\n",
       "LAST 24 HRS ARRIVAL                                   int64\n",
       "LAST 24 HRS (LOCATION)                                int64\n",
       "LAST 24 HRS DEPARTURE                                 int64\n",
       "CUMULATIVE QUARANTINED                                int64\n",
       "NUMBER OF TESTS                                       int64\n",
       "RESULTS ACHIEVED                                      int64\n",
       "TEST POSITIVE CASES                                   int64\n",
       "TEST POSITIVE CASES %                               float64\n",
       "CONFIRMED HW - ACTIVE DOCTORS                         int64\n",
       "CONFIRMED HW - ACTIVE NURSES                          int64\n",
       "CONFIRMED HW - ACTIVE OTHERS                          int64\n",
       "CONFIRMED HW - ACTIVE TOTAL                           int64\n",
       "CONFIRMED HW - ACTIVE ISOLATION                       int64\n",
       "CONFIRMED HW - ACTIVE HOSPITAL                        int64\n",
       "CONFIRMED HW - ACTIVE HOSPITAL STABLE                 int64\n",
       "CONFIRMED HW - ACTIVE HOSPITAL VENTILATOR             int64\n",
       "CONFIRMED HW - ACTIVE RECOVERED                       int64\n",
       "CONFIRMED HW - ACTIVE DEATHS                          int64\n",
       "dtype: object"
      ]
     },
     "execution_count": 24,
     "metadata": {},
     "output_type": "execute_result"
    }
   ],
   "source": [
    "sheet2.dtypes"
   ]
  },
  {
   "cell_type": "markdown",
   "metadata": {
    "colab_type": "text",
    "id": "YMM2w0mGr4de"
   },
   "source": [
    "**Changing the datatype and syntax of 'DATE' column**"
   ]
  },
  {
   "cell_type": "code",
   "execution_count": 25,
   "metadata": {
    "colab": {},
    "colab_type": "code",
    "id": "wYGvz9ZzsHQv"
   },
   "outputs": [],
   "source": [
    "sheet2['DATE']=pd.to_datetime(sheet2['DATE']).dt.date"
   ]
  },
  {
   "cell_type": "markdown",
   "metadata": {
    "colab_type": "text",
    "id": "mEIpIUS5sYOf"
   },
   "source": [
    "**Checking the Data Types of the columns again**"
   ]
  },
  {
   "cell_type": "code",
   "execution_count": 26,
   "metadata": {
    "colab": {
     "base_uri": "https://localhost:8080/",
     "height": 0
    },
    "colab_type": "code",
    "id": "3JyUASYcsYdX",
    "outputId": "3f064490-6fa7-40c7-be4f-018e8e715d41"
   },
   "outputs": [
    {
     "data": {
      "text/plain": [
       "DATE                                          object\n",
       "PROVINCE OLD                                  object\n",
       "SUSPECTED CASES LAST DATE                      int64\n",
       "SUSPECTED CASES LAST 24 HRS                    int64\n",
       "SUSPECTED CASES CUMULATIVE                     int64\n",
       "LAB TESTS LAST 24 HRS                          int64\n",
       "LAB TESTS CUMULATIVE                           int64\n",
       "CONFIRMED CASES LAST DATE                      int64\n",
       "CONFIRMED CASES LAST 24 HRS                    int64\n",
       "CONFIRMED CASES CUMULATIVE                     int64\n",
       "DEATHS LAST DATE                               int64\n",
       "DEATHS LAST 24 HRS                             int64\n",
       "DEATHS CUMULATIVE                              int64\n",
       "TRANSMISSION TOTAL                             int64\n",
       "TRANSMISSION FOREIGN - IRAN                    int64\n",
       "TRANSMISSION FOREIGN - IRAN %                float64\n",
       "TRANSMISSION FOREIGN - OTHER                   int64\n",
       "TRANSMISSION FOREIGN - OTHER %               float64\n",
       "TRANSMISSION LOCAL - TABLEEGH                  int64\n",
       "TRANSMISSION LOCAL % - TABLEEGH              float64\n",
       "TRANSMISSION LOCAL - OTHERS                    int64\n",
       "TRANSMISSION LOCAL % - OTHERS                float64\n",
       "TRANSMISSION LOCAL                             int64\n",
       "TRANSMISSION LOCAL %                         float64\n",
       "TOTAL HOSPITALS                                int64\n",
       "BEDS FOR COVID                                 int64\n",
       "TOTAL ADMITTED                                 int64\n",
       "ADMITTED STABLE                                int64\n",
       "ADMITTED CRITICAL                              int64\n",
       "ADMITTED VENILATOR                             int64\n",
       "HOME QUARANTINE                                int64\n",
       "RECOVERED                                      int64\n",
       "DEATH                                          int64\n",
       "QUARANTINE FACILITIES                          int64\n",
       "LAST 24 HRS ARRIVAL                            int64\n",
       "LAST 24 HRS (LOCATION)                         int64\n",
       "LAST 24 HRS DEPARTURE                          int64\n",
       "CUMULATIVE QUARANTINED                         int64\n",
       "NUMBER OF TESTS                                int64\n",
       "RESULTS ACHIEVED                               int64\n",
       "TEST POSITIVE CASES                            int64\n",
       "TEST POSITIVE CASES %                        float64\n",
       "CONFIRMED HW - ACTIVE DOCTORS                  int64\n",
       "CONFIRMED HW - ACTIVE NURSES                   int64\n",
       "CONFIRMED HW - ACTIVE OTHERS                   int64\n",
       "CONFIRMED HW - ACTIVE TOTAL                    int64\n",
       "CONFIRMED HW - ACTIVE ISOLATION                int64\n",
       "CONFIRMED HW - ACTIVE HOSPITAL                 int64\n",
       "CONFIRMED HW - ACTIVE HOSPITAL STABLE          int64\n",
       "CONFIRMED HW - ACTIVE HOSPITAL VENTILATOR      int64\n",
       "CONFIRMED HW - ACTIVE RECOVERED                int64\n",
       "CONFIRMED HW - ACTIVE DEATHS                   int64\n",
       "dtype: object"
      ]
     },
     "execution_count": 26,
     "metadata": {},
     "output_type": "execute_result"
    }
   ],
   "source": [
    "sheet2.dtypes"
   ]
  },
  {
   "cell_type": "markdown",
   "metadata": {
    "colab_type": "text",
    "id": "PlUv1gPvsbgG"
   },
   "source": [
    "**Renaming the 'PROVINCE OLD' column to 'REGION' and \n",
    "  Padding will be done on the 'REGION' column**"
   ]
  },
  {
   "cell_type": "code",
   "execution_count": 27,
   "metadata": {
    "colab": {},
    "colab_type": "code",
    "id": "xYfYBD5OsKdr"
   },
   "outputs": [],
   "source": [
    "sheet2['PROVINCE OLD']=sheet2['PROVINCE OLD'].str.pad(12,side='right')\n",
    "sheet2.rename(columns={'PROVINCE OLD':'REGION'},inplace=True)"
   ]
  },
  {
   "cell_type": "markdown",
   "metadata": {
    "colab_type": "text",
    "id": "ebkl2IXYsLHT"
   },
   "source": [
    "**Displaying Sheet2 Again**"
   ]
  },
  {
   "cell_type": "code",
   "execution_count": 28,
   "metadata": {
    "colab": {
     "base_uri": "https://localhost:8080/",
     "height": 0
    },
    "colab_type": "code",
    "id": "nDS1D_zlsLvH",
    "outputId": "bc4f27fd-2a8e-49c4-80ff-76bf73589bd0"
   },
   "outputs": [
    {
     "data": {
      "text/html": [
       "<div>\n",
       "<style scoped>\n",
       "    .dataframe tbody tr th:only-of-type {\n",
       "        vertical-align: middle;\n",
       "    }\n",
       "\n",
       "    .dataframe tbody tr th {\n",
       "        vertical-align: top;\n",
       "    }\n",
       "\n",
       "    .dataframe thead th {\n",
       "        text-align: right;\n",
       "    }\n",
       "</style>\n",
       "<table border=\"1\" class=\"dataframe\">\n",
       "  <thead>\n",
       "    <tr style=\"text-align: right;\">\n",
       "      <th></th>\n",
       "      <th>DATE</th>\n",
       "      <th>REGION</th>\n",
       "      <th>SUSPECTED CASES LAST DATE</th>\n",
       "      <th>SUSPECTED CASES LAST 24 HRS</th>\n",
       "      <th>SUSPECTED CASES CUMULATIVE</th>\n",
       "      <th>LAB TESTS LAST 24 HRS</th>\n",
       "      <th>LAB TESTS CUMULATIVE</th>\n",
       "      <th>CONFIRMED CASES LAST DATE</th>\n",
       "      <th>CONFIRMED CASES LAST 24 HRS</th>\n",
       "      <th>CONFIRMED CASES CUMULATIVE</th>\n",
       "      <th>...</th>\n",
       "      <th>CONFIRMED HW - ACTIVE DOCTORS</th>\n",
       "      <th>CONFIRMED HW - ACTIVE NURSES</th>\n",
       "      <th>CONFIRMED HW - ACTIVE OTHERS</th>\n",
       "      <th>CONFIRMED HW - ACTIVE TOTAL</th>\n",
       "      <th>CONFIRMED HW - ACTIVE ISOLATION</th>\n",
       "      <th>CONFIRMED HW - ACTIVE HOSPITAL</th>\n",
       "      <th>CONFIRMED HW - ACTIVE HOSPITAL STABLE</th>\n",
       "      <th>CONFIRMED HW - ACTIVE HOSPITAL VENTILATOR</th>\n",
       "      <th>CONFIRMED HW - ACTIVE RECOVERED</th>\n",
       "      <th>CONFIRMED HW - ACTIVE DEATHS</th>\n",
       "    </tr>\n",
       "  </thead>\n",
       "  <tbody>\n",
       "    <tr>\n",
       "      <td>0</td>\n",
       "      <td>2020-04-04</td>\n",
       "      <td>AJK</td>\n",
       "      <td>322</td>\n",
       "      <td>21</td>\n",
       "      <td>343</td>\n",
       "      <td>21</td>\n",
       "      <td>343</td>\n",
       "      <td>9</td>\n",
       "      <td>2</td>\n",
       "      <td>11</td>\n",
       "      <td>...</td>\n",
       "      <td>0</td>\n",
       "      <td>0</td>\n",
       "      <td>0</td>\n",
       "      <td>0</td>\n",
       "      <td>0</td>\n",
       "      <td>0</td>\n",
       "      <td>0</td>\n",
       "      <td>0</td>\n",
       "      <td>0</td>\n",
       "      <td>0</td>\n",
       "    </tr>\n",
       "    <tr>\n",
       "      <td>1</td>\n",
       "      <td>2020-04-04</td>\n",
       "      <td>Balochistan</td>\n",
       "      <td>2171</td>\n",
       "      <td>230</td>\n",
       "      <td>2401</td>\n",
       "      <td>0</td>\n",
       "      <td>2401</td>\n",
       "      <td>169</td>\n",
       "      <td>6</td>\n",
       "      <td>175</td>\n",
       "      <td>...</td>\n",
       "      <td>0</td>\n",
       "      <td>0</td>\n",
       "      <td>0</td>\n",
       "      <td>0</td>\n",
       "      <td>0</td>\n",
       "      <td>0</td>\n",
       "      <td>0</td>\n",
       "      <td>0</td>\n",
       "      <td>0</td>\n",
       "      <td>0</td>\n",
       "    </tr>\n",
       "    <tr>\n",
       "      <td>2</td>\n",
       "      <td>2020-04-04</td>\n",
       "      <td>GB</td>\n",
       "      <td>961</td>\n",
       "      <td>2</td>\n",
       "      <td>963</td>\n",
       "      <td>844</td>\n",
       "      <td>860</td>\n",
       "      <td>190</td>\n",
       "      <td>3</td>\n",
       "      <td>193</td>\n",
       "      <td>...</td>\n",
       "      <td>0</td>\n",
       "      <td>0</td>\n",
       "      <td>0</td>\n",
       "      <td>0</td>\n",
       "      <td>0</td>\n",
       "      <td>0</td>\n",
       "      <td>0</td>\n",
       "      <td>0</td>\n",
       "      <td>0</td>\n",
       "      <td>0</td>\n",
       "    </tr>\n",
       "    <tr>\n",
       "      <td>3</td>\n",
       "      <td>2020-04-04</td>\n",
       "      <td>ICT</td>\n",
       "      <td>2395</td>\n",
       "      <td>174</td>\n",
       "      <td>2569</td>\n",
       "      <td>174</td>\n",
       "      <td>2569</td>\n",
       "      <td>68</td>\n",
       "      <td>7</td>\n",
       "      <td>75</td>\n",
       "      <td>...</td>\n",
       "      <td>0</td>\n",
       "      <td>0</td>\n",
       "      <td>0</td>\n",
       "      <td>0</td>\n",
       "      <td>0</td>\n",
       "      <td>0</td>\n",
       "      <td>0</td>\n",
       "      <td>0</td>\n",
       "      <td>0</td>\n",
       "      <td>0</td>\n",
       "    </tr>\n",
       "    <tr>\n",
       "      <td>4</td>\n",
       "      <td>2020-04-04</td>\n",
       "      <td>KP</td>\n",
       "      <td>1938</td>\n",
       "      <td>431</td>\n",
       "      <td>2369</td>\n",
       "      <td>181</td>\n",
       "      <td>1624</td>\n",
       "      <td>311</td>\n",
       "      <td>32</td>\n",
       "      <td>343</td>\n",
       "      <td>...</td>\n",
       "      <td>0</td>\n",
       "      <td>0</td>\n",
       "      <td>0</td>\n",
       "      <td>0</td>\n",
       "      <td>0</td>\n",
       "      <td>0</td>\n",
       "      <td>0</td>\n",
       "      <td>0</td>\n",
       "      <td>0</td>\n",
       "      <td>0</td>\n",
       "    </tr>\n",
       "    <tr>\n",
       "      <td>...</td>\n",
       "      <td>...</td>\n",
       "      <td>...</td>\n",
       "      <td>...</td>\n",
       "      <td>...</td>\n",
       "      <td>...</td>\n",
       "      <td>...</td>\n",
       "      <td>...</td>\n",
       "      <td>...</td>\n",
       "      <td>...</td>\n",
       "      <td>...</td>\n",
       "      <td>...</td>\n",
       "      <td>...</td>\n",
       "      <td>...</td>\n",
       "      <td>...</td>\n",
       "      <td>...</td>\n",
       "      <td>...</td>\n",
       "      <td>...</td>\n",
       "      <td>...</td>\n",
       "      <td>...</td>\n",
       "      <td>...</td>\n",
       "      <td>...</td>\n",
       "    </tr>\n",
       "    <tr>\n",
       "      <td>149</td>\n",
       "      <td>2020-04-25</td>\n",
       "      <td>GB</td>\n",
       "      <td>3434</td>\n",
       "      <td>157</td>\n",
       "      <td>3591</td>\n",
       "      <td>111</td>\n",
       "      <td>3273</td>\n",
       "      <td>307</td>\n",
       "      <td>1</td>\n",
       "      <td>308</td>\n",
       "      <td>...</td>\n",
       "      <td>1</td>\n",
       "      <td>0</td>\n",
       "      <td>16</td>\n",
       "      <td>17</td>\n",
       "      <td>0</td>\n",
       "      <td>14</td>\n",
       "      <td>14</td>\n",
       "      <td>0</td>\n",
       "      <td>1</td>\n",
       "      <td>2</td>\n",
       "    </tr>\n",
       "    <tr>\n",
       "      <td>150</td>\n",
       "      <td>2020-04-25</td>\n",
       "      <td>ICT</td>\n",
       "      <td>8059</td>\n",
       "      <td>396</td>\n",
       "      <td>8455</td>\n",
       "      <td>396</td>\n",
       "      <td>8455</td>\n",
       "      <td>223</td>\n",
       "      <td>12</td>\n",
       "      <td>235</td>\n",
       "      <td>...</td>\n",
       "      <td>14</td>\n",
       "      <td>7</td>\n",
       "      <td>12</td>\n",
       "      <td>33</td>\n",
       "      <td>27</td>\n",
       "      <td>1</td>\n",
       "      <td>1</td>\n",
       "      <td>0</td>\n",
       "      <td>4</td>\n",
       "      <td>1</td>\n",
       "    </tr>\n",
       "    <tr>\n",
       "      <td>151</td>\n",
       "      <td>2020-04-25</td>\n",
       "      <td>KP</td>\n",
       "      <td>12100</td>\n",
       "      <td>821</td>\n",
       "      <td>12921</td>\n",
       "      <td>821</td>\n",
       "      <td>13930</td>\n",
       "      <td>1708</td>\n",
       "      <td>85</td>\n",
       "      <td>1793</td>\n",
       "      <td>...</td>\n",
       "      <td>36</td>\n",
       "      <td>6</td>\n",
       "      <td>34</td>\n",
       "      <td>76</td>\n",
       "      <td>58</td>\n",
       "      <td>2</td>\n",
       "      <td>2</td>\n",
       "      <td>0</td>\n",
       "      <td>15</td>\n",
       "      <td>1</td>\n",
       "    </tr>\n",
       "    <tr>\n",
       "      <td>152</td>\n",
       "      <td>2020-04-25</td>\n",
       "      <td>Punjab</td>\n",
       "      <td>41126</td>\n",
       "      <td>1330</td>\n",
       "      <td>42456</td>\n",
       "      <td>1755</td>\n",
       "      <td>71726</td>\n",
       "      <td>5046</td>\n",
       "      <td>332</td>\n",
       "      <td>5378</td>\n",
       "      <td>...</td>\n",
       "      <td>55</td>\n",
       "      <td>16</td>\n",
       "      <td>22</td>\n",
       "      <td>93</td>\n",
       "      <td>8</td>\n",
       "      <td>50</td>\n",
       "      <td>50</td>\n",
       "      <td>0</td>\n",
       "      <td>35</td>\n",
       "      <td>0</td>\n",
       "    </tr>\n",
       "    <tr>\n",
       "      <td>153</td>\n",
       "      <td>2020-04-25</td>\n",
       "      <td>Sindh</td>\n",
       "      <td>35582</td>\n",
       "      <td>2599</td>\n",
       "      <td>38181</td>\n",
       "      <td>2599</td>\n",
       "      <td>38181</td>\n",
       "      <td>3945</td>\n",
       "      <td>287</td>\n",
       "      <td>4232</td>\n",
       "      <td>...</td>\n",
       "      <td>29</td>\n",
       "      <td>17</td>\n",
       "      <td>31</td>\n",
       "      <td>77</td>\n",
       "      <td>0</td>\n",
       "      <td>62</td>\n",
       "      <td>62</td>\n",
       "      <td>0</td>\n",
       "      <td>15</td>\n",
       "      <td>0</td>\n",
       "    </tr>\n",
       "  </tbody>\n",
       "</table>\n",
       "<p>154 rows × 52 columns</p>\n",
       "</div>"
      ],
      "text/plain": [
       "           DATE        REGION  SUSPECTED CASES LAST DATE  \\\n",
       "0    2020-04-04  AJK                                 322   \n",
       "1    2020-04-04  Balochistan                        2171   \n",
       "2    2020-04-04  GB                                  961   \n",
       "3    2020-04-04  ICT                                2395   \n",
       "4    2020-04-04  KP                                 1938   \n",
       "..          ...           ...                        ...   \n",
       "149  2020-04-25  GB                                 3434   \n",
       "150  2020-04-25  ICT                                8059   \n",
       "151  2020-04-25  KP                                12100   \n",
       "152  2020-04-25  Punjab                            41126   \n",
       "153  2020-04-25  Sindh                             35582   \n",
       "\n",
       "     SUSPECTED CASES LAST 24 HRS  SUSPECTED CASES CUMULATIVE  \\\n",
       "0                             21                         343   \n",
       "1                            230                        2401   \n",
       "2                              2                         963   \n",
       "3                            174                        2569   \n",
       "4                            431                        2369   \n",
       "..                           ...                         ...   \n",
       "149                          157                        3591   \n",
       "150                          396                        8455   \n",
       "151                          821                       12921   \n",
       "152                         1330                       42456   \n",
       "153                         2599                       38181   \n",
       "\n",
       "     LAB TESTS LAST 24 HRS  LAB TESTS CUMULATIVE  CONFIRMED CASES LAST DATE  \\\n",
       "0                       21                   343                          9   \n",
       "1                        0                  2401                        169   \n",
       "2                      844                   860                        190   \n",
       "3                      174                  2569                         68   \n",
       "4                      181                  1624                        311   \n",
       "..                     ...                   ...                        ...   \n",
       "149                    111                  3273                        307   \n",
       "150                    396                  8455                        223   \n",
       "151                    821                 13930                       1708   \n",
       "152                   1755                 71726                       5046   \n",
       "153                   2599                 38181                       3945   \n",
       "\n",
       "     CONFIRMED CASES LAST 24 HRS  CONFIRMED CASES CUMULATIVE  ...  \\\n",
       "0                              2                          11  ...   \n",
       "1                              6                         175  ...   \n",
       "2                              3                         193  ...   \n",
       "3                              7                          75  ...   \n",
       "4                             32                         343  ...   \n",
       "..                           ...                         ...  ...   \n",
       "149                            1                         308  ...   \n",
       "150                           12                         235  ...   \n",
       "151                           85                        1793  ...   \n",
       "152                          332                        5378  ...   \n",
       "153                          287                        4232  ...   \n",
       "\n",
       "     CONFIRMED HW - ACTIVE DOCTORS  CONFIRMED HW - ACTIVE NURSES  \\\n",
       "0                                0                             0   \n",
       "1                                0                             0   \n",
       "2                                0                             0   \n",
       "3                                0                             0   \n",
       "4                                0                             0   \n",
       "..                             ...                           ...   \n",
       "149                              1                             0   \n",
       "150                             14                             7   \n",
       "151                             36                             6   \n",
       "152                             55                            16   \n",
       "153                             29                            17   \n",
       "\n",
       "     CONFIRMED HW - ACTIVE OTHERS  CONFIRMED HW - ACTIVE TOTAL  \\\n",
       "0                               0                            0   \n",
       "1                               0                            0   \n",
       "2                               0                            0   \n",
       "3                               0                            0   \n",
       "4                               0                            0   \n",
       "..                            ...                          ...   \n",
       "149                            16                           17   \n",
       "150                            12                           33   \n",
       "151                            34                           76   \n",
       "152                            22                           93   \n",
       "153                            31                           77   \n",
       "\n",
       "     CONFIRMED HW - ACTIVE ISOLATION  CONFIRMED HW - ACTIVE HOSPITAL  \\\n",
       "0                                  0                               0   \n",
       "1                                  0                               0   \n",
       "2                                  0                               0   \n",
       "3                                  0                               0   \n",
       "4                                  0                               0   \n",
       "..                               ...                             ...   \n",
       "149                                0                              14   \n",
       "150                               27                               1   \n",
       "151                               58                               2   \n",
       "152                                8                              50   \n",
       "153                                0                              62   \n",
       "\n",
       "     CONFIRMED HW - ACTIVE HOSPITAL STABLE  \\\n",
       "0                                        0   \n",
       "1                                        0   \n",
       "2                                        0   \n",
       "3                                        0   \n",
       "4                                        0   \n",
       "..                                     ...   \n",
       "149                                     14   \n",
       "150                                      1   \n",
       "151                                      2   \n",
       "152                                     50   \n",
       "153                                     62   \n",
       "\n",
       "     CONFIRMED HW - ACTIVE HOSPITAL VENTILATOR  \\\n",
       "0                                            0   \n",
       "1                                            0   \n",
       "2                                            0   \n",
       "3                                            0   \n",
       "4                                            0   \n",
       "..                                         ...   \n",
       "149                                          0   \n",
       "150                                          0   \n",
       "151                                          0   \n",
       "152                                          0   \n",
       "153                                          0   \n",
       "\n",
       "     CONFIRMED HW - ACTIVE RECOVERED  CONFIRMED HW - ACTIVE DEATHS  \n",
       "0                                  0                             0  \n",
       "1                                  0                             0  \n",
       "2                                  0                             0  \n",
       "3                                  0                             0  \n",
       "4                                  0                             0  \n",
       "..                               ...                           ...  \n",
       "149                                1                             2  \n",
       "150                                4                             1  \n",
       "151                               15                             1  \n",
       "152                               35                             0  \n",
       "153                               15                             0  \n",
       "\n",
       "[154 rows x 52 columns]"
      ]
     },
     "execution_count": 28,
     "metadata": {},
     "output_type": "execute_result"
    }
   ],
   "source": [
    "sheet2"
   ]
  },
  {
   "cell_type": "markdown",
   "metadata": {
    "colab_type": "text",
    "id": "FzuNod3htger"
   },
   "source": [
    "#### **SHEET 3:**"
   ]
  },
  {
   "cell_type": "markdown",
   "metadata": {
    "colab_type": "text",
    "id": "eQv9Rav0t4UF"
   },
   "source": [
    "**Displaying Sheet 3**"
   ]
  },
  {
   "cell_type": "code",
   "execution_count": 29,
   "metadata": {
    "colab": {
     "base_uri": "https://localhost:8080/",
     "height": 0
    },
    "colab_type": "code",
    "id": "oItGkpUmuT87",
    "outputId": "628ce178-7881-4fc8-e726-2510aad9b02b"
   },
   "outputs": [
    {
     "data": {
      "text/html": [
       "<div>\n",
       "<style scoped>\n",
       "    .dataframe tbody tr th:only-of-type {\n",
       "        vertical-align: middle;\n",
       "    }\n",
       "\n",
       "    .dataframe tbody tr th {\n",
       "        vertical-align: top;\n",
       "    }\n",
       "\n",
       "    .dataframe thead th {\n",
       "        text-align: right;\n",
       "    }\n",
       "</style>\n",
       "<table border=\"1\" class=\"dataframe\">\n",
       "  <thead>\n",
       "    <tr style=\"text-align: right;\">\n",
       "      <th></th>\n",
       "      <th>Date</th>\n",
       "      <th>Cumulative travelers Screened</th>\n",
       "      <th>Suspected at Points of Entry</th>\n",
       "      <th>Travelers Screened at Points ofEntry in last 24 hours</th>\n",
       "    </tr>\n",
       "  </thead>\n",
       "  <tbody>\n",
       "    <tr>\n",
       "      <td>0</td>\n",
       "      <td>11-Mar-2020</td>\n",
       "      <td>873288</td>\n",
       "      <td>26</td>\n",
       "      <td>21102</td>\n",
       "    </tr>\n",
       "    <tr>\n",
       "      <td>1</td>\n",
       "      <td>12-Mar-2020</td>\n",
       "      <td>894256</td>\n",
       "      <td>29</td>\n",
       "      <td>20968</td>\n",
       "    </tr>\n",
       "    <tr>\n",
       "      <td>2</td>\n",
       "      <td>13-Mar-2020</td>\n",
       "      <td>913542</td>\n",
       "      <td>33</td>\n",
       "      <td>19286</td>\n",
       "    </tr>\n",
       "    <tr>\n",
       "      <td>3</td>\n",
       "      <td>14-Mar-2020</td>\n",
       "      <td>933970</td>\n",
       "      <td>43</td>\n",
       "      <td>20428</td>\n",
       "    </tr>\n",
       "    <tr>\n",
       "      <td>4</td>\n",
       "      <td>15-Mar-2020</td>\n",
       "      <td>954646</td>\n",
       "      <td>59</td>\n",
       "      <td>20676</td>\n",
       "    </tr>\n",
       "    <tr>\n",
       "      <td>5</td>\n",
       "      <td>16-Mar-2020</td>\n",
       "      <td>975634</td>\n",
       "      <td>74</td>\n",
       "      <td>20988</td>\n",
       "    </tr>\n",
       "    <tr>\n",
       "      <td>6</td>\n",
       "      <td>17-Mar-2020</td>\n",
       "      <td>995821</td>\n",
       "      <td>95</td>\n",
       "      <td>20187</td>\n",
       "    </tr>\n",
       "    <tr>\n",
       "      <td>7</td>\n",
       "      <td>18-Mar-2020</td>\n",
       "      <td>1015909</td>\n",
       "      <td>115</td>\n",
       "      <td>20088</td>\n",
       "    </tr>\n",
       "    <tr>\n",
       "      <td>8</td>\n",
       "      <td>19-Mar-2020</td>\n",
       "      <td>1033884</td>\n",
       "      <td>151</td>\n",
       "      <td>17975</td>\n",
       "    </tr>\n",
       "    <tr>\n",
       "      <td>9</td>\n",
       "      <td>20-Mar-2020</td>\n",
       "      <td>1049282</td>\n",
       "      <td>170</td>\n",
       "      <td>15398</td>\n",
       "    </tr>\n",
       "    <tr>\n",
       "      <td>10</td>\n",
       "      <td>21-Mar-2020</td>\n",
       "      <td>1063193</td>\n",
       "      <td>186</td>\n",
       "      <td>13911</td>\n",
       "    </tr>\n",
       "    <tr>\n",
       "      <td>11</td>\n",
       "      <td>22-Mar-2020</td>\n",
       "      <td>1077632</td>\n",
       "      <td>202</td>\n",
       "      <td>14439</td>\n",
       "    </tr>\n",
       "    <tr>\n",
       "      <td>12</td>\n",
       "      <td>23-Mar-2020</td>\n",
       "      <td>1089933</td>\n",
       "      <td>217</td>\n",
       "      <td>12301</td>\n",
       "    </tr>\n",
       "    <tr>\n",
       "      <td>13</td>\n",
       "      <td>24-Mar-2020</td>\n",
       "      <td>1102234</td>\n",
       "      <td>232</td>\n",
       "      <td>12301</td>\n",
       "    </tr>\n",
       "    <tr>\n",
       "      <td>14</td>\n",
       "      <td>25-Mar-2020</td>\n",
       "      <td>1102383</td>\n",
       "      <td>234</td>\n",
       "      <td>149</td>\n",
       "    </tr>\n",
       "    <tr>\n",
       "      <td>15</td>\n",
       "      <td>26-Mar-2020</td>\n",
       "      <td>1102383</td>\n",
       "      <td>234</td>\n",
       "      <td>0</td>\n",
       "    </tr>\n",
       "    <tr>\n",
       "      <td>16</td>\n",
       "      <td>27-Mar-2020</td>\n",
       "      <td>1102383</td>\n",
       "      <td>234</td>\n",
       "      <td>0</td>\n",
       "    </tr>\n",
       "    <tr>\n",
       "      <td>17</td>\n",
       "      <td>28-Mar-2020</td>\n",
       "      <td>1102383</td>\n",
       "      <td>234</td>\n",
       "      <td>0</td>\n",
       "    </tr>\n",
       "    <tr>\n",
       "      <td>18</td>\n",
       "      <td>29-Mar-2020</td>\n",
       "      <td>1102383</td>\n",
       "      <td>234</td>\n",
       "      <td>0</td>\n",
       "    </tr>\n",
       "    <tr>\n",
       "      <td>19</td>\n",
       "      <td>2020-03-30 00:00:00</td>\n",
       "      <td>1102562</td>\n",
       "      <td>234</td>\n",
       "      <td>0</td>\n",
       "    </tr>\n",
       "    <tr>\n",
       "      <td>20</td>\n",
       "      <td>2020-03-31 00:00:00</td>\n",
       "      <td>1102562</td>\n",
       "      <td>234</td>\n",
       "      <td>0</td>\n",
       "    </tr>\n",
       "    <tr>\n",
       "      <td>21</td>\n",
       "      <td>2020-04-01 00:00:00</td>\n",
       "      <td>1102562</td>\n",
       "      <td>234</td>\n",
       "      <td>0</td>\n",
       "    </tr>\n",
       "    <tr>\n",
       "      <td>22</td>\n",
       "      <td>2020-04-02 00:00:00</td>\n",
       "      <td>1102562</td>\n",
       "      <td>234</td>\n",
       "      <td>0</td>\n",
       "    </tr>\n",
       "    <tr>\n",
       "      <td>23</td>\n",
       "      <td>2020-04-03 00:00:00</td>\n",
       "      <td>1102562</td>\n",
       "      <td>234</td>\n",
       "      <td>0</td>\n",
       "    </tr>\n",
       "  </tbody>\n",
       "</table>\n",
       "</div>"
      ],
      "text/plain": [
       "                   Date  Cumulative travelers Screened  \\\n",
       "0           11-Mar-2020                         873288   \n",
       "1           12-Mar-2020                         894256   \n",
       "2           13-Mar-2020                         913542   \n",
       "3           14-Mar-2020                         933970   \n",
       "4           15-Mar-2020                         954646   \n",
       "5           16-Mar-2020                         975634   \n",
       "6           17-Mar-2020                         995821   \n",
       "7           18-Mar-2020                        1015909   \n",
       "8           19-Mar-2020                        1033884   \n",
       "9           20-Mar-2020                        1049282   \n",
       "10          21-Mar-2020                        1063193   \n",
       "11          22-Mar-2020                        1077632   \n",
       "12          23-Mar-2020                        1089933   \n",
       "13          24-Mar-2020                        1102234   \n",
       "14          25-Mar-2020                        1102383   \n",
       "15          26-Mar-2020                        1102383   \n",
       "16          27-Mar-2020                        1102383   \n",
       "17          28-Mar-2020                        1102383   \n",
       "18          29-Mar-2020                        1102383   \n",
       "19  2020-03-30 00:00:00                        1102562   \n",
       "20  2020-03-31 00:00:00                        1102562   \n",
       "21  2020-04-01 00:00:00                        1102562   \n",
       "22  2020-04-02 00:00:00                        1102562   \n",
       "23  2020-04-03 00:00:00                        1102562   \n",
       "\n",
       "    Suspected at Points of Entry  \\\n",
       "0                             26   \n",
       "1                             29   \n",
       "2                             33   \n",
       "3                             43   \n",
       "4                             59   \n",
       "5                             74   \n",
       "6                             95   \n",
       "7                            115   \n",
       "8                            151   \n",
       "9                            170   \n",
       "10                           186   \n",
       "11                           202   \n",
       "12                           217   \n",
       "13                           232   \n",
       "14                           234   \n",
       "15                           234   \n",
       "16                           234   \n",
       "17                           234   \n",
       "18                           234   \n",
       "19                           234   \n",
       "20                           234   \n",
       "21                           234   \n",
       "22                           234   \n",
       "23                           234   \n",
       "\n",
       "    Travelers Screened at Points ofEntry in last 24 hours  \n",
       "0                                               21102      \n",
       "1                                               20968      \n",
       "2                                               19286      \n",
       "3                                               20428      \n",
       "4                                               20676      \n",
       "5                                               20988      \n",
       "6                                               20187      \n",
       "7                                               20088      \n",
       "8                                               17975      \n",
       "9                                               15398      \n",
       "10                                              13911      \n",
       "11                                              14439      \n",
       "12                                              12301      \n",
       "13                                              12301      \n",
       "14                                                149      \n",
       "15                                                  0      \n",
       "16                                                  0      \n",
       "17                                                  0      \n",
       "18                                                  0      \n",
       "19                                                  0      \n",
       "20                                                  0      \n",
       "21                                                  0      \n",
       "22                                                  0      \n",
       "23                                                  0      "
      ]
     },
     "execution_count": 29,
     "metadata": {},
     "output_type": "execute_result"
    }
   ],
   "source": [
    "sheet3"
   ]
  },
  {
   "cell_type": "markdown",
   "metadata": {
    "colab_type": "text",
    "id": "QUzrVuBDuS8t"
   },
   "source": [
    "**Capitalize all the column headings**"
   ]
  },
  {
   "cell_type": "code",
   "execution_count": 30,
   "metadata": {
    "colab": {
     "base_uri": "https://localhost:8080/",
     "height": 0
    },
    "colab_type": "code",
    "id": "p33-sNL2uV2k",
    "outputId": "a36a7898-327b-441e-e996-cf4197d876f6"
   },
   "outputs": [
    {
     "data": {
      "text/plain": [
       "Index(['DATE', 'CUMULATIVE TRAVELERS SCREENED', 'SUSPECTED AT POINTS OF ENTRY',\n",
       "       'TRAVELERS SCREENED AT POINTS OFENTRY IN LAST 24 HOURS'],\n",
       "      dtype='object')"
      ]
     },
     "execution_count": 30,
     "metadata": {},
     "output_type": "execute_result"
    }
   ],
   "source": [
    "sheet3.columns=sheet3.columns.str.upper().str.strip()\n",
    "sheet3.columns"
   ]
  },
  {
   "cell_type": "markdown",
   "metadata": {
    "colab_type": "text",
    "id": "HI51-xm0ucqR"
   },
   "source": [
    "**Finding which column has missing data**"
   ]
  },
  {
   "cell_type": "code",
   "execution_count": 31,
   "metadata": {
    "colab": {
     "base_uri": "https://localhost:8080/",
     "height": 0
    },
    "colab_type": "code",
    "id": "33wzWz0Jujom",
    "outputId": "07dcc520-5e02-48d0-aec3-566f73efca7b"
   },
   "outputs": [
    {
     "data": {
      "text/plain": [
       "DATE                                                     0\n",
       "CUMULATIVE TRAVELERS SCREENED                            0\n",
       "SUSPECTED AT POINTS OF ENTRY                             0\n",
       "TRAVELERS SCREENED AT POINTS OFENTRY IN LAST 24 HOURS    0\n",
       "dtype: int64"
      ]
     },
     "execution_count": 31,
     "metadata": {},
     "output_type": "execute_result"
    }
   ],
   "source": [
    "sheet3.isnull().sum()"
   ]
  },
  {
   "cell_type": "markdown",
   "metadata": {
    "colab_type": "text",
    "id": "NR9EWhWLunyb"
   },
   "source": [
    "**Checking the Data Types of the columns**"
   ]
  },
  {
   "cell_type": "code",
   "execution_count": 32,
   "metadata": {
    "colab": {
     "base_uri": "https://localhost:8080/",
     "height": 0
    },
    "colab_type": "code",
    "id": "91uWl-3JuuFI",
    "outputId": "934a68be-3fa3-4575-891c-2882bde57d0f"
   },
   "outputs": [
    {
     "data": {
      "text/plain": [
       "DATE                                                     object\n",
       "CUMULATIVE TRAVELERS SCREENED                             int64\n",
       "SUSPECTED AT POINTS OF ENTRY                              int64\n",
       "TRAVELERS SCREENED AT POINTS OFENTRY IN LAST 24 HOURS     int64\n",
       "dtype: object"
      ]
     },
     "execution_count": 32,
     "metadata": {},
     "output_type": "execute_result"
    }
   ],
   "source": [
    "sheet3.dtypes"
   ]
  },
  {
   "cell_type": "markdown",
   "metadata": {
    "colab_type": "text",
    "id": "Nwmpkqgzu1jI"
   },
   "source": [
    "**Changing the datatype and syntax of 'DATE' column**"
   ]
  },
  {
   "cell_type": "code",
   "execution_count": 33,
   "metadata": {
    "colab": {},
    "colab_type": "code",
    "id": "VsBZsHzvu00d"
   },
   "outputs": [],
   "source": [
    "sheet3['DATE']=pd.to_datetime(sheet3['DATE']).dt.date"
   ]
  },
  {
   "cell_type": "markdown",
   "metadata": {
    "colab_type": "text",
    "id": "yvJreNH5u9M_"
   },
   "source": [
    "**Checking the Data Types of the columns again**"
   ]
  },
  {
   "cell_type": "code",
   "execution_count": 34,
   "metadata": {
    "colab": {
     "base_uri": "https://localhost:8080/",
     "height": 0
    },
    "colab_type": "code",
    "id": "hyrPmS8_u9bl",
    "outputId": "199d0052-cd9d-402c-d25f-391a19fc6ffa"
   },
   "outputs": [
    {
     "data": {
      "text/plain": [
       "DATE                                                     object\n",
       "CUMULATIVE TRAVELERS SCREENED                             int64\n",
       "SUSPECTED AT POINTS OF ENTRY                              int64\n",
       "TRAVELERS SCREENED AT POINTS OFENTRY IN LAST 24 HOURS     int64\n",
       "dtype: object"
      ]
     },
     "execution_count": 34,
     "metadata": {},
     "output_type": "execute_result"
    }
   ],
   "source": [
    "sheet3.dtypes"
   ]
  },
  {
   "cell_type": "markdown",
   "metadata": {
    "colab_type": "text",
    "id": "YY-GErFFu_cT"
   },
   "source": [
    "**Displaying Sheet3 Again**"
   ]
  },
  {
   "cell_type": "code",
   "execution_count": 35,
   "metadata": {
    "colab": {
     "base_uri": "https://localhost:8080/",
     "height": 0
    },
    "colab_type": "code",
    "id": "5pyyBPAHu_sM",
    "outputId": "4897badd-ab54-4e06-fbba-c0f0bb886741"
   },
   "outputs": [
    {
     "data": {
      "text/html": [
       "<div>\n",
       "<style scoped>\n",
       "    .dataframe tbody tr th:only-of-type {\n",
       "        vertical-align: middle;\n",
       "    }\n",
       "\n",
       "    .dataframe tbody tr th {\n",
       "        vertical-align: top;\n",
       "    }\n",
       "\n",
       "    .dataframe thead th {\n",
       "        text-align: right;\n",
       "    }\n",
       "</style>\n",
       "<table border=\"1\" class=\"dataframe\">\n",
       "  <thead>\n",
       "    <tr style=\"text-align: right;\">\n",
       "      <th></th>\n",
       "      <th>DATE</th>\n",
       "      <th>CUMULATIVE TRAVELERS SCREENED</th>\n",
       "      <th>SUSPECTED AT POINTS OF ENTRY</th>\n",
       "      <th>TRAVELERS SCREENED AT POINTS OFENTRY IN LAST 24 HOURS</th>\n",
       "    </tr>\n",
       "  </thead>\n",
       "  <tbody>\n",
       "    <tr>\n",
       "      <td>0</td>\n",
       "      <td>2020-03-11</td>\n",
       "      <td>873288</td>\n",
       "      <td>26</td>\n",
       "      <td>21102</td>\n",
       "    </tr>\n",
       "    <tr>\n",
       "      <td>1</td>\n",
       "      <td>2020-03-12</td>\n",
       "      <td>894256</td>\n",
       "      <td>29</td>\n",
       "      <td>20968</td>\n",
       "    </tr>\n",
       "    <tr>\n",
       "      <td>2</td>\n",
       "      <td>2020-03-13</td>\n",
       "      <td>913542</td>\n",
       "      <td>33</td>\n",
       "      <td>19286</td>\n",
       "    </tr>\n",
       "    <tr>\n",
       "      <td>3</td>\n",
       "      <td>2020-03-14</td>\n",
       "      <td>933970</td>\n",
       "      <td>43</td>\n",
       "      <td>20428</td>\n",
       "    </tr>\n",
       "    <tr>\n",
       "      <td>4</td>\n",
       "      <td>2020-03-15</td>\n",
       "      <td>954646</td>\n",
       "      <td>59</td>\n",
       "      <td>20676</td>\n",
       "    </tr>\n",
       "    <tr>\n",
       "      <td>5</td>\n",
       "      <td>2020-03-16</td>\n",
       "      <td>975634</td>\n",
       "      <td>74</td>\n",
       "      <td>20988</td>\n",
       "    </tr>\n",
       "    <tr>\n",
       "      <td>6</td>\n",
       "      <td>2020-03-17</td>\n",
       "      <td>995821</td>\n",
       "      <td>95</td>\n",
       "      <td>20187</td>\n",
       "    </tr>\n",
       "    <tr>\n",
       "      <td>7</td>\n",
       "      <td>2020-03-18</td>\n",
       "      <td>1015909</td>\n",
       "      <td>115</td>\n",
       "      <td>20088</td>\n",
       "    </tr>\n",
       "    <tr>\n",
       "      <td>8</td>\n",
       "      <td>2020-03-19</td>\n",
       "      <td>1033884</td>\n",
       "      <td>151</td>\n",
       "      <td>17975</td>\n",
       "    </tr>\n",
       "    <tr>\n",
       "      <td>9</td>\n",
       "      <td>2020-03-20</td>\n",
       "      <td>1049282</td>\n",
       "      <td>170</td>\n",
       "      <td>15398</td>\n",
       "    </tr>\n",
       "    <tr>\n",
       "      <td>10</td>\n",
       "      <td>2020-03-21</td>\n",
       "      <td>1063193</td>\n",
       "      <td>186</td>\n",
       "      <td>13911</td>\n",
       "    </tr>\n",
       "    <tr>\n",
       "      <td>11</td>\n",
       "      <td>2020-03-22</td>\n",
       "      <td>1077632</td>\n",
       "      <td>202</td>\n",
       "      <td>14439</td>\n",
       "    </tr>\n",
       "    <tr>\n",
       "      <td>12</td>\n",
       "      <td>2020-03-23</td>\n",
       "      <td>1089933</td>\n",
       "      <td>217</td>\n",
       "      <td>12301</td>\n",
       "    </tr>\n",
       "    <tr>\n",
       "      <td>13</td>\n",
       "      <td>2020-03-24</td>\n",
       "      <td>1102234</td>\n",
       "      <td>232</td>\n",
       "      <td>12301</td>\n",
       "    </tr>\n",
       "    <tr>\n",
       "      <td>14</td>\n",
       "      <td>2020-03-25</td>\n",
       "      <td>1102383</td>\n",
       "      <td>234</td>\n",
       "      <td>149</td>\n",
       "    </tr>\n",
       "    <tr>\n",
       "      <td>15</td>\n",
       "      <td>2020-03-26</td>\n",
       "      <td>1102383</td>\n",
       "      <td>234</td>\n",
       "      <td>0</td>\n",
       "    </tr>\n",
       "    <tr>\n",
       "      <td>16</td>\n",
       "      <td>2020-03-27</td>\n",
       "      <td>1102383</td>\n",
       "      <td>234</td>\n",
       "      <td>0</td>\n",
       "    </tr>\n",
       "    <tr>\n",
       "      <td>17</td>\n",
       "      <td>2020-03-28</td>\n",
       "      <td>1102383</td>\n",
       "      <td>234</td>\n",
       "      <td>0</td>\n",
       "    </tr>\n",
       "    <tr>\n",
       "      <td>18</td>\n",
       "      <td>2020-03-29</td>\n",
       "      <td>1102383</td>\n",
       "      <td>234</td>\n",
       "      <td>0</td>\n",
       "    </tr>\n",
       "    <tr>\n",
       "      <td>19</td>\n",
       "      <td>2020-03-30</td>\n",
       "      <td>1102562</td>\n",
       "      <td>234</td>\n",
       "      <td>0</td>\n",
       "    </tr>\n",
       "    <tr>\n",
       "      <td>20</td>\n",
       "      <td>2020-03-31</td>\n",
       "      <td>1102562</td>\n",
       "      <td>234</td>\n",
       "      <td>0</td>\n",
       "    </tr>\n",
       "    <tr>\n",
       "      <td>21</td>\n",
       "      <td>2020-04-01</td>\n",
       "      <td>1102562</td>\n",
       "      <td>234</td>\n",
       "      <td>0</td>\n",
       "    </tr>\n",
       "    <tr>\n",
       "      <td>22</td>\n",
       "      <td>2020-04-02</td>\n",
       "      <td>1102562</td>\n",
       "      <td>234</td>\n",
       "      <td>0</td>\n",
       "    </tr>\n",
       "    <tr>\n",
       "      <td>23</td>\n",
       "      <td>2020-04-03</td>\n",
       "      <td>1102562</td>\n",
       "      <td>234</td>\n",
       "      <td>0</td>\n",
       "    </tr>\n",
       "  </tbody>\n",
       "</table>\n",
       "</div>"
      ],
      "text/plain": [
       "          DATE  CUMULATIVE TRAVELERS SCREENED  SUSPECTED AT POINTS OF ENTRY  \\\n",
       "0   2020-03-11                         873288                            26   \n",
       "1   2020-03-12                         894256                            29   \n",
       "2   2020-03-13                         913542                            33   \n",
       "3   2020-03-14                         933970                            43   \n",
       "4   2020-03-15                         954646                            59   \n",
       "5   2020-03-16                         975634                            74   \n",
       "6   2020-03-17                         995821                            95   \n",
       "7   2020-03-18                        1015909                           115   \n",
       "8   2020-03-19                        1033884                           151   \n",
       "9   2020-03-20                        1049282                           170   \n",
       "10  2020-03-21                        1063193                           186   \n",
       "11  2020-03-22                        1077632                           202   \n",
       "12  2020-03-23                        1089933                           217   \n",
       "13  2020-03-24                        1102234                           232   \n",
       "14  2020-03-25                        1102383                           234   \n",
       "15  2020-03-26                        1102383                           234   \n",
       "16  2020-03-27                        1102383                           234   \n",
       "17  2020-03-28                        1102383                           234   \n",
       "18  2020-03-29                        1102383                           234   \n",
       "19  2020-03-30                        1102562                           234   \n",
       "20  2020-03-31                        1102562                           234   \n",
       "21  2020-04-01                        1102562                           234   \n",
       "22  2020-04-02                        1102562                           234   \n",
       "23  2020-04-03                        1102562                           234   \n",
       "\n",
       "    TRAVELERS SCREENED AT POINTS OFENTRY IN LAST 24 HOURS  \n",
       "0                                               21102      \n",
       "1                                               20968      \n",
       "2                                               19286      \n",
       "3                                               20428      \n",
       "4                                               20676      \n",
       "5                                               20988      \n",
       "6                                               20187      \n",
       "7                                               20088      \n",
       "8                                               17975      \n",
       "9                                               15398      \n",
       "10                                              13911      \n",
       "11                                              14439      \n",
       "12                                              12301      \n",
       "13                                              12301      \n",
       "14                                                149      \n",
       "15                                                  0      \n",
       "16                                                  0      \n",
       "17                                                  0      \n",
       "18                                                  0      \n",
       "19                                                  0      \n",
       "20                                                  0      \n",
       "21                                                  0      \n",
       "22                                                  0      \n",
       "23                                                  0      "
      ]
     },
     "execution_count": 35,
     "metadata": {},
     "output_type": "execute_result"
    }
   ],
   "source": [
    "sheet3"
   ]
  },
  {
   "cell_type": "markdown",
   "metadata": {
    "colab_type": "text",
    "id": "uC8VfFBBtmys"
   },
   "source": [
    "#### **SHEET 4:**"
   ]
  },
  {
   "cell_type": "markdown",
   "metadata": {
    "colab_type": "text",
    "id": "hWb_Kx7xt7jo"
   },
   "source": [
    "**Displaying Sheet 4**"
   ]
  },
  {
   "cell_type": "code",
   "execution_count": 36,
   "metadata": {
    "colab": {
     "base_uri": "https://localhost:8080/",
     "height": 0
    },
    "colab_type": "code",
    "id": "L0SCpRD3vexJ",
    "outputId": "891165af-9cb8-4d07-fb3f-964d2fa6976e"
   },
   "outputs": [
    {
     "data": {
      "text/html": [
       "<div>\n",
       "<style scoped>\n",
       "    .dataframe tbody tr th:only-of-type {\n",
       "        vertical-align: middle;\n",
       "    }\n",
       "\n",
       "    .dataframe tbody tr th {\n",
       "        vertical-align: top;\n",
       "    }\n",
       "\n",
       "    .dataframe thead th {\n",
       "        text-align: right;\n",
       "    }\n",
       "</style>\n",
       "<table border=\"1\" class=\"dataframe\">\n",
       "  <thead>\n",
       "    <tr style=\"text-align: right;\">\n",
       "      <th></th>\n",
       "      <th>Returnees</th>\n",
       "      <th>Advised Self-Quarantine</th>\n",
       "      <th>Cumulative no offirst-time calls</th>\n",
       "      <th>Cumulativefollow-up calls</th>\n",
       "      <th>Date</th>\n",
       "      <th>First-time calls inpast 24 hrs</th>\n",
       "      <th>Follow-up calls inpast 24 hrs</th>\n",
       "    </tr>\n",
       "  </thead>\n",
       "  <tbody>\n",
       "    <tr>\n",
       "      <td>0</td>\n",
       "      <td>Returnees from Iran</td>\n",
       "      <td>0</td>\n",
       "      <td>9459</td>\n",
       "      <td>2553</td>\n",
       "      <td>11-Mar-2020</td>\n",
       "      <td>0</td>\n",
       "      <td>353</td>\n",
       "    </tr>\n",
       "    <tr>\n",
       "      <td>1</td>\n",
       "      <td>Returnees from China</td>\n",
       "      <td>11</td>\n",
       "      <td>5342</td>\n",
       "      <td>7746</td>\n",
       "      <td>11-Mar-2020</td>\n",
       "      <td>17</td>\n",
       "      <td>400</td>\n",
       "    </tr>\n",
       "    <tr>\n",
       "      <td>2</td>\n",
       "      <td>Returnees from Iran</td>\n",
       "      <td>14</td>\n",
       "      <td>9475</td>\n",
       "      <td>3221</td>\n",
       "      <td>12-Mar-2020</td>\n",
       "      <td>16</td>\n",
       "      <td>668</td>\n",
       "    </tr>\n",
       "    <tr>\n",
       "      <td>3</td>\n",
       "      <td>Returnees from China</td>\n",
       "      <td>7</td>\n",
       "      <td>5352</td>\n",
       "      <td>7855</td>\n",
       "      <td>12-Mar-2020</td>\n",
       "      <td>10</td>\n",
       "      <td>109</td>\n",
       "    </tr>\n",
       "    <tr>\n",
       "      <td>4</td>\n",
       "      <td>Returnees from Iran</td>\n",
       "      <td>0</td>\n",
       "      <td>9475</td>\n",
       "      <td>3853</td>\n",
       "      <td>13-Mar-2020</td>\n",
       "      <td>0</td>\n",
       "      <td>632</td>\n",
       "    </tr>\n",
       "    <tr>\n",
       "      <td>5</td>\n",
       "      <td>Returnees from China</td>\n",
       "      <td>10</td>\n",
       "      <td>5362</td>\n",
       "      <td>8041</td>\n",
       "      <td>13-Mar-2020</td>\n",
       "      <td>10</td>\n",
       "      <td>186</td>\n",
       "    </tr>\n",
       "    <tr>\n",
       "      <td>6</td>\n",
       "      <td>Returnees from Iran</td>\n",
       "      <td>3</td>\n",
       "      <td>9480</td>\n",
       "      <td>4182</td>\n",
       "      <td>14-Mar-2020</td>\n",
       "      <td>5</td>\n",
       "      <td>329</td>\n",
       "    </tr>\n",
       "    <tr>\n",
       "      <td>7</td>\n",
       "      <td>Returnees from China</td>\n",
       "      <td>5</td>\n",
       "      <td>5370</td>\n",
       "      <td>8083</td>\n",
       "      <td>14-Mar-2020</td>\n",
       "      <td>8</td>\n",
       "      <td>42</td>\n",
       "    </tr>\n",
       "    <tr>\n",
       "      <td>8</td>\n",
       "      <td>Returnees from Iran</td>\n",
       "      <td>0</td>\n",
       "      <td>9480</td>\n",
       "      <td>4625</td>\n",
       "      <td>15-Mar-2020</td>\n",
       "      <td>0</td>\n",
       "      <td>443</td>\n",
       "    </tr>\n",
       "    <tr>\n",
       "      <td>9</td>\n",
       "      <td>Returnees from China</td>\n",
       "      <td>0</td>\n",
       "      <td>5370</td>\n",
       "      <td>8160</td>\n",
       "      <td>15-Mar-2020</td>\n",
       "      <td>0</td>\n",
       "      <td>77</td>\n",
       "    </tr>\n",
       "    <tr>\n",
       "      <td>10</td>\n",
       "      <td>Returnees from Iran</td>\n",
       "      <td>3</td>\n",
       "      <td>9488</td>\n",
       "      <td>4625</td>\n",
       "      <td>16-Mar-2020</td>\n",
       "      <td>8</td>\n",
       "      <td>0</td>\n",
       "    </tr>\n",
       "    <tr>\n",
       "      <td>11</td>\n",
       "      <td>Returnees from China</td>\n",
       "      <td>11</td>\n",
       "      <td>5394</td>\n",
       "      <td>8160</td>\n",
       "      <td>16-Mar-2020</td>\n",
       "      <td>24</td>\n",
       "      <td>0</td>\n",
       "    </tr>\n",
       "    <tr>\n",
       "      <td>12</td>\n",
       "      <td>Returnees from Iran</td>\n",
       "      <td>0</td>\n",
       "      <td>9488</td>\n",
       "      <td>5063</td>\n",
       "      <td>17-Mar-2020</td>\n",
       "      <td>0</td>\n",
       "      <td>438</td>\n",
       "    </tr>\n",
       "    <tr>\n",
       "      <td>13</td>\n",
       "      <td>Returnees from China</td>\n",
       "      <td>13</td>\n",
       "      <td>5413</td>\n",
       "      <td>8180</td>\n",
       "      <td>17-Mar-2020</td>\n",
       "      <td>19</td>\n",
       "      <td>20</td>\n",
       "    </tr>\n",
       "    <tr>\n",
       "      <td>14</td>\n",
       "      <td>Returnees from Iran</td>\n",
       "      <td>0</td>\n",
       "      <td>9488</td>\n",
       "      <td>5337</td>\n",
       "      <td>18-Mar-2020</td>\n",
       "      <td>0</td>\n",
       "      <td>274</td>\n",
       "    </tr>\n",
       "    <tr>\n",
       "      <td>15</td>\n",
       "      <td>Returnees from China</td>\n",
       "      <td>16</td>\n",
       "      <td>5439</td>\n",
       "      <td>8899</td>\n",
       "      <td>18-Mar-2020</td>\n",
       "      <td>26</td>\n",
       "      <td>719</td>\n",
       "    </tr>\n",
       "    <tr>\n",
       "      <td>16</td>\n",
       "      <td>Returnees from Iran</td>\n",
       "      <td>0</td>\n",
       "      <td>9488</td>\n",
       "      <td>5337</td>\n",
       "      <td>19-Mar-2020</td>\n",
       "      <td>0</td>\n",
       "      <td>32</td>\n",
       "    </tr>\n",
       "    <tr>\n",
       "      <td>17</td>\n",
       "      <td>Returnees from China</td>\n",
       "      <td>0</td>\n",
       "      <td>5441</td>\n",
       "      <td>9392</td>\n",
       "      <td>19-Mar-2020</td>\n",
       "      <td>2</td>\n",
       "      <td>493</td>\n",
       "    </tr>\n",
       "    <tr>\n",
       "      <td>18</td>\n",
       "      <td>Returnees from Iran</td>\n",
       "      <td>0</td>\n",
       "      <td>9488</td>\n",
       "      <td>5623</td>\n",
       "      <td>20-Mar-2020</td>\n",
       "      <td>0</td>\n",
       "      <td>286</td>\n",
       "    </tr>\n",
       "    <tr>\n",
       "      <td>19</td>\n",
       "      <td>Returnees from China</td>\n",
       "      <td>8</td>\n",
       "      <td>5458</td>\n",
       "      <td>9392</td>\n",
       "      <td>20-Mar-2020</td>\n",
       "      <td>17</td>\n",
       "      <td>0</td>\n",
       "    </tr>\n",
       "    <tr>\n",
       "      <td>20</td>\n",
       "      <td>Returnees from Iran</td>\n",
       "      <td>1</td>\n",
       "      <td>9489</td>\n",
       "      <td>5977</td>\n",
       "      <td>21-Mar-2020</td>\n",
       "      <td>1</td>\n",
       "      <td>354</td>\n",
       "    </tr>\n",
       "    <tr>\n",
       "      <td>21</td>\n",
       "      <td>Returnees from China</td>\n",
       "      <td>1</td>\n",
       "      <td>5462</td>\n",
       "      <td>9658</td>\n",
       "      <td>21-Mar-2020</td>\n",
       "      <td>4</td>\n",
       "      <td>266</td>\n",
       "    </tr>\n",
       "    <tr>\n",
       "      <td>22</td>\n",
       "      <td>Returnees from Iran</td>\n",
       "      <td>0</td>\n",
       "      <td>9489</td>\n",
       "      <td>6116</td>\n",
       "      <td>22-Mar-2020</td>\n",
       "      <td>0</td>\n",
       "      <td>139</td>\n",
       "    </tr>\n",
       "    <tr>\n",
       "      <td>23</td>\n",
       "      <td>Returnees from China</td>\n",
       "      <td>3</td>\n",
       "      <td>5473</td>\n",
       "      <td>10109</td>\n",
       "      <td>22-Mar-2020</td>\n",
       "      <td>11</td>\n",
       "      <td>451</td>\n",
       "    </tr>\n",
       "    <tr>\n",
       "      <td>24</td>\n",
       "      <td>Returnees from Iran</td>\n",
       "      <td>0</td>\n",
       "      <td>9489</td>\n",
       "      <td>6289</td>\n",
       "      <td>23-Mar-2020</td>\n",
       "      <td>0</td>\n",
       "      <td>173</td>\n",
       "    </tr>\n",
       "    <tr>\n",
       "      <td>25</td>\n",
       "      <td>Returnees from China</td>\n",
       "      <td>1</td>\n",
       "      <td>5474</td>\n",
       "      <td>10451</td>\n",
       "      <td>23-Mar-2020</td>\n",
       "      <td>1</td>\n",
       "      <td>342</td>\n",
       "    </tr>\n",
       "    <tr>\n",
       "      <td>26</td>\n",
       "      <td>Returnees from Iran</td>\n",
       "      <td>0</td>\n",
       "      <td>9489</td>\n",
       "      <td>6289</td>\n",
       "      <td>24-Mar-2020</td>\n",
       "      <td>0</td>\n",
       "      <td>0</td>\n",
       "    </tr>\n",
       "    <tr>\n",
       "      <td>27</td>\n",
       "      <td>Returnees from China</td>\n",
       "      <td>0</td>\n",
       "      <td>5474</td>\n",
       "      <td>10875</td>\n",
       "      <td>24-Mar-2020</td>\n",
       "      <td>0</td>\n",
       "      <td>424</td>\n",
       "    </tr>\n",
       "    <tr>\n",
       "      <td>28</td>\n",
       "      <td>Returnees from Iran</td>\n",
       "      <td>0</td>\n",
       "      <td>9489</td>\n",
       "      <td>6474</td>\n",
       "      <td>25-Mar-2020</td>\n",
       "      <td>0</td>\n",
       "      <td>185</td>\n",
       "    </tr>\n",
       "    <tr>\n",
       "      <td>29</td>\n",
       "      <td>Returnees from China</td>\n",
       "      <td>0</td>\n",
       "      <td>5474</td>\n",
       "      <td>11110</td>\n",
       "      <td>25-Mar-2020</td>\n",
       "      <td>0</td>\n",
       "      <td>235</td>\n",
       "    </tr>\n",
       "    <tr>\n",
       "      <td>30</td>\n",
       "      <td>Returnees from Iran</td>\n",
       "      <td>0</td>\n",
       "      <td>9489</td>\n",
       "      <td>6890</td>\n",
       "      <td>26-Mar-2020</td>\n",
       "      <td>0</td>\n",
       "      <td>416</td>\n",
       "    </tr>\n",
       "    <tr>\n",
       "      <td>31</td>\n",
       "      <td>Returnees from China</td>\n",
       "      <td>0</td>\n",
       "      <td>5474</td>\n",
       "      <td>11460</td>\n",
       "      <td>26-Mar-2020</td>\n",
       "      <td>0</td>\n",
       "      <td>350</td>\n",
       "    </tr>\n",
       "    <tr>\n",
       "      <td>32</td>\n",
       "      <td>Returnees from Iran</td>\n",
       "      <td>0</td>\n",
       "      <td>9489</td>\n",
       "      <td>6923</td>\n",
       "      <td>27-Mar-2020</td>\n",
       "      <td>0</td>\n",
       "      <td>133</td>\n",
       "    </tr>\n",
       "    <tr>\n",
       "      <td>33</td>\n",
       "      <td>Returnees from China</td>\n",
       "      <td>0</td>\n",
       "      <td>5474</td>\n",
       "      <td>11727</td>\n",
       "      <td>27-Mar-2020</td>\n",
       "      <td>0</td>\n",
       "      <td>267</td>\n",
       "    </tr>\n",
       "    <tr>\n",
       "      <td>34</td>\n",
       "      <td>Returnees from Iran</td>\n",
       "      <td>0</td>\n",
       "      <td>9489</td>\n",
       "      <td>7115</td>\n",
       "      <td>28-Mar-2020</td>\n",
       "      <td>0</td>\n",
       "      <td>192</td>\n",
       "    </tr>\n",
       "    <tr>\n",
       "      <td>35</td>\n",
       "      <td>Returnees from China</td>\n",
       "      <td>0</td>\n",
       "      <td>5474</td>\n",
       "      <td>12247</td>\n",
       "      <td>28-Mar-2020</td>\n",
       "      <td>0</td>\n",
       "      <td>520</td>\n",
       "    </tr>\n",
       "    <tr>\n",
       "      <td>36</td>\n",
       "      <td>Returnees from Iran</td>\n",
       "      <td>0</td>\n",
       "      <td>9489</td>\n",
       "      <td>7115</td>\n",
       "      <td>29-Mar-2020</td>\n",
       "      <td>0</td>\n",
       "      <td>0</td>\n",
       "    </tr>\n",
       "    <tr>\n",
       "      <td>37</td>\n",
       "      <td>Returnees from China</td>\n",
       "      <td>0</td>\n",
       "      <td>5474</td>\n",
       "      <td>12409</td>\n",
       "      <td>29-Mar-2020</td>\n",
       "      <td>0</td>\n",
       "      <td>162</td>\n",
       "    </tr>\n",
       "    <tr>\n",
       "      <td>38</td>\n",
       "      <td>Returnees from Iran</td>\n",
       "      <td>0</td>\n",
       "      <td>9489</td>\n",
       "      <td>7215</td>\n",
       "      <td>30-Mar-2020</td>\n",
       "      <td>0</td>\n",
       "      <td>100</td>\n",
       "    </tr>\n",
       "    <tr>\n",
       "      <td>39</td>\n",
       "      <td>Returnees from China</td>\n",
       "      <td>0</td>\n",
       "      <td>5474</td>\n",
       "      <td>12480</td>\n",
       "      <td>30-Mar-2020</td>\n",
       "      <td>0</td>\n",
       "      <td>71</td>\n",
       "    </tr>\n",
       "  </tbody>\n",
       "</table>\n",
       "</div>"
      ],
      "text/plain": [
       "               Returnees  Advised Self-Quarantine  \\\n",
       "0    Returnees from Iran                        0   \n",
       "1   Returnees from China                       11   \n",
       "2    Returnees from Iran                       14   \n",
       "3   Returnees from China                        7   \n",
       "4    Returnees from Iran                        0   \n",
       "5   Returnees from China                       10   \n",
       "6    Returnees from Iran                        3   \n",
       "7   Returnees from China                        5   \n",
       "8    Returnees from Iran                        0   \n",
       "9   Returnees from China                        0   \n",
       "10   Returnees from Iran                        3   \n",
       "11  Returnees from China                       11   \n",
       "12   Returnees from Iran                        0   \n",
       "13  Returnees from China                       13   \n",
       "14   Returnees from Iran                        0   \n",
       "15  Returnees from China                       16   \n",
       "16   Returnees from Iran                        0   \n",
       "17  Returnees from China                        0   \n",
       "18   Returnees from Iran                        0   \n",
       "19  Returnees from China                        8   \n",
       "20   Returnees from Iran                        1   \n",
       "21  Returnees from China                        1   \n",
       "22   Returnees from Iran                        0   \n",
       "23  Returnees from China                        3   \n",
       "24   Returnees from Iran                        0   \n",
       "25  Returnees from China                        1   \n",
       "26   Returnees from Iran                        0   \n",
       "27  Returnees from China                        0   \n",
       "28   Returnees from Iran                        0   \n",
       "29  Returnees from China                        0   \n",
       "30   Returnees from Iran                        0   \n",
       "31  Returnees from China                        0   \n",
       "32   Returnees from Iran                        0   \n",
       "33  Returnees from China                        0   \n",
       "34   Returnees from Iran                        0   \n",
       "35  Returnees from China                        0   \n",
       "36   Returnees from Iran                        0   \n",
       "37  Returnees from China                        0   \n",
       "38   Returnees from Iran                        0   \n",
       "39  Returnees from China                        0   \n",
       "\n",
       "    Cumulative no offirst-time calls  Cumulativefollow-up calls         Date  \\\n",
       "0                               9459                       2553  11-Mar-2020   \n",
       "1                               5342                       7746  11-Mar-2020   \n",
       "2                               9475                       3221  12-Mar-2020   \n",
       "3                               5352                       7855  12-Mar-2020   \n",
       "4                               9475                       3853  13-Mar-2020   \n",
       "5                               5362                       8041  13-Mar-2020   \n",
       "6                               9480                       4182  14-Mar-2020   \n",
       "7                               5370                       8083  14-Mar-2020   \n",
       "8                               9480                       4625  15-Mar-2020   \n",
       "9                               5370                       8160  15-Mar-2020   \n",
       "10                              9488                       4625  16-Mar-2020   \n",
       "11                              5394                       8160  16-Mar-2020   \n",
       "12                              9488                       5063  17-Mar-2020   \n",
       "13                              5413                       8180  17-Mar-2020   \n",
       "14                              9488                       5337  18-Mar-2020   \n",
       "15                              5439                       8899  18-Mar-2020   \n",
       "16                              9488                       5337  19-Mar-2020   \n",
       "17                              5441                       9392  19-Mar-2020   \n",
       "18                              9488                       5623  20-Mar-2020   \n",
       "19                              5458                       9392  20-Mar-2020   \n",
       "20                              9489                       5977  21-Mar-2020   \n",
       "21                              5462                       9658  21-Mar-2020   \n",
       "22                              9489                       6116  22-Mar-2020   \n",
       "23                              5473                      10109  22-Mar-2020   \n",
       "24                              9489                       6289  23-Mar-2020   \n",
       "25                              5474                      10451  23-Mar-2020   \n",
       "26                              9489                       6289  24-Mar-2020   \n",
       "27                              5474                      10875  24-Mar-2020   \n",
       "28                              9489                       6474  25-Mar-2020   \n",
       "29                              5474                      11110  25-Mar-2020   \n",
       "30                              9489                       6890  26-Mar-2020   \n",
       "31                              5474                      11460  26-Mar-2020   \n",
       "32                              9489                       6923  27-Mar-2020   \n",
       "33                              5474                      11727  27-Mar-2020   \n",
       "34                              9489                       7115  28-Mar-2020   \n",
       "35                              5474                      12247  28-Mar-2020   \n",
       "36                              9489                       7115  29-Mar-2020   \n",
       "37                              5474                      12409  29-Mar-2020   \n",
       "38                              9489                       7215  30-Mar-2020   \n",
       "39                              5474                      12480  30-Mar-2020   \n",
       "\n",
       "    First-time calls inpast 24 hrs  Follow-up calls inpast 24 hrs  \n",
       "0                                0                            353  \n",
       "1                               17                            400  \n",
       "2                               16                            668  \n",
       "3                               10                            109  \n",
       "4                                0                            632  \n",
       "5                               10                            186  \n",
       "6                                5                            329  \n",
       "7                                8                             42  \n",
       "8                                0                            443  \n",
       "9                                0                             77  \n",
       "10                               8                              0  \n",
       "11                              24                              0  \n",
       "12                               0                            438  \n",
       "13                              19                             20  \n",
       "14                               0                            274  \n",
       "15                              26                            719  \n",
       "16                               0                             32  \n",
       "17                               2                            493  \n",
       "18                               0                            286  \n",
       "19                              17                              0  \n",
       "20                               1                            354  \n",
       "21                               4                            266  \n",
       "22                               0                            139  \n",
       "23                              11                            451  \n",
       "24                               0                            173  \n",
       "25                               1                            342  \n",
       "26                               0                              0  \n",
       "27                               0                            424  \n",
       "28                               0                            185  \n",
       "29                               0                            235  \n",
       "30                               0                            416  \n",
       "31                               0                            350  \n",
       "32                               0                            133  \n",
       "33                               0                            267  \n",
       "34                               0                            192  \n",
       "35                               0                            520  \n",
       "36                               0                              0  \n",
       "37                               0                            162  \n",
       "38                               0                            100  \n",
       "39                               0                             71  "
      ]
     },
     "execution_count": 36,
     "metadata": {},
     "output_type": "execute_result"
    }
   ],
   "source": [
    "sheet4"
   ]
  },
  {
   "cell_type": "markdown",
   "metadata": {
    "colab_type": "text",
    "id": "jU4i2sugviPh"
   },
   "source": [
    "**Capitalize all the column headings**"
   ]
  },
  {
   "cell_type": "code",
   "execution_count": 37,
   "metadata": {
    "colab": {
     "base_uri": "https://localhost:8080/",
     "height": 0
    },
    "colab_type": "code",
    "id": "Pjt-__uuwJge",
    "outputId": "668c50c2-fc22-44ce-e2ad-6d2546f09248"
   },
   "outputs": [
    {
     "data": {
      "text/plain": [
       "Index(['RETURNEES', 'ADVISED SELF-QUARANTINE',\n",
       "       'CUMULATIVE NO OFFIRST-TIME CALLS', 'CUMULATIVEFOLLOW-UP CALLS', 'DATE',\n",
       "       'FIRST-TIME CALLS INPAST 24 HRS', 'FOLLOW-UP CALLS INPAST 24 HRS'],\n",
       "      dtype='object')"
      ]
     },
     "execution_count": 37,
     "metadata": {},
     "output_type": "execute_result"
    }
   ],
   "source": [
    "sheet4.columns=sheet4.columns.str.upper().str.strip()\n",
    "sheet4.columns"
   ]
  },
  {
   "cell_type": "markdown",
   "metadata": {
    "colab_type": "text",
    "id": "Eoickh7YwJva"
   },
   "source": [
    "**Finding which column has missing data**"
   ]
  },
  {
   "cell_type": "code",
   "execution_count": 38,
   "metadata": {
    "colab": {
     "base_uri": "https://localhost:8080/",
     "height": 0
    },
    "colab_type": "code",
    "id": "m5WxMTF39MIU",
    "outputId": "31c5ec9d-369c-4773-a1d2-246f948ba3cf"
   },
   "outputs": [
    {
     "data": {
      "text/plain": [
       "RETURNEES                           0\n",
       "ADVISED SELF-QUARANTINE             0\n",
       "CUMULATIVE NO OFFIRST-TIME CALLS    0\n",
       "CUMULATIVEFOLLOW-UP CALLS           0\n",
       "DATE                                0\n",
       "FIRST-TIME CALLS INPAST 24 HRS      0\n",
       "FOLLOW-UP CALLS INPAST 24 HRS       0\n",
       "dtype: int64"
      ]
     },
     "execution_count": 38,
     "metadata": {},
     "output_type": "execute_result"
    }
   ],
   "source": [
    "sheet4.isnull().sum()"
   ]
  },
  {
   "cell_type": "markdown",
   "metadata": {
    "colab_type": "text",
    "id": "4gJV5X8g9OB9"
   },
   "source": [
    "**Checking the Data Types of the columns**"
   ]
  },
  {
   "cell_type": "code",
   "execution_count": 39,
   "metadata": {
    "colab": {
     "base_uri": "https://localhost:8080/",
     "height": 0
    },
    "colab_type": "code",
    "id": "U9ku_AGp9Wvt",
    "outputId": "78f9c8d9-c0d2-4036-dba4-6574721b610d"
   },
   "outputs": [
    {
     "data": {
      "text/plain": [
       "RETURNEES                           object\n",
       "ADVISED SELF-QUARANTINE              int64\n",
       "CUMULATIVE NO OFFIRST-TIME CALLS     int64\n",
       "CUMULATIVEFOLLOW-UP CALLS            int64\n",
       "DATE                                object\n",
       "FIRST-TIME CALLS INPAST 24 HRS       int64\n",
       "FOLLOW-UP CALLS INPAST 24 HRS        int64\n",
       "dtype: object"
      ]
     },
     "execution_count": 39,
     "metadata": {},
     "output_type": "execute_result"
    }
   ],
   "source": [
    "sheet4.dtypes"
   ]
  },
  {
   "cell_type": "markdown",
   "metadata": {
    "colab_type": "text",
    "id": "tsXpTU_r9hLL"
   },
   "source": [
    "**Changing the datatype and syntax of 'DATE' column**"
   ]
  },
  {
   "cell_type": "code",
   "execution_count": 40,
   "metadata": {
    "colab": {
     "base_uri": "https://localhost:8080/",
     "height": 0
    },
    "colab_type": "code",
    "id": "B8HxhBpV9hjF",
    "outputId": "5bd32aed-5a58-400f-8ad0-afffb47e558a"
   },
   "outputs": [
    {
     "data": {
      "text/html": [
       "<div>\n",
       "<style scoped>\n",
       "    .dataframe tbody tr th:only-of-type {\n",
       "        vertical-align: middle;\n",
       "    }\n",
       "\n",
       "    .dataframe tbody tr th {\n",
       "        vertical-align: top;\n",
       "    }\n",
       "\n",
       "    .dataframe thead th {\n",
       "        text-align: right;\n",
       "    }\n",
       "</style>\n",
       "<table border=\"1\" class=\"dataframe\">\n",
       "  <thead>\n",
       "    <tr style=\"text-align: right;\">\n",
       "      <th></th>\n",
       "      <th>RETURNEES</th>\n",
       "      <th>ADVISED SELF-QUARANTINE</th>\n",
       "      <th>CUMULATIVE NO OFFIRST-TIME CALLS</th>\n",
       "      <th>CUMULATIVEFOLLOW-UP CALLS</th>\n",
       "      <th>DATE</th>\n",
       "      <th>FIRST-TIME CALLS INPAST 24 HRS</th>\n",
       "      <th>FOLLOW-UP CALLS INPAST 24 HRS</th>\n",
       "    </tr>\n",
       "  </thead>\n",
       "  <tbody>\n",
       "    <tr>\n",
       "      <td>0</td>\n",
       "      <td>Returnees from Iran</td>\n",
       "      <td>0</td>\n",
       "      <td>9459</td>\n",
       "      <td>2553</td>\n",
       "      <td>2020-03-11</td>\n",
       "      <td>0</td>\n",
       "      <td>353</td>\n",
       "    </tr>\n",
       "    <tr>\n",
       "      <td>1</td>\n",
       "      <td>Returnees from China</td>\n",
       "      <td>11</td>\n",
       "      <td>5342</td>\n",
       "      <td>7746</td>\n",
       "      <td>2020-03-11</td>\n",
       "      <td>17</td>\n",
       "      <td>400</td>\n",
       "    </tr>\n",
       "    <tr>\n",
       "      <td>2</td>\n",
       "      <td>Returnees from Iran</td>\n",
       "      <td>14</td>\n",
       "      <td>9475</td>\n",
       "      <td>3221</td>\n",
       "      <td>2020-03-12</td>\n",
       "      <td>16</td>\n",
       "      <td>668</td>\n",
       "    </tr>\n",
       "    <tr>\n",
       "      <td>3</td>\n",
       "      <td>Returnees from China</td>\n",
       "      <td>7</td>\n",
       "      <td>5352</td>\n",
       "      <td>7855</td>\n",
       "      <td>2020-03-12</td>\n",
       "      <td>10</td>\n",
       "      <td>109</td>\n",
       "    </tr>\n",
       "    <tr>\n",
       "      <td>4</td>\n",
       "      <td>Returnees from Iran</td>\n",
       "      <td>0</td>\n",
       "      <td>9475</td>\n",
       "      <td>3853</td>\n",
       "      <td>2020-03-13</td>\n",
       "      <td>0</td>\n",
       "      <td>632</td>\n",
       "    </tr>\n",
       "    <tr>\n",
       "      <td>5</td>\n",
       "      <td>Returnees from China</td>\n",
       "      <td>10</td>\n",
       "      <td>5362</td>\n",
       "      <td>8041</td>\n",
       "      <td>2020-03-13</td>\n",
       "      <td>10</td>\n",
       "      <td>186</td>\n",
       "    </tr>\n",
       "    <tr>\n",
       "      <td>6</td>\n",
       "      <td>Returnees from Iran</td>\n",
       "      <td>3</td>\n",
       "      <td>9480</td>\n",
       "      <td>4182</td>\n",
       "      <td>2020-03-14</td>\n",
       "      <td>5</td>\n",
       "      <td>329</td>\n",
       "    </tr>\n",
       "    <tr>\n",
       "      <td>7</td>\n",
       "      <td>Returnees from China</td>\n",
       "      <td>5</td>\n",
       "      <td>5370</td>\n",
       "      <td>8083</td>\n",
       "      <td>2020-03-14</td>\n",
       "      <td>8</td>\n",
       "      <td>42</td>\n",
       "    </tr>\n",
       "    <tr>\n",
       "      <td>8</td>\n",
       "      <td>Returnees from Iran</td>\n",
       "      <td>0</td>\n",
       "      <td>9480</td>\n",
       "      <td>4625</td>\n",
       "      <td>2020-03-15</td>\n",
       "      <td>0</td>\n",
       "      <td>443</td>\n",
       "    </tr>\n",
       "    <tr>\n",
       "      <td>9</td>\n",
       "      <td>Returnees from China</td>\n",
       "      <td>0</td>\n",
       "      <td>5370</td>\n",
       "      <td>8160</td>\n",
       "      <td>2020-03-15</td>\n",
       "      <td>0</td>\n",
       "      <td>77</td>\n",
       "    </tr>\n",
       "    <tr>\n",
       "      <td>10</td>\n",
       "      <td>Returnees from Iran</td>\n",
       "      <td>3</td>\n",
       "      <td>9488</td>\n",
       "      <td>4625</td>\n",
       "      <td>2020-03-16</td>\n",
       "      <td>8</td>\n",
       "      <td>0</td>\n",
       "    </tr>\n",
       "    <tr>\n",
       "      <td>11</td>\n",
       "      <td>Returnees from China</td>\n",
       "      <td>11</td>\n",
       "      <td>5394</td>\n",
       "      <td>8160</td>\n",
       "      <td>2020-03-16</td>\n",
       "      <td>24</td>\n",
       "      <td>0</td>\n",
       "    </tr>\n",
       "    <tr>\n",
       "      <td>12</td>\n",
       "      <td>Returnees from Iran</td>\n",
       "      <td>0</td>\n",
       "      <td>9488</td>\n",
       "      <td>5063</td>\n",
       "      <td>2020-03-17</td>\n",
       "      <td>0</td>\n",
       "      <td>438</td>\n",
       "    </tr>\n",
       "    <tr>\n",
       "      <td>13</td>\n",
       "      <td>Returnees from China</td>\n",
       "      <td>13</td>\n",
       "      <td>5413</td>\n",
       "      <td>8180</td>\n",
       "      <td>2020-03-17</td>\n",
       "      <td>19</td>\n",
       "      <td>20</td>\n",
       "    </tr>\n",
       "    <tr>\n",
       "      <td>14</td>\n",
       "      <td>Returnees from Iran</td>\n",
       "      <td>0</td>\n",
       "      <td>9488</td>\n",
       "      <td>5337</td>\n",
       "      <td>2020-03-18</td>\n",
       "      <td>0</td>\n",
       "      <td>274</td>\n",
       "    </tr>\n",
       "    <tr>\n",
       "      <td>15</td>\n",
       "      <td>Returnees from China</td>\n",
       "      <td>16</td>\n",
       "      <td>5439</td>\n",
       "      <td>8899</td>\n",
       "      <td>2020-03-18</td>\n",
       "      <td>26</td>\n",
       "      <td>719</td>\n",
       "    </tr>\n",
       "    <tr>\n",
       "      <td>16</td>\n",
       "      <td>Returnees from Iran</td>\n",
       "      <td>0</td>\n",
       "      <td>9488</td>\n",
       "      <td>5337</td>\n",
       "      <td>2020-03-19</td>\n",
       "      <td>0</td>\n",
       "      <td>32</td>\n",
       "    </tr>\n",
       "    <tr>\n",
       "      <td>17</td>\n",
       "      <td>Returnees from China</td>\n",
       "      <td>0</td>\n",
       "      <td>5441</td>\n",
       "      <td>9392</td>\n",
       "      <td>2020-03-19</td>\n",
       "      <td>2</td>\n",
       "      <td>493</td>\n",
       "    </tr>\n",
       "    <tr>\n",
       "      <td>18</td>\n",
       "      <td>Returnees from Iran</td>\n",
       "      <td>0</td>\n",
       "      <td>9488</td>\n",
       "      <td>5623</td>\n",
       "      <td>2020-03-20</td>\n",
       "      <td>0</td>\n",
       "      <td>286</td>\n",
       "    </tr>\n",
       "    <tr>\n",
       "      <td>19</td>\n",
       "      <td>Returnees from China</td>\n",
       "      <td>8</td>\n",
       "      <td>5458</td>\n",
       "      <td>9392</td>\n",
       "      <td>2020-03-20</td>\n",
       "      <td>17</td>\n",
       "      <td>0</td>\n",
       "    </tr>\n",
       "    <tr>\n",
       "      <td>20</td>\n",
       "      <td>Returnees from Iran</td>\n",
       "      <td>1</td>\n",
       "      <td>9489</td>\n",
       "      <td>5977</td>\n",
       "      <td>2020-03-21</td>\n",
       "      <td>1</td>\n",
       "      <td>354</td>\n",
       "    </tr>\n",
       "    <tr>\n",
       "      <td>21</td>\n",
       "      <td>Returnees from China</td>\n",
       "      <td>1</td>\n",
       "      <td>5462</td>\n",
       "      <td>9658</td>\n",
       "      <td>2020-03-21</td>\n",
       "      <td>4</td>\n",
       "      <td>266</td>\n",
       "    </tr>\n",
       "    <tr>\n",
       "      <td>22</td>\n",
       "      <td>Returnees from Iran</td>\n",
       "      <td>0</td>\n",
       "      <td>9489</td>\n",
       "      <td>6116</td>\n",
       "      <td>2020-03-22</td>\n",
       "      <td>0</td>\n",
       "      <td>139</td>\n",
       "    </tr>\n",
       "    <tr>\n",
       "      <td>23</td>\n",
       "      <td>Returnees from China</td>\n",
       "      <td>3</td>\n",
       "      <td>5473</td>\n",
       "      <td>10109</td>\n",
       "      <td>2020-03-22</td>\n",
       "      <td>11</td>\n",
       "      <td>451</td>\n",
       "    </tr>\n",
       "    <tr>\n",
       "      <td>24</td>\n",
       "      <td>Returnees from Iran</td>\n",
       "      <td>0</td>\n",
       "      <td>9489</td>\n",
       "      <td>6289</td>\n",
       "      <td>2020-03-23</td>\n",
       "      <td>0</td>\n",
       "      <td>173</td>\n",
       "    </tr>\n",
       "    <tr>\n",
       "      <td>25</td>\n",
       "      <td>Returnees from China</td>\n",
       "      <td>1</td>\n",
       "      <td>5474</td>\n",
       "      <td>10451</td>\n",
       "      <td>2020-03-23</td>\n",
       "      <td>1</td>\n",
       "      <td>342</td>\n",
       "    </tr>\n",
       "    <tr>\n",
       "      <td>26</td>\n",
       "      <td>Returnees from Iran</td>\n",
       "      <td>0</td>\n",
       "      <td>9489</td>\n",
       "      <td>6289</td>\n",
       "      <td>2020-03-24</td>\n",
       "      <td>0</td>\n",
       "      <td>0</td>\n",
       "    </tr>\n",
       "    <tr>\n",
       "      <td>27</td>\n",
       "      <td>Returnees from China</td>\n",
       "      <td>0</td>\n",
       "      <td>5474</td>\n",
       "      <td>10875</td>\n",
       "      <td>2020-03-24</td>\n",
       "      <td>0</td>\n",
       "      <td>424</td>\n",
       "    </tr>\n",
       "    <tr>\n",
       "      <td>28</td>\n",
       "      <td>Returnees from Iran</td>\n",
       "      <td>0</td>\n",
       "      <td>9489</td>\n",
       "      <td>6474</td>\n",
       "      <td>2020-03-25</td>\n",
       "      <td>0</td>\n",
       "      <td>185</td>\n",
       "    </tr>\n",
       "    <tr>\n",
       "      <td>29</td>\n",
       "      <td>Returnees from China</td>\n",
       "      <td>0</td>\n",
       "      <td>5474</td>\n",
       "      <td>11110</td>\n",
       "      <td>2020-03-25</td>\n",
       "      <td>0</td>\n",
       "      <td>235</td>\n",
       "    </tr>\n",
       "    <tr>\n",
       "      <td>30</td>\n",
       "      <td>Returnees from Iran</td>\n",
       "      <td>0</td>\n",
       "      <td>9489</td>\n",
       "      <td>6890</td>\n",
       "      <td>2020-03-26</td>\n",
       "      <td>0</td>\n",
       "      <td>416</td>\n",
       "    </tr>\n",
       "    <tr>\n",
       "      <td>31</td>\n",
       "      <td>Returnees from China</td>\n",
       "      <td>0</td>\n",
       "      <td>5474</td>\n",
       "      <td>11460</td>\n",
       "      <td>2020-03-26</td>\n",
       "      <td>0</td>\n",
       "      <td>350</td>\n",
       "    </tr>\n",
       "    <tr>\n",
       "      <td>32</td>\n",
       "      <td>Returnees from Iran</td>\n",
       "      <td>0</td>\n",
       "      <td>9489</td>\n",
       "      <td>6923</td>\n",
       "      <td>2020-03-27</td>\n",
       "      <td>0</td>\n",
       "      <td>133</td>\n",
       "    </tr>\n",
       "    <tr>\n",
       "      <td>33</td>\n",
       "      <td>Returnees from China</td>\n",
       "      <td>0</td>\n",
       "      <td>5474</td>\n",
       "      <td>11727</td>\n",
       "      <td>2020-03-27</td>\n",
       "      <td>0</td>\n",
       "      <td>267</td>\n",
       "    </tr>\n",
       "    <tr>\n",
       "      <td>34</td>\n",
       "      <td>Returnees from Iran</td>\n",
       "      <td>0</td>\n",
       "      <td>9489</td>\n",
       "      <td>7115</td>\n",
       "      <td>2020-03-28</td>\n",
       "      <td>0</td>\n",
       "      <td>192</td>\n",
       "    </tr>\n",
       "    <tr>\n",
       "      <td>35</td>\n",
       "      <td>Returnees from China</td>\n",
       "      <td>0</td>\n",
       "      <td>5474</td>\n",
       "      <td>12247</td>\n",
       "      <td>2020-03-28</td>\n",
       "      <td>0</td>\n",
       "      <td>520</td>\n",
       "    </tr>\n",
       "    <tr>\n",
       "      <td>36</td>\n",
       "      <td>Returnees from Iran</td>\n",
       "      <td>0</td>\n",
       "      <td>9489</td>\n",
       "      <td>7115</td>\n",
       "      <td>2020-03-29</td>\n",
       "      <td>0</td>\n",
       "      <td>0</td>\n",
       "    </tr>\n",
       "    <tr>\n",
       "      <td>37</td>\n",
       "      <td>Returnees from China</td>\n",
       "      <td>0</td>\n",
       "      <td>5474</td>\n",
       "      <td>12409</td>\n",
       "      <td>2020-03-29</td>\n",
       "      <td>0</td>\n",
       "      <td>162</td>\n",
       "    </tr>\n",
       "    <tr>\n",
       "      <td>38</td>\n",
       "      <td>Returnees from Iran</td>\n",
       "      <td>0</td>\n",
       "      <td>9489</td>\n",
       "      <td>7215</td>\n",
       "      <td>2020-03-30</td>\n",
       "      <td>0</td>\n",
       "      <td>100</td>\n",
       "    </tr>\n",
       "    <tr>\n",
       "      <td>39</td>\n",
       "      <td>Returnees from China</td>\n",
       "      <td>0</td>\n",
       "      <td>5474</td>\n",
       "      <td>12480</td>\n",
       "      <td>2020-03-30</td>\n",
       "      <td>0</td>\n",
       "      <td>71</td>\n",
       "    </tr>\n",
       "  </tbody>\n",
       "</table>\n",
       "</div>"
      ],
      "text/plain": [
       "               RETURNEES  ADVISED SELF-QUARANTINE  \\\n",
       "0    Returnees from Iran                        0   \n",
       "1   Returnees from China                       11   \n",
       "2    Returnees from Iran                       14   \n",
       "3   Returnees from China                        7   \n",
       "4    Returnees from Iran                        0   \n",
       "5   Returnees from China                       10   \n",
       "6    Returnees from Iran                        3   \n",
       "7   Returnees from China                        5   \n",
       "8    Returnees from Iran                        0   \n",
       "9   Returnees from China                        0   \n",
       "10   Returnees from Iran                        3   \n",
       "11  Returnees from China                       11   \n",
       "12   Returnees from Iran                        0   \n",
       "13  Returnees from China                       13   \n",
       "14   Returnees from Iran                        0   \n",
       "15  Returnees from China                       16   \n",
       "16   Returnees from Iran                        0   \n",
       "17  Returnees from China                        0   \n",
       "18   Returnees from Iran                        0   \n",
       "19  Returnees from China                        8   \n",
       "20   Returnees from Iran                        1   \n",
       "21  Returnees from China                        1   \n",
       "22   Returnees from Iran                        0   \n",
       "23  Returnees from China                        3   \n",
       "24   Returnees from Iran                        0   \n",
       "25  Returnees from China                        1   \n",
       "26   Returnees from Iran                        0   \n",
       "27  Returnees from China                        0   \n",
       "28   Returnees from Iran                        0   \n",
       "29  Returnees from China                        0   \n",
       "30   Returnees from Iran                        0   \n",
       "31  Returnees from China                        0   \n",
       "32   Returnees from Iran                        0   \n",
       "33  Returnees from China                        0   \n",
       "34   Returnees from Iran                        0   \n",
       "35  Returnees from China                        0   \n",
       "36   Returnees from Iran                        0   \n",
       "37  Returnees from China                        0   \n",
       "38   Returnees from Iran                        0   \n",
       "39  Returnees from China                        0   \n",
       "\n",
       "    CUMULATIVE NO OFFIRST-TIME CALLS  CUMULATIVEFOLLOW-UP CALLS        DATE  \\\n",
       "0                               9459                       2553  2020-03-11   \n",
       "1                               5342                       7746  2020-03-11   \n",
       "2                               9475                       3221  2020-03-12   \n",
       "3                               5352                       7855  2020-03-12   \n",
       "4                               9475                       3853  2020-03-13   \n",
       "5                               5362                       8041  2020-03-13   \n",
       "6                               9480                       4182  2020-03-14   \n",
       "7                               5370                       8083  2020-03-14   \n",
       "8                               9480                       4625  2020-03-15   \n",
       "9                               5370                       8160  2020-03-15   \n",
       "10                              9488                       4625  2020-03-16   \n",
       "11                              5394                       8160  2020-03-16   \n",
       "12                              9488                       5063  2020-03-17   \n",
       "13                              5413                       8180  2020-03-17   \n",
       "14                              9488                       5337  2020-03-18   \n",
       "15                              5439                       8899  2020-03-18   \n",
       "16                              9488                       5337  2020-03-19   \n",
       "17                              5441                       9392  2020-03-19   \n",
       "18                              9488                       5623  2020-03-20   \n",
       "19                              5458                       9392  2020-03-20   \n",
       "20                              9489                       5977  2020-03-21   \n",
       "21                              5462                       9658  2020-03-21   \n",
       "22                              9489                       6116  2020-03-22   \n",
       "23                              5473                      10109  2020-03-22   \n",
       "24                              9489                       6289  2020-03-23   \n",
       "25                              5474                      10451  2020-03-23   \n",
       "26                              9489                       6289  2020-03-24   \n",
       "27                              5474                      10875  2020-03-24   \n",
       "28                              9489                       6474  2020-03-25   \n",
       "29                              5474                      11110  2020-03-25   \n",
       "30                              9489                       6890  2020-03-26   \n",
       "31                              5474                      11460  2020-03-26   \n",
       "32                              9489                       6923  2020-03-27   \n",
       "33                              5474                      11727  2020-03-27   \n",
       "34                              9489                       7115  2020-03-28   \n",
       "35                              5474                      12247  2020-03-28   \n",
       "36                              9489                       7115  2020-03-29   \n",
       "37                              5474                      12409  2020-03-29   \n",
       "38                              9489                       7215  2020-03-30   \n",
       "39                              5474                      12480  2020-03-30   \n",
       "\n",
       "    FIRST-TIME CALLS INPAST 24 HRS  FOLLOW-UP CALLS INPAST 24 HRS  \n",
       "0                                0                            353  \n",
       "1                               17                            400  \n",
       "2                               16                            668  \n",
       "3                               10                            109  \n",
       "4                                0                            632  \n",
       "5                               10                            186  \n",
       "6                                5                            329  \n",
       "7                                8                             42  \n",
       "8                                0                            443  \n",
       "9                                0                             77  \n",
       "10                               8                              0  \n",
       "11                              24                              0  \n",
       "12                               0                            438  \n",
       "13                              19                             20  \n",
       "14                               0                            274  \n",
       "15                              26                            719  \n",
       "16                               0                             32  \n",
       "17                               2                            493  \n",
       "18                               0                            286  \n",
       "19                              17                              0  \n",
       "20                               1                            354  \n",
       "21                               4                            266  \n",
       "22                               0                            139  \n",
       "23                              11                            451  \n",
       "24                               0                            173  \n",
       "25                               1                            342  \n",
       "26                               0                              0  \n",
       "27                               0                            424  \n",
       "28                               0                            185  \n",
       "29                               0                            235  \n",
       "30                               0                            416  \n",
       "31                               0                            350  \n",
       "32                               0                            133  \n",
       "33                               0                            267  \n",
       "34                               0                            192  \n",
       "35                               0                            520  \n",
       "36                               0                              0  \n",
       "37                               0                            162  \n",
       "38                               0                            100  \n",
       "39                               0                             71  "
      ]
     },
     "execution_count": 40,
     "metadata": {},
     "output_type": "execute_result"
    }
   ],
   "source": [
    "sheet4['DATE']=pd.to_datetime(sheet4['DATE']).dt.date\n",
    "sheet4"
   ]
  },
  {
   "cell_type": "markdown",
   "metadata": {
    "colab_type": "text",
    "id": "sO7FdQZC9iFv"
   },
   "source": [
    "**Again Checking the datatypes of all the columns**"
   ]
  },
  {
   "cell_type": "code",
   "execution_count": 41,
   "metadata": {
    "colab": {
     "base_uri": "https://localhost:8080/",
     "height": 0
    },
    "colab_type": "code",
    "id": "OZDxR-Sh9iWD",
    "outputId": "880c8d90-3913-4fc1-96c2-5330229c4d28"
   },
   "outputs": [
    {
     "data": {
      "text/plain": [
       "RETURNEES                           object\n",
       "ADVISED SELF-QUARANTINE              int64\n",
       "CUMULATIVE NO OFFIRST-TIME CALLS     int64\n",
       "CUMULATIVEFOLLOW-UP CALLS            int64\n",
       "DATE                                object\n",
       "FIRST-TIME CALLS INPAST 24 HRS       int64\n",
       "FOLLOW-UP CALLS INPAST 24 HRS        int64\n",
       "dtype: object"
      ]
     },
     "execution_count": 41,
     "metadata": {},
     "output_type": "execute_result"
    }
   ],
   "source": [
    "sheet4.dtypes"
   ]
  },
  {
   "cell_type": "markdown",
   "metadata": {
    "colab_type": "text",
    "id": "lQph39FO9ipl"
   },
   "source": [
    "**Padding will be done on the 'RETURNEES' column**"
   ]
  },
  {
   "cell_type": "code",
   "execution_count": 42,
   "metadata": {
    "colab": {},
    "colab_type": "code",
    "id": "9Uh5dWbG9i_f"
   },
   "outputs": [],
   "source": [
    "sheet4['RETURNEES']=sheet4['RETURNEES'].str.pad(12,side='right')"
   ]
  },
  {
   "cell_type": "markdown",
   "metadata": {
    "colab_type": "text",
    "id": "H8h07YRh9j4N"
   },
   "source": [
    "**Displaying Sheet4 Again**"
   ]
  },
  {
   "cell_type": "code",
   "execution_count": 43,
   "metadata": {
    "colab": {
     "base_uri": "https://localhost:8080/",
     "height": 0
    },
    "colab_type": "code",
    "id": "aRHbRxYD9kLB",
    "outputId": "6f879b85-7437-4819-bf50-d41feb3023dc"
   },
   "outputs": [
    {
     "data": {
      "text/html": [
       "<div>\n",
       "<style scoped>\n",
       "    .dataframe tbody tr th:only-of-type {\n",
       "        vertical-align: middle;\n",
       "    }\n",
       "\n",
       "    .dataframe tbody tr th {\n",
       "        vertical-align: top;\n",
       "    }\n",
       "\n",
       "    .dataframe thead th {\n",
       "        text-align: right;\n",
       "    }\n",
       "</style>\n",
       "<table border=\"1\" class=\"dataframe\">\n",
       "  <thead>\n",
       "    <tr style=\"text-align: right;\">\n",
       "      <th></th>\n",
       "      <th>RETURNEES</th>\n",
       "      <th>ADVISED SELF-QUARANTINE</th>\n",
       "      <th>CUMULATIVE NO OFFIRST-TIME CALLS</th>\n",
       "      <th>CUMULATIVEFOLLOW-UP CALLS</th>\n",
       "      <th>DATE</th>\n",
       "      <th>FIRST-TIME CALLS INPAST 24 HRS</th>\n",
       "      <th>FOLLOW-UP CALLS INPAST 24 HRS</th>\n",
       "    </tr>\n",
       "  </thead>\n",
       "  <tbody>\n",
       "    <tr>\n",
       "      <td>0</td>\n",
       "      <td>Returnees from Iran</td>\n",
       "      <td>0</td>\n",
       "      <td>9459</td>\n",
       "      <td>2553</td>\n",
       "      <td>2020-03-11</td>\n",
       "      <td>0</td>\n",
       "      <td>353</td>\n",
       "    </tr>\n",
       "    <tr>\n",
       "      <td>1</td>\n",
       "      <td>Returnees from China</td>\n",
       "      <td>11</td>\n",
       "      <td>5342</td>\n",
       "      <td>7746</td>\n",
       "      <td>2020-03-11</td>\n",
       "      <td>17</td>\n",
       "      <td>400</td>\n",
       "    </tr>\n",
       "    <tr>\n",
       "      <td>2</td>\n",
       "      <td>Returnees from Iran</td>\n",
       "      <td>14</td>\n",
       "      <td>9475</td>\n",
       "      <td>3221</td>\n",
       "      <td>2020-03-12</td>\n",
       "      <td>16</td>\n",
       "      <td>668</td>\n",
       "    </tr>\n",
       "    <tr>\n",
       "      <td>3</td>\n",
       "      <td>Returnees from China</td>\n",
       "      <td>7</td>\n",
       "      <td>5352</td>\n",
       "      <td>7855</td>\n",
       "      <td>2020-03-12</td>\n",
       "      <td>10</td>\n",
       "      <td>109</td>\n",
       "    </tr>\n",
       "    <tr>\n",
       "      <td>4</td>\n",
       "      <td>Returnees from Iran</td>\n",
       "      <td>0</td>\n",
       "      <td>9475</td>\n",
       "      <td>3853</td>\n",
       "      <td>2020-03-13</td>\n",
       "      <td>0</td>\n",
       "      <td>632</td>\n",
       "    </tr>\n",
       "    <tr>\n",
       "      <td>5</td>\n",
       "      <td>Returnees from China</td>\n",
       "      <td>10</td>\n",
       "      <td>5362</td>\n",
       "      <td>8041</td>\n",
       "      <td>2020-03-13</td>\n",
       "      <td>10</td>\n",
       "      <td>186</td>\n",
       "    </tr>\n",
       "    <tr>\n",
       "      <td>6</td>\n",
       "      <td>Returnees from Iran</td>\n",
       "      <td>3</td>\n",
       "      <td>9480</td>\n",
       "      <td>4182</td>\n",
       "      <td>2020-03-14</td>\n",
       "      <td>5</td>\n",
       "      <td>329</td>\n",
       "    </tr>\n",
       "    <tr>\n",
       "      <td>7</td>\n",
       "      <td>Returnees from China</td>\n",
       "      <td>5</td>\n",
       "      <td>5370</td>\n",
       "      <td>8083</td>\n",
       "      <td>2020-03-14</td>\n",
       "      <td>8</td>\n",
       "      <td>42</td>\n",
       "    </tr>\n",
       "    <tr>\n",
       "      <td>8</td>\n",
       "      <td>Returnees from Iran</td>\n",
       "      <td>0</td>\n",
       "      <td>9480</td>\n",
       "      <td>4625</td>\n",
       "      <td>2020-03-15</td>\n",
       "      <td>0</td>\n",
       "      <td>443</td>\n",
       "    </tr>\n",
       "    <tr>\n",
       "      <td>9</td>\n",
       "      <td>Returnees from China</td>\n",
       "      <td>0</td>\n",
       "      <td>5370</td>\n",
       "      <td>8160</td>\n",
       "      <td>2020-03-15</td>\n",
       "      <td>0</td>\n",
       "      <td>77</td>\n",
       "    </tr>\n",
       "    <tr>\n",
       "      <td>10</td>\n",
       "      <td>Returnees from Iran</td>\n",
       "      <td>3</td>\n",
       "      <td>9488</td>\n",
       "      <td>4625</td>\n",
       "      <td>2020-03-16</td>\n",
       "      <td>8</td>\n",
       "      <td>0</td>\n",
       "    </tr>\n",
       "    <tr>\n",
       "      <td>11</td>\n",
       "      <td>Returnees from China</td>\n",
       "      <td>11</td>\n",
       "      <td>5394</td>\n",
       "      <td>8160</td>\n",
       "      <td>2020-03-16</td>\n",
       "      <td>24</td>\n",
       "      <td>0</td>\n",
       "    </tr>\n",
       "    <tr>\n",
       "      <td>12</td>\n",
       "      <td>Returnees from Iran</td>\n",
       "      <td>0</td>\n",
       "      <td>9488</td>\n",
       "      <td>5063</td>\n",
       "      <td>2020-03-17</td>\n",
       "      <td>0</td>\n",
       "      <td>438</td>\n",
       "    </tr>\n",
       "    <tr>\n",
       "      <td>13</td>\n",
       "      <td>Returnees from China</td>\n",
       "      <td>13</td>\n",
       "      <td>5413</td>\n",
       "      <td>8180</td>\n",
       "      <td>2020-03-17</td>\n",
       "      <td>19</td>\n",
       "      <td>20</td>\n",
       "    </tr>\n",
       "    <tr>\n",
       "      <td>14</td>\n",
       "      <td>Returnees from Iran</td>\n",
       "      <td>0</td>\n",
       "      <td>9488</td>\n",
       "      <td>5337</td>\n",
       "      <td>2020-03-18</td>\n",
       "      <td>0</td>\n",
       "      <td>274</td>\n",
       "    </tr>\n",
       "    <tr>\n",
       "      <td>15</td>\n",
       "      <td>Returnees from China</td>\n",
       "      <td>16</td>\n",
       "      <td>5439</td>\n",
       "      <td>8899</td>\n",
       "      <td>2020-03-18</td>\n",
       "      <td>26</td>\n",
       "      <td>719</td>\n",
       "    </tr>\n",
       "    <tr>\n",
       "      <td>16</td>\n",
       "      <td>Returnees from Iran</td>\n",
       "      <td>0</td>\n",
       "      <td>9488</td>\n",
       "      <td>5337</td>\n",
       "      <td>2020-03-19</td>\n",
       "      <td>0</td>\n",
       "      <td>32</td>\n",
       "    </tr>\n",
       "    <tr>\n",
       "      <td>17</td>\n",
       "      <td>Returnees from China</td>\n",
       "      <td>0</td>\n",
       "      <td>5441</td>\n",
       "      <td>9392</td>\n",
       "      <td>2020-03-19</td>\n",
       "      <td>2</td>\n",
       "      <td>493</td>\n",
       "    </tr>\n",
       "    <tr>\n",
       "      <td>18</td>\n",
       "      <td>Returnees from Iran</td>\n",
       "      <td>0</td>\n",
       "      <td>9488</td>\n",
       "      <td>5623</td>\n",
       "      <td>2020-03-20</td>\n",
       "      <td>0</td>\n",
       "      <td>286</td>\n",
       "    </tr>\n",
       "    <tr>\n",
       "      <td>19</td>\n",
       "      <td>Returnees from China</td>\n",
       "      <td>8</td>\n",
       "      <td>5458</td>\n",
       "      <td>9392</td>\n",
       "      <td>2020-03-20</td>\n",
       "      <td>17</td>\n",
       "      <td>0</td>\n",
       "    </tr>\n",
       "    <tr>\n",
       "      <td>20</td>\n",
       "      <td>Returnees from Iran</td>\n",
       "      <td>1</td>\n",
       "      <td>9489</td>\n",
       "      <td>5977</td>\n",
       "      <td>2020-03-21</td>\n",
       "      <td>1</td>\n",
       "      <td>354</td>\n",
       "    </tr>\n",
       "    <tr>\n",
       "      <td>21</td>\n",
       "      <td>Returnees from China</td>\n",
       "      <td>1</td>\n",
       "      <td>5462</td>\n",
       "      <td>9658</td>\n",
       "      <td>2020-03-21</td>\n",
       "      <td>4</td>\n",
       "      <td>266</td>\n",
       "    </tr>\n",
       "    <tr>\n",
       "      <td>22</td>\n",
       "      <td>Returnees from Iran</td>\n",
       "      <td>0</td>\n",
       "      <td>9489</td>\n",
       "      <td>6116</td>\n",
       "      <td>2020-03-22</td>\n",
       "      <td>0</td>\n",
       "      <td>139</td>\n",
       "    </tr>\n",
       "    <tr>\n",
       "      <td>23</td>\n",
       "      <td>Returnees from China</td>\n",
       "      <td>3</td>\n",
       "      <td>5473</td>\n",
       "      <td>10109</td>\n",
       "      <td>2020-03-22</td>\n",
       "      <td>11</td>\n",
       "      <td>451</td>\n",
       "    </tr>\n",
       "    <tr>\n",
       "      <td>24</td>\n",
       "      <td>Returnees from Iran</td>\n",
       "      <td>0</td>\n",
       "      <td>9489</td>\n",
       "      <td>6289</td>\n",
       "      <td>2020-03-23</td>\n",
       "      <td>0</td>\n",
       "      <td>173</td>\n",
       "    </tr>\n",
       "    <tr>\n",
       "      <td>25</td>\n",
       "      <td>Returnees from China</td>\n",
       "      <td>1</td>\n",
       "      <td>5474</td>\n",
       "      <td>10451</td>\n",
       "      <td>2020-03-23</td>\n",
       "      <td>1</td>\n",
       "      <td>342</td>\n",
       "    </tr>\n",
       "    <tr>\n",
       "      <td>26</td>\n",
       "      <td>Returnees from Iran</td>\n",
       "      <td>0</td>\n",
       "      <td>9489</td>\n",
       "      <td>6289</td>\n",
       "      <td>2020-03-24</td>\n",
       "      <td>0</td>\n",
       "      <td>0</td>\n",
       "    </tr>\n",
       "    <tr>\n",
       "      <td>27</td>\n",
       "      <td>Returnees from China</td>\n",
       "      <td>0</td>\n",
       "      <td>5474</td>\n",
       "      <td>10875</td>\n",
       "      <td>2020-03-24</td>\n",
       "      <td>0</td>\n",
       "      <td>424</td>\n",
       "    </tr>\n",
       "    <tr>\n",
       "      <td>28</td>\n",
       "      <td>Returnees from Iran</td>\n",
       "      <td>0</td>\n",
       "      <td>9489</td>\n",
       "      <td>6474</td>\n",
       "      <td>2020-03-25</td>\n",
       "      <td>0</td>\n",
       "      <td>185</td>\n",
       "    </tr>\n",
       "    <tr>\n",
       "      <td>29</td>\n",
       "      <td>Returnees from China</td>\n",
       "      <td>0</td>\n",
       "      <td>5474</td>\n",
       "      <td>11110</td>\n",
       "      <td>2020-03-25</td>\n",
       "      <td>0</td>\n",
       "      <td>235</td>\n",
       "    </tr>\n",
       "    <tr>\n",
       "      <td>30</td>\n",
       "      <td>Returnees from Iran</td>\n",
       "      <td>0</td>\n",
       "      <td>9489</td>\n",
       "      <td>6890</td>\n",
       "      <td>2020-03-26</td>\n",
       "      <td>0</td>\n",
       "      <td>416</td>\n",
       "    </tr>\n",
       "    <tr>\n",
       "      <td>31</td>\n",
       "      <td>Returnees from China</td>\n",
       "      <td>0</td>\n",
       "      <td>5474</td>\n",
       "      <td>11460</td>\n",
       "      <td>2020-03-26</td>\n",
       "      <td>0</td>\n",
       "      <td>350</td>\n",
       "    </tr>\n",
       "    <tr>\n",
       "      <td>32</td>\n",
       "      <td>Returnees from Iran</td>\n",
       "      <td>0</td>\n",
       "      <td>9489</td>\n",
       "      <td>6923</td>\n",
       "      <td>2020-03-27</td>\n",
       "      <td>0</td>\n",
       "      <td>133</td>\n",
       "    </tr>\n",
       "    <tr>\n",
       "      <td>33</td>\n",
       "      <td>Returnees from China</td>\n",
       "      <td>0</td>\n",
       "      <td>5474</td>\n",
       "      <td>11727</td>\n",
       "      <td>2020-03-27</td>\n",
       "      <td>0</td>\n",
       "      <td>267</td>\n",
       "    </tr>\n",
       "    <tr>\n",
       "      <td>34</td>\n",
       "      <td>Returnees from Iran</td>\n",
       "      <td>0</td>\n",
       "      <td>9489</td>\n",
       "      <td>7115</td>\n",
       "      <td>2020-03-28</td>\n",
       "      <td>0</td>\n",
       "      <td>192</td>\n",
       "    </tr>\n",
       "    <tr>\n",
       "      <td>35</td>\n",
       "      <td>Returnees from China</td>\n",
       "      <td>0</td>\n",
       "      <td>5474</td>\n",
       "      <td>12247</td>\n",
       "      <td>2020-03-28</td>\n",
       "      <td>0</td>\n",
       "      <td>520</td>\n",
       "    </tr>\n",
       "    <tr>\n",
       "      <td>36</td>\n",
       "      <td>Returnees from Iran</td>\n",
       "      <td>0</td>\n",
       "      <td>9489</td>\n",
       "      <td>7115</td>\n",
       "      <td>2020-03-29</td>\n",
       "      <td>0</td>\n",
       "      <td>0</td>\n",
       "    </tr>\n",
       "    <tr>\n",
       "      <td>37</td>\n",
       "      <td>Returnees from China</td>\n",
       "      <td>0</td>\n",
       "      <td>5474</td>\n",
       "      <td>12409</td>\n",
       "      <td>2020-03-29</td>\n",
       "      <td>0</td>\n",
       "      <td>162</td>\n",
       "    </tr>\n",
       "    <tr>\n",
       "      <td>38</td>\n",
       "      <td>Returnees from Iran</td>\n",
       "      <td>0</td>\n",
       "      <td>9489</td>\n",
       "      <td>7215</td>\n",
       "      <td>2020-03-30</td>\n",
       "      <td>0</td>\n",
       "      <td>100</td>\n",
       "    </tr>\n",
       "    <tr>\n",
       "      <td>39</td>\n",
       "      <td>Returnees from China</td>\n",
       "      <td>0</td>\n",
       "      <td>5474</td>\n",
       "      <td>12480</td>\n",
       "      <td>2020-03-30</td>\n",
       "      <td>0</td>\n",
       "      <td>71</td>\n",
       "    </tr>\n",
       "  </tbody>\n",
       "</table>\n",
       "</div>"
      ],
      "text/plain": [
       "               RETURNEES  ADVISED SELF-QUARANTINE  \\\n",
       "0    Returnees from Iran                        0   \n",
       "1   Returnees from China                       11   \n",
       "2    Returnees from Iran                       14   \n",
       "3   Returnees from China                        7   \n",
       "4    Returnees from Iran                        0   \n",
       "5   Returnees from China                       10   \n",
       "6    Returnees from Iran                        3   \n",
       "7   Returnees from China                        5   \n",
       "8    Returnees from Iran                        0   \n",
       "9   Returnees from China                        0   \n",
       "10   Returnees from Iran                        3   \n",
       "11  Returnees from China                       11   \n",
       "12   Returnees from Iran                        0   \n",
       "13  Returnees from China                       13   \n",
       "14   Returnees from Iran                        0   \n",
       "15  Returnees from China                       16   \n",
       "16   Returnees from Iran                        0   \n",
       "17  Returnees from China                        0   \n",
       "18   Returnees from Iran                        0   \n",
       "19  Returnees from China                        8   \n",
       "20   Returnees from Iran                        1   \n",
       "21  Returnees from China                        1   \n",
       "22   Returnees from Iran                        0   \n",
       "23  Returnees from China                        3   \n",
       "24   Returnees from Iran                        0   \n",
       "25  Returnees from China                        1   \n",
       "26   Returnees from Iran                        0   \n",
       "27  Returnees from China                        0   \n",
       "28   Returnees from Iran                        0   \n",
       "29  Returnees from China                        0   \n",
       "30   Returnees from Iran                        0   \n",
       "31  Returnees from China                        0   \n",
       "32   Returnees from Iran                        0   \n",
       "33  Returnees from China                        0   \n",
       "34   Returnees from Iran                        0   \n",
       "35  Returnees from China                        0   \n",
       "36   Returnees from Iran                        0   \n",
       "37  Returnees from China                        0   \n",
       "38   Returnees from Iran                        0   \n",
       "39  Returnees from China                        0   \n",
       "\n",
       "    CUMULATIVE NO OFFIRST-TIME CALLS  CUMULATIVEFOLLOW-UP CALLS        DATE  \\\n",
       "0                               9459                       2553  2020-03-11   \n",
       "1                               5342                       7746  2020-03-11   \n",
       "2                               9475                       3221  2020-03-12   \n",
       "3                               5352                       7855  2020-03-12   \n",
       "4                               9475                       3853  2020-03-13   \n",
       "5                               5362                       8041  2020-03-13   \n",
       "6                               9480                       4182  2020-03-14   \n",
       "7                               5370                       8083  2020-03-14   \n",
       "8                               9480                       4625  2020-03-15   \n",
       "9                               5370                       8160  2020-03-15   \n",
       "10                              9488                       4625  2020-03-16   \n",
       "11                              5394                       8160  2020-03-16   \n",
       "12                              9488                       5063  2020-03-17   \n",
       "13                              5413                       8180  2020-03-17   \n",
       "14                              9488                       5337  2020-03-18   \n",
       "15                              5439                       8899  2020-03-18   \n",
       "16                              9488                       5337  2020-03-19   \n",
       "17                              5441                       9392  2020-03-19   \n",
       "18                              9488                       5623  2020-03-20   \n",
       "19                              5458                       9392  2020-03-20   \n",
       "20                              9489                       5977  2020-03-21   \n",
       "21                              5462                       9658  2020-03-21   \n",
       "22                              9489                       6116  2020-03-22   \n",
       "23                              5473                      10109  2020-03-22   \n",
       "24                              9489                       6289  2020-03-23   \n",
       "25                              5474                      10451  2020-03-23   \n",
       "26                              9489                       6289  2020-03-24   \n",
       "27                              5474                      10875  2020-03-24   \n",
       "28                              9489                       6474  2020-03-25   \n",
       "29                              5474                      11110  2020-03-25   \n",
       "30                              9489                       6890  2020-03-26   \n",
       "31                              5474                      11460  2020-03-26   \n",
       "32                              9489                       6923  2020-03-27   \n",
       "33                              5474                      11727  2020-03-27   \n",
       "34                              9489                       7115  2020-03-28   \n",
       "35                              5474                      12247  2020-03-28   \n",
       "36                              9489                       7115  2020-03-29   \n",
       "37                              5474                      12409  2020-03-29   \n",
       "38                              9489                       7215  2020-03-30   \n",
       "39                              5474                      12480  2020-03-30   \n",
       "\n",
       "    FIRST-TIME CALLS INPAST 24 HRS  FOLLOW-UP CALLS INPAST 24 HRS  \n",
       "0                                0                            353  \n",
       "1                               17                            400  \n",
       "2                               16                            668  \n",
       "3                               10                            109  \n",
       "4                                0                            632  \n",
       "5                               10                            186  \n",
       "6                                5                            329  \n",
       "7                                8                             42  \n",
       "8                                0                            443  \n",
       "9                                0                             77  \n",
       "10                               8                              0  \n",
       "11                              24                              0  \n",
       "12                               0                            438  \n",
       "13                              19                             20  \n",
       "14                               0                            274  \n",
       "15                              26                            719  \n",
       "16                               0                             32  \n",
       "17                               2                            493  \n",
       "18                               0                            286  \n",
       "19                              17                              0  \n",
       "20                               1                            354  \n",
       "21                               4                            266  \n",
       "22                               0                            139  \n",
       "23                              11                            451  \n",
       "24                               0                            173  \n",
       "25                               1                            342  \n",
       "26                               0                              0  \n",
       "27                               0                            424  \n",
       "28                               0                            185  \n",
       "29                               0                            235  \n",
       "30                               0                            416  \n",
       "31                               0                            350  \n",
       "32                               0                            133  \n",
       "33                               0                            267  \n",
       "34                               0                            192  \n",
       "35                               0                            520  \n",
       "36                               0                              0  \n",
       "37                               0                            162  \n",
       "38                               0                            100  \n",
       "39                               0                             71  "
      ]
     },
     "execution_count": 43,
     "metadata": {},
     "output_type": "execute_result"
    }
   ],
   "source": [
    "sheet4"
   ]
  },
  {
   "cell_type": "markdown",
   "metadata": {
    "colab_type": "text",
    "id": "yRBn0o3Ftn-x"
   },
   "source": [
    "#### **SHEET 5:**"
   ]
  },
  {
   "cell_type": "markdown",
   "metadata": {
    "colab_type": "text",
    "id": "zwlrRg7ut9Tu"
   },
   "source": [
    "**Displaying Sheet 5**"
   ]
  },
  {
   "cell_type": "code",
   "execution_count": 44,
   "metadata": {
    "colab": {
     "base_uri": "https://localhost:8080/",
     "height": 0
    },
    "colab_type": "code",
    "id": "8cEtCoIvvop0",
    "outputId": "255cb7ab-e544-4d4e-ea8e-4a08439fb526"
   },
   "outputs": [
    {
     "data": {
      "text/html": [
       "<div>\n",
       "<style scoped>\n",
       "    .dataframe tbody tr th:only-of-type {\n",
       "        vertical-align: middle;\n",
       "    }\n",
       "\n",
       "    .dataframe tbody tr th {\n",
       "        vertical-align: top;\n",
       "    }\n",
       "\n",
       "    .dataframe thead th {\n",
       "        text-align: right;\n",
       "    }\n",
       "</style>\n",
       "<table border=\"1\" class=\"dataframe\">\n",
       "  <thead>\n",
       "    <tr style=\"text-align: right;\">\n",
       "      <th></th>\n",
       "      <th>Unnamed: 0</th>\n",
       "      <th>Date</th>\n",
       "      <th>News</th>\n",
       "      <th>Agg News</th>\n",
       "    </tr>\n",
       "  </thead>\n",
       "  <tbody>\n",
       "    <tr>\n",
       "      <td>0</td>\n",
       "      <td>0</td>\n",
       "      <td>11-Mar-2020</td>\n",
       "      <td>Updates: Pakistan:</td>\n",
       "      <td>Updates: Pakistan: \\n Three new cases have bee...</td>\n",
       "    </tr>\n",
       "    <tr>\n",
       "      <td>1</td>\n",
       "      <td>1</td>\n",
       "      <td>11-Mar-2020</td>\n",
       "      <td>Three new cases have been confirmed in the pas...</td>\n",
       "      <td>Updates: Pakistan: \\n Three new cases have bee...</td>\n",
       "    </tr>\n",
       "    <tr>\n",
       "      <td>2</td>\n",
       "      <td>2</td>\n",
       "      <td>11-Mar-2020</td>\n",
       "      <td>Number of calls to passengers returning from I...</td>\n",
       "      <td>Updates: Pakistan: \\n Three new cases have bee...</td>\n",
       "    </tr>\n",
       "    <tr>\n",
       "      <td>3</td>\n",
       "      <td>3</td>\n",
       "      <td>11-Mar-2020</td>\n",
       "      <td>Global:</td>\n",
       "      <td>Updates: Pakistan: \\n Three new cases have bee...</td>\n",
       "    </tr>\n",
       "    <tr>\n",
       "      <td>4</td>\n",
       "      <td>4</td>\n",
       "      <td>11-Mar-2020</td>\n",
       "      <td>Total cases: 118,887,  Total Deaths: 4,290 •</td>\n",
       "      <td>Updates: Pakistan: \\n Three new cases have bee...</td>\n",
       "    </tr>\n",
       "    <tr>\n",
       "      <td>...</td>\n",
       "      <td>...</td>\n",
       "      <td>...</td>\n",
       "      <td>...</td>\n",
       "      <td>...</td>\n",
       "    </tr>\n",
       "    <tr>\n",
       "      <td>141</td>\n",
       "      <td>2</td>\n",
       "      <td>2020-04-03 00:00:00</td>\n",
       "      <td>2,450. Two deaths reported from Sindh. One dea...</td>\n",
       "      <td>Updates: Pakistan: \\n During last 24 hours, 15...</td>\n",
       "    </tr>\n",
       "    <tr>\n",
       "      <td>142</td>\n",
       "      <td>3</td>\n",
       "      <td>2020-04-03 00:00:00</td>\n",
       "      <td>deaths 35. •</td>\n",
       "      <td>Updates: Pakistan: \\n During last 24 hours, 15...</td>\n",
       "    </tr>\n",
       "    <tr>\n",
       "      <td>143</td>\n",
       "      <td>4</td>\n",
       "      <td>2020-04-03 00:00:00</td>\n",
       "      <td>Global:</td>\n",
       "      <td>Updates: Pakistan: \\n During last 24 hours, 15...</td>\n",
       "    </tr>\n",
       "    <tr>\n",
       "      <td>144</td>\n",
       "      <td>5</td>\n",
       "      <td>2020-04-03 00:00:00</td>\n",
       "      <td>Total cases:1,015,709 Total Deaths: 53,069 •</td>\n",
       "      <td>Updates: Pakistan: \\n During last 24 hours, 15...</td>\n",
       "    </tr>\n",
       "    <tr>\n",
       "      <td>145</td>\n",
       "      <td>6</td>\n",
       "      <td>2020-04-03 00:00:00</td>\n",
       "      <td>Total number of countries/regions affected: 181 •</td>\n",
       "      <td>Updates: Pakistan: \\n During last 24 hours, 15...</td>\n",
       "    </tr>\n",
       "  </tbody>\n",
       "</table>\n",
       "<p>146 rows × 4 columns</p>\n",
       "</div>"
      ],
      "text/plain": [
       "     Unnamed: 0                 Date  \\\n",
       "0             0          11-Mar-2020   \n",
       "1             1          11-Mar-2020   \n",
       "2             2          11-Mar-2020   \n",
       "3             3          11-Mar-2020   \n",
       "4             4          11-Mar-2020   \n",
       "..          ...                  ...   \n",
       "141           2  2020-04-03 00:00:00   \n",
       "142           3  2020-04-03 00:00:00   \n",
       "143           4  2020-04-03 00:00:00   \n",
       "144           5  2020-04-03 00:00:00   \n",
       "145           6  2020-04-03 00:00:00   \n",
       "\n",
       "                                                  News  \\\n",
       "0                                   Updates: Pakistan:   \n",
       "1    Three new cases have been confirmed in the pas...   \n",
       "2    Number of calls to passengers returning from I...   \n",
       "3                                              Global:   \n",
       "4         Total cases: 118,887,  Total Deaths: 4,290 •   \n",
       "..                                                 ...   \n",
       "141  2,450. Two deaths reported from Sindh. One dea...   \n",
       "142                                       deaths 35. •   \n",
       "143                                            Global:   \n",
       "144       Total cases:1,015,709 Total Deaths: 53,069 •   \n",
       "145  Total number of countries/regions affected: 181 •   \n",
       "\n",
       "                                              Agg News  \n",
       "0    Updates: Pakistan: \\n Three new cases have bee...  \n",
       "1    Updates: Pakistan: \\n Three new cases have bee...  \n",
       "2    Updates: Pakistan: \\n Three new cases have bee...  \n",
       "3    Updates: Pakistan: \\n Three new cases have bee...  \n",
       "4    Updates: Pakistan: \\n Three new cases have bee...  \n",
       "..                                                 ...  \n",
       "141  Updates: Pakistan: \\n During last 24 hours, 15...  \n",
       "142  Updates: Pakistan: \\n During last 24 hours, 15...  \n",
       "143  Updates: Pakistan: \\n During last 24 hours, 15...  \n",
       "144  Updates: Pakistan: \\n During last 24 hours, 15...  \n",
       "145  Updates: Pakistan: \\n During last 24 hours, 15...  \n",
       "\n",
       "[146 rows x 4 columns]"
      ]
     },
     "execution_count": 44,
     "metadata": {},
     "output_type": "execute_result"
    }
   ],
   "source": [
    "sheet5"
   ]
  },
  {
   "cell_type": "markdown",
   "metadata": {
    "colab_type": "text",
    "id": "geALHp7ovpk0"
   },
   "source": [
    "**Capitalize all the column headings**"
   ]
  },
  {
   "cell_type": "code",
   "execution_count": 45,
   "metadata": {
    "colab": {
     "base_uri": "https://localhost:8080/",
     "height": 0
    },
    "colab_type": "code",
    "id": "-WWZVo3YwLQg",
    "outputId": "0a6f7317-0b80-4aed-8c1e-b8529ddd1847"
   },
   "outputs": [
    {
     "data": {
      "text/plain": [
       "Index(['UNNAMED: 0', 'DATE', 'NEWS', 'AGG NEWS'], dtype='object')"
      ]
     },
     "execution_count": 45,
     "metadata": {},
     "output_type": "execute_result"
    }
   ],
   "source": [
    "sheet5.columns=sheet5.columns.str.upper().str.strip()\n",
    "sheet5.columns"
   ]
  },
  {
   "cell_type": "markdown",
   "metadata": {
    "colab_type": "text",
    "id": "uV0hJIpr_YS5"
   },
   "source": [
    "**Drop the column 1 'UNNAMED: 0' and column 3 'NEWS' and also remove duplicate rows**"
   ]
  },
  {
   "cell_type": "code",
   "execution_count": 46,
   "metadata": {
    "colab": {
     "base_uri": "https://localhost:8080/",
     "height": 0
    },
    "colab_type": "code",
    "id": "d9d5wu3-_YhU",
    "outputId": "45f2348c-1806-4a0f-b44c-d8da355b3f15"
   },
   "outputs": [],
   "source": [
    "sheet5.drop(['UNNAMED: 0'], axis=1, inplace=True)\n",
    "sheet5.drop(['NEWS'], axis=1, inplace=True)\n",
    "sheet5.drop_duplicates(subset='DATE', keep='first',inplace=True) "
   ]
  },
  {
   "cell_type": "markdown",
   "metadata": {
    "colab_type": "text",
    "id": "QfZNfC5AwLk7"
   },
   "source": [
    "**Finding which column has missing data**"
   ]
  },
  {
   "cell_type": "code",
   "execution_count": 47,
   "metadata": {
    "colab": {
     "base_uri": "https://localhost:8080/",
     "height": 0
    },
    "colab_type": "code",
    "id": "ffdUldYm_EHi",
    "outputId": "0b2155b9-d8d0-4895-ba90-aff30243835e"
   },
   "outputs": [
    {
     "data": {
      "text/plain": [
       "DATE        0\n",
       "AGG NEWS    0\n",
       "dtype: int64"
      ]
     },
     "execution_count": 47,
     "metadata": {},
     "output_type": "execute_result"
    }
   ],
   "source": [
    "sheet5.isnull().sum()"
   ]
  },
  {
   "cell_type": "markdown",
   "metadata": {
    "colab_type": "text",
    "id": "03Eec48D_HBf"
   },
   "source": [
    "**Checking the Data Types of the columns**"
   ]
  },
  {
   "cell_type": "code",
   "execution_count": 48,
   "metadata": {
    "colab": {
     "base_uri": "https://localhost:8080/",
     "height": 0
    },
    "colab_type": "code",
    "id": "WFf9tgLB_HeG",
    "outputId": "98ec516e-f2c6-4c4f-8a2c-7251ede1522d"
   },
   "outputs": [
    {
     "data": {
      "text/plain": [
       "DATE        object\n",
       "AGG NEWS    object\n",
       "dtype: object"
      ]
     },
     "execution_count": 48,
     "metadata": {},
     "output_type": "execute_result"
    }
   ],
   "source": [
    "sheet5.dtypes"
   ]
  },
  {
   "cell_type": "markdown",
   "metadata": {
    "colab_type": "text",
    "id": "YPsyc_xAADsn"
   },
   "source": [
    "**Changing the datatype and syntax of 'DATE' column**"
   ]
  },
  {
   "cell_type": "code",
   "execution_count": 49,
   "metadata": {
    "colab": {
     "base_uri": "https://localhost:8080/",
     "height": 0
    },
    "colab_type": "code",
    "id": "l0EncrkzAD5x",
    "outputId": "261e5fdc-7667-4adc-ab28-5fa59df1a02a"
   },
   "outputs": [
    {
     "data": {
      "text/html": [
       "<div>\n",
       "<style scoped>\n",
       "    .dataframe tbody tr th:only-of-type {\n",
       "        vertical-align: middle;\n",
       "    }\n",
       "\n",
       "    .dataframe tbody tr th {\n",
       "        vertical-align: top;\n",
       "    }\n",
       "\n",
       "    .dataframe thead th {\n",
       "        text-align: right;\n",
       "    }\n",
       "</style>\n",
       "<table border=\"1\" class=\"dataframe\">\n",
       "  <thead>\n",
       "    <tr style=\"text-align: right;\">\n",
       "      <th></th>\n",
       "      <th>DATE</th>\n",
       "      <th>AGG NEWS</th>\n",
       "    </tr>\n",
       "  </thead>\n",
       "  <tbody>\n",
       "    <tr>\n",
       "      <td>0</td>\n",
       "      <td>2020-03-11</td>\n",
       "      <td>Updates: Pakistan: \\n Three new cases have bee...</td>\n",
       "    </tr>\n",
       "    <tr>\n",
       "      <td>6</td>\n",
       "      <td>2020-03-12</td>\n",
       "      <td>Updates: Pakistan: \\n One case confirmed from ...</td>\n",
       "    </tr>\n",
       "    <tr>\n",
       "      <td>12</td>\n",
       "      <td>2020-03-13</td>\n",
       "      <td>Updates: Pakistan: \\n One case confirmed from ...</td>\n",
       "    </tr>\n",
       "    <tr>\n",
       "      <td>18</td>\n",
       "      <td>2020-03-14</td>\n",
       "      <td>Updates: Pakistan: \\n 7 new cases confirmed, b...</td>\n",
       "    </tr>\n",
       "    <tr>\n",
       "      <td>24</td>\n",
       "      <td>2020-03-15</td>\n",
       "      <td>Updates: Pakistan: \\n 3 new cases confirmed, b...</td>\n",
       "    </tr>\n",
       "    <tr>\n",
       "      <td>30</td>\n",
       "      <td>2020-03-16</td>\n",
       "      <td>Updates: Pakistan: \\n 22 new cases confirmed, ...</td>\n",
       "    </tr>\n",
       "    <tr>\n",
       "      <td>35</td>\n",
       "      <td>2020-03-17</td>\n",
       "      <td>Updates: Pakistan: \\n 134 new cases confirmed,...</td>\n",
       "    </tr>\n",
       "    <tr>\n",
       "      <td>41</td>\n",
       "      <td>2020-03-18</td>\n",
       "      <td>Updates: Pakistan: \\n 54 new cases confirmed, ...</td>\n",
       "    </tr>\n",
       "    <tr>\n",
       "      <td>45</td>\n",
       "      <td>2020-03-19</td>\n",
       "      <td>Updates: Pakistan: \\n During  last  24  hours,...</td>\n",
       "    </tr>\n",
       "    <tr>\n",
       "      <td>51</td>\n",
       "      <td>2020-03-20</td>\n",
       "      <td>Updates: Pakistan: \\n During last 24 hours, 15...</td>\n",
       "    </tr>\n",
       "    <tr>\n",
       "      <td>57</td>\n",
       "      <td>2020-03-21</td>\n",
       "      <td>Updates: Pakistan: \\n During last 24 hours, 34...</td>\n",
       "    </tr>\n",
       "    <tr>\n",
       "      <td>63</td>\n",
       "      <td>2020-03-22</td>\n",
       "      <td>Updates: Pakistan: \\n During last 24 hours, 25...</td>\n",
       "    </tr>\n",
       "    <tr>\n",
       "      <td>69</td>\n",
       "      <td>2020-03-23</td>\n",
       "      <td>Updates: Pakistan: \\n During last 24 hours, 13...</td>\n",
       "    </tr>\n",
       "    <tr>\n",
       "      <td>75</td>\n",
       "      <td>2020-03-24</td>\n",
       "      <td>Updates: Pakistan: \\n During last 24 hours, 24...</td>\n",
       "    </tr>\n",
       "    <tr>\n",
       "      <td>81</td>\n",
       "      <td>2020-03-25</td>\n",
       "      <td>Updates: Pakistan: \\n During last 24 hours, 10...</td>\n",
       "    </tr>\n",
       "    <tr>\n",
       "      <td>87</td>\n",
       "      <td>2020-03-26</td>\n",
       "      <td>Updates: Pakistan: \\n During last 24 hours, 66...</td>\n",
       "    </tr>\n",
       "    <tr>\n",
       "      <td>93</td>\n",
       "      <td>2020-03-27</td>\n",
       "      <td>Updates: Pakistan: \\n During last 24 hours, 14...</td>\n",
       "    </tr>\n",
       "    <tr>\n",
       "      <td>99</td>\n",
       "      <td>2020-03-28</td>\n",
       "      <td>Updates: Pakistan: \\n During last 24 hours, 21...</td>\n",
       "    </tr>\n",
       "    <tr>\n",
       "      <td>105</td>\n",
       "      <td>2020-03-29</td>\n",
       "      <td>Updates: Pakistan: \\n During last 24 hours, 11...</td>\n",
       "    </tr>\n",
       "    <tr>\n",
       "      <td>112</td>\n",
       "      <td>2020-03-30</td>\n",
       "      <td>Updates: Pakistan: \\n During last 24 hours, 99...</td>\n",
       "    </tr>\n",
       "    <tr>\n",
       "      <td>119</td>\n",
       "      <td>2020-03-31</td>\n",
       "      <td>Updates: Pakistan: \\n During last 24 hours, 24...</td>\n",
       "    </tr>\n",
       "    <tr>\n",
       "      <td>126</td>\n",
       "      <td>2020-04-01</td>\n",
       "      <td>Updates: Pakistan: \\n During last 24 hours, 17...</td>\n",
       "    </tr>\n",
       "    <tr>\n",
       "      <td>132</td>\n",
       "      <td>2020-04-02</td>\n",
       "      <td>Updates: Pakistan: \\n During last 24 hours, 25...</td>\n",
       "    </tr>\n",
       "    <tr>\n",
       "      <td>139</td>\n",
       "      <td>2020-04-03</td>\n",
       "      <td>Updates: Pakistan: \\n During last 24 hours, 15...</td>\n",
       "    </tr>\n",
       "  </tbody>\n",
       "</table>\n",
       "</div>"
      ],
      "text/plain": [
       "           DATE                                           AGG NEWS\n",
       "0    2020-03-11  Updates: Pakistan: \\n Three new cases have bee...\n",
       "6    2020-03-12  Updates: Pakistan: \\n One case confirmed from ...\n",
       "12   2020-03-13  Updates: Pakistan: \\n One case confirmed from ...\n",
       "18   2020-03-14  Updates: Pakistan: \\n 7 new cases confirmed, b...\n",
       "24   2020-03-15  Updates: Pakistan: \\n 3 new cases confirmed, b...\n",
       "30   2020-03-16  Updates: Pakistan: \\n 22 new cases confirmed, ...\n",
       "35   2020-03-17  Updates: Pakistan: \\n 134 new cases confirmed,...\n",
       "41   2020-03-18  Updates: Pakistan: \\n 54 new cases confirmed, ...\n",
       "45   2020-03-19  Updates: Pakistan: \\n During  last  24  hours,...\n",
       "51   2020-03-20  Updates: Pakistan: \\n During last 24 hours, 15...\n",
       "57   2020-03-21  Updates: Pakistan: \\n During last 24 hours, 34...\n",
       "63   2020-03-22  Updates: Pakistan: \\n During last 24 hours, 25...\n",
       "69   2020-03-23  Updates: Pakistan: \\n During last 24 hours, 13...\n",
       "75   2020-03-24  Updates: Pakistan: \\n During last 24 hours, 24...\n",
       "81   2020-03-25  Updates: Pakistan: \\n During last 24 hours, 10...\n",
       "87   2020-03-26  Updates: Pakistan: \\n During last 24 hours, 66...\n",
       "93   2020-03-27  Updates: Pakistan: \\n During last 24 hours, 14...\n",
       "99   2020-03-28  Updates: Pakistan: \\n During last 24 hours, 21...\n",
       "105  2020-03-29  Updates: Pakistan: \\n During last 24 hours, 11...\n",
       "112  2020-03-30  Updates: Pakistan: \\n During last 24 hours, 99...\n",
       "119  2020-03-31  Updates: Pakistan: \\n During last 24 hours, 24...\n",
       "126  2020-04-01  Updates: Pakistan: \\n During last 24 hours, 17...\n",
       "132  2020-04-02  Updates: Pakistan: \\n During last 24 hours, 25...\n",
       "139  2020-04-03  Updates: Pakistan: \\n During last 24 hours, 15..."
      ]
     },
     "execution_count": 49,
     "metadata": {},
     "output_type": "execute_result"
    }
   ],
   "source": [
    "sheet5['DATE']=pd.to_datetime(sheet5['DATE']).dt.date\n",
    "sheet5"
   ]
  },
  {
   "cell_type": "markdown",
   "metadata": {
    "colab_type": "text",
    "id": "IroRjfoWAEcR"
   },
   "source": [
    "**Again checking the datatypes of all the columns**"
   ]
  },
  {
   "cell_type": "code",
   "execution_count": 50,
   "metadata": {
    "colab": {
     "base_uri": "https://localhost:8080/",
     "height": 0
    },
    "colab_type": "code",
    "id": "KrBX94KDAEr6",
    "outputId": "f38c43e5-4c9c-4e28-eadc-4f6b0631716b"
   },
   "outputs": [
    {
     "data": {
      "text/plain": [
       "DATE        object\n",
       "AGG NEWS    object\n",
       "dtype: object"
      ]
     },
     "execution_count": 50,
     "metadata": {},
     "output_type": "execute_result"
    }
   ],
   "source": [
    "sheet5.dtypes"
   ]
  },
  {
   "cell_type": "markdown",
   "metadata": {
    "colab_type": "text",
    "id": "ZJEyZ7xBDA9H"
   },
   "source": [
    "**Padding will be done on the 'NEWS' column**"
   ]
  },
  {
   "cell_type": "code",
   "execution_count": 51,
   "metadata": {
    "colab": {},
    "colab_type": "code",
    "id": "o9h51PczDBMj"
   },
   "outputs": [],
   "source": [
    "sheet5['AGG NEWS']=sheet5['AGG NEWS'].str.pad(12,side='right')"
   ]
  },
  {
   "cell_type": "markdown",
   "metadata": {
    "colab_type": "text",
    "id": "I6rU11uJAIkW"
   },
   "source": [
    "**Displaying Sheet5 Again**"
   ]
  },
  {
   "cell_type": "code",
   "execution_count": 52,
   "metadata": {
    "colab": {
     "base_uri": "https://localhost:8080/",
     "height": 0
    },
    "colab_type": "code",
    "id": "Jv5rRqqiAIzc",
    "outputId": "94b6d533-d6d0-4cb1-d4ee-a566a7dc9cab"
   },
   "outputs": [
    {
     "data": {
      "text/html": [
       "<div>\n",
       "<style scoped>\n",
       "    .dataframe tbody tr th:only-of-type {\n",
       "        vertical-align: middle;\n",
       "    }\n",
       "\n",
       "    .dataframe tbody tr th {\n",
       "        vertical-align: top;\n",
       "    }\n",
       "\n",
       "    .dataframe thead th {\n",
       "        text-align: right;\n",
       "    }\n",
       "</style>\n",
       "<table border=\"1\" class=\"dataframe\">\n",
       "  <thead>\n",
       "    <tr style=\"text-align: right;\">\n",
       "      <th></th>\n",
       "      <th>DATE</th>\n",
       "      <th>AGG NEWS</th>\n",
       "    </tr>\n",
       "  </thead>\n",
       "  <tbody>\n",
       "    <tr>\n",
       "      <td>0</td>\n",
       "      <td>2020-03-11</td>\n",
       "      <td>Updates: Pakistan: \\n Three new cases have bee...</td>\n",
       "    </tr>\n",
       "    <tr>\n",
       "      <td>6</td>\n",
       "      <td>2020-03-12</td>\n",
       "      <td>Updates: Pakistan: \\n One case confirmed from ...</td>\n",
       "    </tr>\n",
       "    <tr>\n",
       "      <td>12</td>\n",
       "      <td>2020-03-13</td>\n",
       "      <td>Updates: Pakistan: \\n One case confirmed from ...</td>\n",
       "    </tr>\n",
       "    <tr>\n",
       "      <td>18</td>\n",
       "      <td>2020-03-14</td>\n",
       "      <td>Updates: Pakistan: \\n 7 new cases confirmed, b...</td>\n",
       "    </tr>\n",
       "    <tr>\n",
       "      <td>24</td>\n",
       "      <td>2020-03-15</td>\n",
       "      <td>Updates: Pakistan: \\n 3 new cases confirmed, b...</td>\n",
       "    </tr>\n",
       "    <tr>\n",
       "      <td>30</td>\n",
       "      <td>2020-03-16</td>\n",
       "      <td>Updates: Pakistan: \\n 22 new cases confirmed, ...</td>\n",
       "    </tr>\n",
       "    <tr>\n",
       "      <td>35</td>\n",
       "      <td>2020-03-17</td>\n",
       "      <td>Updates: Pakistan: \\n 134 new cases confirmed,...</td>\n",
       "    </tr>\n",
       "    <tr>\n",
       "      <td>41</td>\n",
       "      <td>2020-03-18</td>\n",
       "      <td>Updates: Pakistan: \\n 54 new cases confirmed, ...</td>\n",
       "    </tr>\n",
       "    <tr>\n",
       "      <td>45</td>\n",
       "      <td>2020-03-19</td>\n",
       "      <td>Updates: Pakistan: \\n During  last  24  hours,...</td>\n",
       "    </tr>\n",
       "    <tr>\n",
       "      <td>51</td>\n",
       "      <td>2020-03-20</td>\n",
       "      <td>Updates: Pakistan: \\n During last 24 hours, 15...</td>\n",
       "    </tr>\n",
       "    <tr>\n",
       "      <td>57</td>\n",
       "      <td>2020-03-21</td>\n",
       "      <td>Updates: Pakistan: \\n During last 24 hours, 34...</td>\n",
       "    </tr>\n",
       "    <tr>\n",
       "      <td>63</td>\n",
       "      <td>2020-03-22</td>\n",
       "      <td>Updates: Pakistan: \\n During last 24 hours, 25...</td>\n",
       "    </tr>\n",
       "    <tr>\n",
       "      <td>69</td>\n",
       "      <td>2020-03-23</td>\n",
       "      <td>Updates: Pakistan: \\n During last 24 hours, 13...</td>\n",
       "    </tr>\n",
       "    <tr>\n",
       "      <td>75</td>\n",
       "      <td>2020-03-24</td>\n",
       "      <td>Updates: Pakistan: \\n During last 24 hours, 24...</td>\n",
       "    </tr>\n",
       "    <tr>\n",
       "      <td>81</td>\n",
       "      <td>2020-03-25</td>\n",
       "      <td>Updates: Pakistan: \\n During last 24 hours, 10...</td>\n",
       "    </tr>\n",
       "    <tr>\n",
       "      <td>87</td>\n",
       "      <td>2020-03-26</td>\n",
       "      <td>Updates: Pakistan: \\n During last 24 hours, 66...</td>\n",
       "    </tr>\n",
       "    <tr>\n",
       "      <td>93</td>\n",
       "      <td>2020-03-27</td>\n",
       "      <td>Updates: Pakistan: \\n During last 24 hours, 14...</td>\n",
       "    </tr>\n",
       "    <tr>\n",
       "      <td>99</td>\n",
       "      <td>2020-03-28</td>\n",
       "      <td>Updates: Pakistan: \\n During last 24 hours, 21...</td>\n",
       "    </tr>\n",
       "    <tr>\n",
       "      <td>105</td>\n",
       "      <td>2020-03-29</td>\n",
       "      <td>Updates: Pakistan: \\n During last 24 hours, 11...</td>\n",
       "    </tr>\n",
       "    <tr>\n",
       "      <td>112</td>\n",
       "      <td>2020-03-30</td>\n",
       "      <td>Updates: Pakistan: \\n During last 24 hours, 99...</td>\n",
       "    </tr>\n",
       "    <tr>\n",
       "      <td>119</td>\n",
       "      <td>2020-03-31</td>\n",
       "      <td>Updates: Pakistan: \\n During last 24 hours, 24...</td>\n",
       "    </tr>\n",
       "    <tr>\n",
       "      <td>126</td>\n",
       "      <td>2020-04-01</td>\n",
       "      <td>Updates: Pakistan: \\n During last 24 hours, 17...</td>\n",
       "    </tr>\n",
       "    <tr>\n",
       "      <td>132</td>\n",
       "      <td>2020-04-02</td>\n",
       "      <td>Updates: Pakistan: \\n During last 24 hours, 25...</td>\n",
       "    </tr>\n",
       "    <tr>\n",
       "      <td>139</td>\n",
       "      <td>2020-04-03</td>\n",
       "      <td>Updates: Pakistan: \\n During last 24 hours, 15...</td>\n",
       "    </tr>\n",
       "  </tbody>\n",
       "</table>\n",
       "</div>"
      ],
      "text/plain": [
       "           DATE                                           AGG NEWS\n",
       "0    2020-03-11  Updates: Pakistan: \\n Three new cases have bee...\n",
       "6    2020-03-12  Updates: Pakistan: \\n One case confirmed from ...\n",
       "12   2020-03-13  Updates: Pakistan: \\n One case confirmed from ...\n",
       "18   2020-03-14  Updates: Pakistan: \\n 7 new cases confirmed, b...\n",
       "24   2020-03-15  Updates: Pakistan: \\n 3 new cases confirmed, b...\n",
       "30   2020-03-16  Updates: Pakistan: \\n 22 new cases confirmed, ...\n",
       "35   2020-03-17  Updates: Pakistan: \\n 134 new cases confirmed,...\n",
       "41   2020-03-18  Updates: Pakistan: \\n 54 new cases confirmed, ...\n",
       "45   2020-03-19  Updates: Pakistan: \\n During  last  24  hours,...\n",
       "51   2020-03-20  Updates: Pakistan: \\n During last 24 hours, 15...\n",
       "57   2020-03-21  Updates: Pakistan: \\n During last 24 hours, 34...\n",
       "63   2020-03-22  Updates: Pakistan: \\n During last 24 hours, 25...\n",
       "69   2020-03-23  Updates: Pakistan: \\n During last 24 hours, 13...\n",
       "75   2020-03-24  Updates: Pakistan: \\n During last 24 hours, 24...\n",
       "81   2020-03-25  Updates: Pakistan: \\n During last 24 hours, 10...\n",
       "87   2020-03-26  Updates: Pakistan: \\n During last 24 hours, 66...\n",
       "93   2020-03-27  Updates: Pakistan: \\n During last 24 hours, 14...\n",
       "99   2020-03-28  Updates: Pakistan: \\n During last 24 hours, 21...\n",
       "105  2020-03-29  Updates: Pakistan: \\n During last 24 hours, 11...\n",
       "112  2020-03-30  Updates: Pakistan: \\n During last 24 hours, 99...\n",
       "119  2020-03-31  Updates: Pakistan: \\n During last 24 hours, 24...\n",
       "126  2020-04-01  Updates: Pakistan: \\n During last 24 hours, 17...\n",
       "132  2020-04-02  Updates: Pakistan: \\n During last 24 hours, 25...\n",
       "139  2020-04-03  Updates: Pakistan: \\n During last 24 hours, 15..."
      ]
     },
     "execution_count": 52,
     "metadata": {},
     "output_type": "execute_result"
    }
   ],
   "source": [
    "sheet5"
   ]
  },
  {
   "cell_type": "markdown",
   "metadata": {
    "colab_type": "text",
    "id": "QhTNc7tCtqLV"
   },
   "source": [
    "#### **SHEET 6:**"
   ]
  },
  {
   "cell_type": "markdown",
   "metadata": {
    "colab_type": "text",
    "id": "7LDoG_qYt-3z"
   },
   "source": [
    "**Displaying Sheet 6**"
   ]
  },
  {
   "cell_type": "code",
   "execution_count": 53,
   "metadata": {
    "colab": {
     "base_uri": "https://localhost:8080/",
     "height": 0
    },
    "colab_type": "code",
    "id": "bbrX47IFvrMs",
    "outputId": "56476edf-c974-43ba-dfe1-048932ade2dd"
   },
   "outputs": [
    {
     "data": {
      "text/html": [
       "<div>\n",
       "<style scoped>\n",
       "    .dataframe tbody tr th:only-of-type {\n",
       "        vertical-align: middle;\n",
       "    }\n",
       "\n",
       "    .dataframe tbody tr th {\n",
       "        vertical-align: top;\n",
       "    }\n",
       "\n",
       "    .dataframe thead th {\n",
       "        text-align: right;\n",
       "    }\n",
       "</style>\n",
       "<table border=\"1\" class=\"dataframe\">\n",
       "  <thead>\n",
       "    <tr style=\"text-align: right;\">\n",
       "      <th></th>\n",
       "      <th>Unnamed: 0</th>\n",
       "      <th>Date</th>\n",
       "      <th>NIH Preparedness and Response</th>\n",
       "      <th>Agg NIH Preparedness and Response</th>\n",
       "    </tr>\n",
       "  </thead>\n",
       "  <tbody>\n",
       "    <tr>\n",
       "      <td>0</td>\n",
       "      <td>0</td>\n",
       "      <td>11-Mar-2020</td>\n",
       "      <td>BSL-3 mobile lab with state of art equipment h...</td>\n",
       "      <td>BSL-3 mobile lab with state of art equipment h...</td>\n",
       "    </tr>\n",
       "    <tr>\n",
       "      <td>1</td>\n",
       "      <td>1</td>\n",
       "      <td>11-Mar-2020</td>\n",
       "      <td>IPC trainings have been completed at Gilgit an...</td>\n",
       "      <td>BSL-3 mobile lab with state of art equipment h...</td>\n",
       "    </tr>\n",
       "    <tr>\n",
       "      <td>2</td>\n",
       "      <td>2</td>\n",
       "      <td>11-Mar-2020</td>\n",
       "      <td>Training of the GB lab staff has been conducte...</td>\n",
       "      <td>BSL-3 mobile lab with state of art equipment h...</td>\n",
       "    </tr>\n",
       "    <tr>\n",
       "      <td>3</td>\n",
       "      <td>3</td>\n",
       "      <td>11-Mar-2020</td>\n",
       "      <td>IPC training is in progress for FG Hospital st...</td>\n",
       "      <td>BSL-3 mobile lab with state of art equipment h...</td>\n",
       "    </tr>\n",
       "    <tr>\n",
       "      <td>4</td>\n",
       "      <td>0</td>\n",
       "      <td>12-Mar-2020</td>\n",
       "      <td>BSL-3 mobile lab is ready for testing.  •</td>\n",
       "      <td>BSL-3 mobile lab is ready for testing.  • \\n I...</td>\n",
       "    </tr>\n",
       "    <tr>\n",
       "      <td>...</td>\n",
       "      <td>...</td>\n",
       "      <td>...</td>\n",
       "      <td>...</td>\n",
       "      <td>...</td>\n",
       "    </tr>\n",
       "    <tr>\n",
       "      <td>60</td>\n",
       "      <td>1</td>\n",
       "      <td>2020-04-02 00:00:00</td>\n",
       "      <td>Risk communication carried out among healthcar...</td>\n",
       "      <td>Contact tracing of confirmed cases being carri...</td>\n",
       "    </tr>\n",
       "    <tr>\n",
       "      <td>61</td>\n",
       "      <td>2</td>\n",
       "      <td>2020-04-02 00:00:00</td>\n",
       "      <td>NIH laboratory is providing support to provinc...</td>\n",
       "      <td>Contact tracing of confirmed cases being carri...</td>\n",
       "    </tr>\n",
       "    <tr>\n",
       "      <td>62</td>\n",
       "      <td>0</td>\n",
       "      <td>2020-04-03 00:00:00</td>\n",
       "      <td>Contact tracing of confirmed cases being carri...</td>\n",
       "      <td>Contact tracing of confirmed cases being carri...</td>\n",
       "    </tr>\n",
       "    <tr>\n",
       "      <td>63</td>\n",
       "      <td>1</td>\n",
       "      <td>2020-04-03 00:00:00</td>\n",
       "      <td>Risk communication carried out among healthcar...</td>\n",
       "      <td>Contact tracing of confirmed cases being carri...</td>\n",
       "    </tr>\n",
       "    <tr>\n",
       "      <td>64</td>\n",
       "      <td>2</td>\n",
       "      <td>2020-04-03 00:00:00</td>\n",
       "      <td>NIH laboratory is providing support to provinc...</td>\n",
       "      <td>Contact tracing of confirmed cases being carri...</td>\n",
       "    </tr>\n",
       "  </tbody>\n",
       "</table>\n",
       "<p>65 rows × 4 columns</p>\n",
       "</div>"
      ],
      "text/plain": [
       "    Unnamed: 0                 Date  \\\n",
       "0            0          11-Mar-2020   \n",
       "1            1          11-Mar-2020   \n",
       "2            2          11-Mar-2020   \n",
       "3            3          11-Mar-2020   \n",
       "4            0          12-Mar-2020   \n",
       "..         ...                  ...   \n",
       "60           1  2020-04-02 00:00:00   \n",
       "61           2  2020-04-02 00:00:00   \n",
       "62           0  2020-04-03 00:00:00   \n",
       "63           1  2020-04-03 00:00:00   \n",
       "64           2  2020-04-03 00:00:00   \n",
       "\n",
       "                        NIH Preparedness and Response  \\\n",
       "0   BSL-3 mobile lab with state of art equipment h...   \n",
       "1   IPC trainings have been completed at Gilgit an...   \n",
       "2   Training of the GB lab staff has been conducte...   \n",
       "3   IPC training is in progress for FG Hospital st...   \n",
       "4           BSL-3 mobile lab is ready for testing.  •   \n",
       "..                                                ...   \n",
       "60  Risk communication carried out among healthcar...   \n",
       "61  NIH laboratory is providing support to provinc...   \n",
       "62  Contact tracing of confirmed cases being carri...   \n",
       "63  Risk communication carried out among healthcar...   \n",
       "64  NIH laboratory is providing support to provinc...   \n",
       "\n",
       "                    Agg NIH Preparedness and Response  \n",
       "0   BSL-3 mobile lab with state of art equipment h...  \n",
       "1   BSL-3 mobile lab with state of art equipment h...  \n",
       "2   BSL-3 mobile lab with state of art equipment h...  \n",
       "3   BSL-3 mobile lab with state of art equipment h...  \n",
       "4   BSL-3 mobile lab is ready for testing.  • \\n I...  \n",
       "..                                                ...  \n",
       "60  Contact tracing of confirmed cases being carri...  \n",
       "61  Contact tracing of confirmed cases being carri...  \n",
       "62  Contact tracing of confirmed cases being carri...  \n",
       "63  Contact tracing of confirmed cases being carri...  \n",
       "64  Contact tracing of confirmed cases being carri...  \n",
       "\n",
       "[65 rows x 4 columns]"
      ]
     },
     "execution_count": 53,
     "metadata": {},
     "output_type": "execute_result"
    }
   ],
   "source": [
    "sheet6"
   ]
  },
  {
   "cell_type": "markdown",
   "metadata": {
    "colab_type": "text",
    "id": "kbLt0AC8vsQM"
   },
   "source": [
    "**Capitalize all the column headings**"
   ]
  },
  {
   "cell_type": "code",
   "execution_count": 54,
   "metadata": {
    "colab": {
     "base_uri": "https://localhost:8080/",
     "height": 0
    },
    "colab_type": "code",
    "id": "uaHsiHbgtyUy",
    "outputId": "0c16fd7d-5f06-4820-b846-bd77b559f6a4"
   },
   "outputs": [
    {
     "data": {
      "text/plain": [
       "Index(['UNNAMED: 0', 'DATE', 'NIH PREPAREDNESS AND RESPONSE',\n",
       "       'AGG NIH PREPAREDNESS AND RESPONSE'],\n",
       "      dtype='object')"
      ]
     },
     "execution_count": 54,
     "metadata": {},
     "output_type": "execute_result"
    }
   ],
   "source": [
    "sheet6.columns=sheet6.columns.str.upper().str.strip()\n",
    "sheet6.columns"
   ]
  },
  {
   "cell_type": "markdown",
   "metadata": {
    "colab_type": "text",
    "id": "t4XVQrKuwNYc"
   },
   "source": [
    "**Finding which column has missing data**"
   ]
  },
  {
   "cell_type": "code",
   "execution_count": 55,
   "metadata": {
    "colab": {
     "base_uri": "https://localhost:8080/",
     "height": 0
    },
    "colab_type": "code",
    "id": "Z_HyyuXpAlK4",
    "outputId": "15fc9d60-1860-4291-c26c-61d317372a73"
   },
   "outputs": [
    {
     "data": {
      "text/plain": [
       "UNNAMED: 0                           0\n",
       "DATE                                 0\n",
       "NIH PREPAREDNESS AND RESPONSE        0\n",
       "AGG NIH PREPAREDNESS AND RESPONSE    0\n",
       "dtype: int64"
      ]
     },
     "execution_count": 55,
     "metadata": {},
     "output_type": "execute_result"
    }
   ],
   "source": [
    "sheet6.isnull().sum()"
   ]
  },
  {
   "cell_type": "markdown",
   "metadata": {
    "colab_type": "text",
    "id": "NzuHNDM_BQgr"
   },
   "source": [
    "**Renaming the column 1 'UNNAMED: 0' to 'NIH_RESPONSE_NO'**"
   ]
  },
  {
   "cell_type": "code",
   "execution_count": 56,
   "metadata": {
    "colab": {
     "base_uri": "https://localhost:8080/",
     "height": 0
    },
    "colab_type": "code",
    "id": "rkiF-_gEBQt-",
    "outputId": "0adf9066-7d8b-4e26-da1d-001f4fa2b334"
   },
   "outputs": [
    {
     "data": {
      "text/plain": [
       "Index(['NIH_RESPONSE_NO', 'DATE', 'NIH PREPAREDNESS AND RESPONSE',\n",
       "       'AGG NIH PREPAREDNESS AND RESPONSE'],\n",
       "      dtype='object')"
      ]
     },
     "execution_count": 56,
     "metadata": {},
     "output_type": "execute_result"
    }
   ],
   "source": [
    "sheet6.rename(columns={'UNNAMED: 0':'NIH_RESPONSE_NO'},inplace=True)\n",
    "sheet6.columns"
   ]
  },
  {
   "cell_type": "markdown",
   "metadata": {
    "colab_type": "text",
    "id": "Sp501UaCBjNR"
   },
   "source": [
    "**Checking the Data Types of the columns**"
   ]
  },
  {
   "cell_type": "code",
   "execution_count": 57,
   "metadata": {
    "colab": {
     "base_uri": "https://localhost:8080/",
     "height": 0
    },
    "colab_type": "code",
    "id": "EJrNQjQKBjv3",
    "outputId": "240fd49b-4558-4996-d18b-aa5635aca157"
   },
   "outputs": [
    {
     "data": {
      "text/plain": [
       "NIH_RESPONSE_NO                       int64\n",
       "DATE                                 object\n",
       "NIH PREPAREDNESS AND RESPONSE        object\n",
       "AGG NIH PREPAREDNESS AND RESPONSE    object\n",
       "dtype: object"
      ]
     },
     "execution_count": 57,
     "metadata": {},
     "output_type": "execute_result"
    }
   ],
   "source": [
    "sheet6.dtypes"
   ]
  },
  {
   "cell_type": "markdown",
   "metadata": {
    "colab_type": "text",
    "id": "bcUo9eGMByae"
   },
   "source": [
    "**Changing the datatype and syntax of 'DATE' column**"
   ]
  },
  {
   "cell_type": "code",
   "execution_count": 58,
   "metadata": {
    "colab": {},
    "colab_type": "code",
    "id": "1GGCrDdBBynT"
   },
   "outputs": [],
   "source": [
    "sheet6['DATE']=pd.to_datetime(sheet6['DATE']).dt.date"
   ]
  },
  {
   "cell_type": "markdown",
   "metadata": {
    "colab_type": "text",
    "id": "5og8QUUjBzNr"
   },
   "source": [
    "**Again checking the datatypes of all the columns**"
   ]
  },
  {
   "cell_type": "code",
   "execution_count": 59,
   "metadata": {
    "colab": {
     "base_uri": "https://localhost:8080/",
     "height": 0
    },
    "colab_type": "code",
    "id": "GpcF985uBzcf",
    "outputId": "deb03391-a8f6-4b8c-9257-85babef346af"
   },
   "outputs": [
    {
     "data": {
      "text/plain": [
       "NIH_RESPONSE_NO                       int64\n",
       "DATE                                 object\n",
       "NIH PREPAREDNESS AND RESPONSE        object\n",
       "AGG NIH PREPAREDNESS AND RESPONSE    object\n",
       "dtype: object"
      ]
     },
     "execution_count": 59,
     "metadata": {},
     "output_type": "execute_result"
    }
   ],
   "source": [
    "sheet6.dtypes"
   ]
  },
  {
   "cell_type": "markdown",
   "metadata": {
    "colab_type": "text",
    "id": "VX_eZzubB1zE"
   },
   "source": [
    "**Padding will be done on the 'REGION' column**"
   ]
  },
  {
   "cell_type": "code",
   "execution_count": 60,
   "metadata": {
    "colab": {},
    "colab_type": "code",
    "id": "cIj5D6CvB2B4"
   },
   "outputs": [],
   "source": [
    "sheet6['NIH PREPAREDNESS AND RESPONSE']=sheet6['NIH PREPAREDNESS AND RESPONSE'].str.pad(12,side='right')\n",
    "sheet6['AGG NIH PREPAREDNESS AND RESPONSE']=sheet6['AGG NIH PREPAREDNESS AND RESPONSE'].str.pad(12,side='right')"
   ]
  },
  {
   "cell_type": "markdown",
   "metadata": {
    "colab_type": "text",
    "id": "GJArHNWKAlZK"
   },
   "source": [
    "**Displaying Sheet6 Again**"
   ]
  },
  {
   "cell_type": "code",
   "execution_count": 61,
   "metadata": {
    "colab": {
     "base_uri": "https://localhost:8080/",
     "height": 0
    },
    "colab_type": "code",
    "id": "rQ_2CN1jAm-S",
    "outputId": "8a4cb010-efd1-4bcb-ecc9-1f56deab4137"
   },
   "outputs": [
    {
     "data": {
      "text/html": [
       "<div>\n",
       "<style scoped>\n",
       "    .dataframe tbody tr th:only-of-type {\n",
       "        vertical-align: middle;\n",
       "    }\n",
       "\n",
       "    .dataframe tbody tr th {\n",
       "        vertical-align: top;\n",
       "    }\n",
       "\n",
       "    .dataframe thead th {\n",
       "        text-align: right;\n",
       "    }\n",
       "</style>\n",
       "<table border=\"1\" class=\"dataframe\">\n",
       "  <thead>\n",
       "    <tr style=\"text-align: right;\">\n",
       "      <th></th>\n",
       "      <th>NIH_RESPONSE_NO</th>\n",
       "      <th>DATE</th>\n",
       "      <th>NIH PREPAREDNESS AND RESPONSE</th>\n",
       "      <th>AGG NIH PREPAREDNESS AND RESPONSE</th>\n",
       "    </tr>\n",
       "  </thead>\n",
       "  <tbody>\n",
       "    <tr>\n",
       "      <td>0</td>\n",
       "      <td>0</td>\n",
       "      <td>2020-03-11</td>\n",
       "      <td>BSL-3 mobile lab with state of art equipment h...</td>\n",
       "      <td>BSL-3 mobile lab with state of art equipment h...</td>\n",
       "    </tr>\n",
       "    <tr>\n",
       "      <td>1</td>\n",
       "      <td>1</td>\n",
       "      <td>2020-03-11</td>\n",
       "      <td>IPC trainings have been completed at Gilgit an...</td>\n",
       "      <td>BSL-3 mobile lab with state of art equipment h...</td>\n",
       "    </tr>\n",
       "    <tr>\n",
       "      <td>2</td>\n",
       "      <td>2</td>\n",
       "      <td>2020-03-11</td>\n",
       "      <td>Training of the GB lab staff has been conducte...</td>\n",
       "      <td>BSL-3 mobile lab with state of art equipment h...</td>\n",
       "    </tr>\n",
       "    <tr>\n",
       "      <td>3</td>\n",
       "      <td>3</td>\n",
       "      <td>2020-03-11</td>\n",
       "      <td>IPC training is in progress for FG Hospital st...</td>\n",
       "      <td>BSL-3 mobile lab with state of art equipment h...</td>\n",
       "    </tr>\n",
       "    <tr>\n",
       "      <td>4</td>\n",
       "      <td>0</td>\n",
       "      <td>2020-03-12</td>\n",
       "      <td>BSL-3 mobile lab is ready for testing.  •</td>\n",
       "      <td>BSL-3 mobile lab is ready for testing.  • \\n I...</td>\n",
       "    </tr>\n",
       "    <tr>\n",
       "      <td>...</td>\n",
       "      <td>...</td>\n",
       "      <td>...</td>\n",
       "      <td>...</td>\n",
       "      <td>...</td>\n",
       "    </tr>\n",
       "    <tr>\n",
       "      <td>60</td>\n",
       "      <td>1</td>\n",
       "      <td>2020-04-02</td>\n",
       "      <td>Risk communication carried out among healthcar...</td>\n",
       "      <td>Contact tracing of confirmed cases being carri...</td>\n",
       "    </tr>\n",
       "    <tr>\n",
       "      <td>61</td>\n",
       "      <td>2</td>\n",
       "      <td>2020-04-02</td>\n",
       "      <td>NIH laboratory is providing support to provinc...</td>\n",
       "      <td>Contact tracing of confirmed cases being carri...</td>\n",
       "    </tr>\n",
       "    <tr>\n",
       "      <td>62</td>\n",
       "      <td>0</td>\n",
       "      <td>2020-04-03</td>\n",
       "      <td>Contact tracing of confirmed cases being carri...</td>\n",
       "      <td>Contact tracing of confirmed cases being carri...</td>\n",
       "    </tr>\n",
       "    <tr>\n",
       "      <td>63</td>\n",
       "      <td>1</td>\n",
       "      <td>2020-04-03</td>\n",
       "      <td>Risk communication carried out among healthcar...</td>\n",
       "      <td>Contact tracing of confirmed cases being carri...</td>\n",
       "    </tr>\n",
       "    <tr>\n",
       "      <td>64</td>\n",
       "      <td>2</td>\n",
       "      <td>2020-04-03</td>\n",
       "      <td>NIH laboratory is providing support to provinc...</td>\n",
       "      <td>Contact tracing of confirmed cases being carri...</td>\n",
       "    </tr>\n",
       "  </tbody>\n",
       "</table>\n",
       "<p>65 rows × 4 columns</p>\n",
       "</div>"
      ],
      "text/plain": [
       "    NIH_RESPONSE_NO        DATE  \\\n",
       "0                 0  2020-03-11   \n",
       "1                 1  2020-03-11   \n",
       "2                 2  2020-03-11   \n",
       "3                 3  2020-03-11   \n",
       "4                 0  2020-03-12   \n",
       "..              ...         ...   \n",
       "60                1  2020-04-02   \n",
       "61                2  2020-04-02   \n",
       "62                0  2020-04-03   \n",
       "63                1  2020-04-03   \n",
       "64                2  2020-04-03   \n",
       "\n",
       "                        NIH PREPAREDNESS AND RESPONSE  \\\n",
       "0   BSL-3 mobile lab with state of art equipment h...   \n",
       "1   IPC trainings have been completed at Gilgit an...   \n",
       "2   Training of the GB lab staff has been conducte...   \n",
       "3   IPC training is in progress for FG Hospital st...   \n",
       "4           BSL-3 mobile lab is ready for testing.  •   \n",
       "..                                                ...   \n",
       "60  Risk communication carried out among healthcar...   \n",
       "61  NIH laboratory is providing support to provinc...   \n",
       "62  Contact tracing of confirmed cases being carri...   \n",
       "63  Risk communication carried out among healthcar...   \n",
       "64  NIH laboratory is providing support to provinc...   \n",
       "\n",
       "                    AGG NIH PREPAREDNESS AND RESPONSE  \n",
       "0   BSL-3 mobile lab with state of art equipment h...  \n",
       "1   BSL-3 mobile lab with state of art equipment h...  \n",
       "2   BSL-3 mobile lab with state of art equipment h...  \n",
       "3   BSL-3 mobile lab with state of art equipment h...  \n",
       "4   BSL-3 mobile lab is ready for testing.  • \\n I...  \n",
       "..                                                ...  \n",
       "60  Contact tracing of confirmed cases being carri...  \n",
       "61  Contact tracing of confirmed cases being carri...  \n",
       "62  Contact tracing of confirmed cases being carri...  \n",
       "63  Contact tracing of confirmed cases being carri...  \n",
       "64  Contact tracing of confirmed cases being carri...  \n",
       "\n",
       "[65 rows x 4 columns]"
      ]
     },
     "execution_count": 61,
     "metadata": {},
     "output_type": "execute_result"
    }
   ],
   "source": [
    "sheet6"
   ]
  },
  {
   "cell_type": "markdown",
   "metadata": {
    "colab_type": "text",
    "id": "SjVr1cs9trqa"
   },
   "source": [
    "#### **SHEET 7:**"
   ]
  },
  {
   "cell_type": "markdown",
   "metadata": {
    "colab_type": "text",
    "id": "ULwAT3ZUuA6o"
   },
   "source": [
    "**Displaying Sheet 7**"
   ]
  },
  {
   "cell_type": "code",
   "execution_count": 62,
   "metadata": {
    "colab": {
     "base_uri": "https://localhost:8080/",
     "height": 0
    },
    "colab_type": "code",
    "id": "b2oYBbYIvua8",
    "outputId": "a4eec41c-ca94-480f-cb41-ca22129207c5"
   },
   "outputs": [
    {
     "data": {
      "text/html": [
       "<div>\n",
       "<style scoped>\n",
       "    .dataframe tbody tr th:only-of-type {\n",
       "        vertical-align: middle;\n",
       "    }\n",
       "\n",
       "    .dataframe tbody tr th {\n",
       "        vertical-align: top;\n",
       "    }\n",
       "\n",
       "    .dataframe thead th {\n",
       "        text-align: right;\n",
       "    }\n",
       "</style>\n",
       "<table border=\"1\" class=\"dataframe\">\n",
       "  <thead>\n",
       "    <tr style=\"text-align: right;\">\n",
       "      <th></th>\n",
       "      <th>Unnamed: 0</th>\n",
       "      <th>Date</th>\n",
       "      <th>Risk Assessment NIH</th>\n",
       "    </tr>\n",
       "  </thead>\n",
       "  <tbody>\n",
       "    <tr>\n",
       "      <td>0</td>\n",
       "      <td>0</td>\n",
       "      <td>11-Mar-2020</td>\n",
       "      <td>MODERATE.</td>\n",
       "    </tr>\n",
       "    <tr>\n",
       "      <td>1</td>\n",
       "      <td>0</td>\n",
       "      <td>12-Mar-2020</td>\n",
       "      <td>MODERATE.</td>\n",
       "    </tr>\n",
       "    <tr>\n",
       "      <td>2</td>\n",
       "      <td>0</td>\n",
       "      <td>13-Mar-2020</td>\n",
       "      <td>MODERATE.</td>\n",
       "    </tr>\n",
       "    <tr>\n",
       "      <td>3</td>\n",
       "      <td>0</td>\n",
       "      <td>14-Mar-2020</td>\n",
       "      <td>MODERATE.</td>\n",
       "    </tr>\n",
       "    <tr>\n",
       "      <td>4</td>\n",
       "      <td>0</td>\n",
       "      <td>15-Mar-2020</td>\n",
       "      <td>Moderate</td>\n",
       "    </tr>\n",
       "    <tr>\n",
       "      <td>5</td>\n",
       "      <td>0</td>\n",
       "      <td>16-Mar-2020</td>\n",
       "      <td>Moderate</td>\n",
       "    </tr>\n",
       "    <tr>\n",
       "      <td>6</td>\n",
       "      <td>0</td>\n",
       "      <td>17-Mar-2020</td>\n",
       "      <td>Moderate</td>\n",
       "    </tr>\n",
       "    <tr>\n",
       "      <td>7</td>\n",
       "      <td>0</td>\n",
       "      <td>18-Mar-2020</td>\n",
       "      <td>Moderate</td>\n",
       "    </tr>\n",
       "    <tr>\n",
       "      <td>8</td>\n",
       "      <td>0</td>\n",
       "      <td>19-Mar-2020</td>\n",
       "      <td>High</td>\n",
       "    </tr>\n",
       "    <tr>\n",
       "      <td>9</td>\n",
       "      <td>0</td>\n",
       "      <td>20-Mar-2020</td>\n",
       "      <td>High</td>\n",
       "    </tr>\n",
       "    <tr>\n",
       "      <td>10</td>\n",
       "      <td>0</td>\n",
       "      <td>21-Mar-2020</td>\n",
       "      <td>High</td>\n",
       "    </tr>\n",
       "    <tr>\n",
       "      <td>11</td>\n",
       "      <td>0</td>\n",
       "      <td>22-Mar-2020</td>\n",
       "      <td>High</td>\n",
       "    </tr>\n",
       "    <tr>\n",
       "      <td>12</td>\n",
       "      <td>0</td>\n",
       "      <td>23-Mar-2020</td>\n",
       "      <td>High</td>\n",
       "    </tr>\n",
       "    <tr>\n",
       "      <td>13</td>\n",
       "      <td>0</td>\n",
       "      <td>24-Mar-2020</td>\n",
       "      <td>High</td>\n",
       "    </tr>\n",
       "    <tr>\n",
       "      <td>14</td>\n",
       "      <td>0</td>\n",
       "      <td>25-Mar-2020</td>\n",
       "      <td>High</td>\n",
       "    </tr>\n",
       "    <tr>\n",
       "      <td>15</td>\n",
       "      <td>0</td>\n",
       "      <td>26-Mar-2020</td>\n",
       "      <td>High</td>\n",
       "    </tr>\n",
       "    <tr>\n",
       "      <td>16</td>\n",
       "      <td>0</td>\n",
       "      <td>27-Mar-2020</td>\n",
       "      <td>High</td>\n",
       "    </tr>\n",
       "    <tr>\n",
       "      <td>17</td>\n",
       "      <td>0</td>\n",
       "      <td>28-Mar-2020</td>\n",
       "      <td>High</td>\n",
       "    </tr>\n",
       "    <tr>\n",
       "      <td>18</td>\n",
       "      <td>0</td>\n",
       "      <td>29-Mar-2020</td>\n",
       "      <td>High</td>\n",
       "    </tr>\n",
       "    <tr>\n",
       "      <td>19</td>\n",
       "      <td>0</td>\n",
       "      <td>30-Mar-2020</td>\n",
       "      <td>High</td>\n",
       "    </tr>\n",
       "    <tr>\n",
       "      <td>20</td>\n",
       "      <td>0</td>\n",
       "      <td>2020-03-31 00:00:00</td>\n",
       "      <td>High</td>\n",
       "    </tr>\n",
       "    <tr>\n",
       "      <td>21</td>\n",
       "      <td>0</td>\n",
       "      <td>2020-04-01 00:00:00</td>\n",
       "      <td>High</td>\n",
       "    </tr>\n",
       "    <tr>\n",
       "      <td>22</td>\n",
       "      <td>0</td>\n",
       "      <td>2020-04-02 00:00:00</td>\n",
       "      <td>High</td>\n",
       "    </tr>\n",
       "    <tr>\n",
       "      <td>23</td>\n",
       "      <td>0</td>\n",
       "      <td>2020-04-03 00:00:00</td>\n",
       "      <td>High</td>\n",
       "    </tr>\n",
       "  </tbody>\n",
       "</table>\n",
       "</div>"
      ],
      "text/plain": [
       "    Unnamed: 0                 Date Risk Assessment NIH\n",
       "0            0          11-Mar-2020           MODERATE.\n",
       "1            0          12-Mar-2020           MODERATE.\n",
       "2            0          13-Mar-2020           MODERATE.\n",
       "3            0          14-Mar-2020           MODERATE.\n",
       "4            0          15-Mar-2020            Moderate\n",
       "5            0          16-Mar-2020            Moderate\n",
       "6            0          17-Mar-2020            Moderate\n",
       "7            0          18-Mar-2020            Moderate\n",
       "8            0          19-Mar-2020                High\n",
       "9            0          20-Mar-2020                High\n",
       "10           0          21-Mar-2020                High\n",
       "11           0          22-Mar-2020                High\n",
       "12           0          23-Mar-2020                High\n",
       "13           0          24-Mar-2020                High\n",
       "14           0          25-Mar-2020                High\n",
       "15           0          26-Mar-2020                High\n",
       "16           0          27-Mar-2020                High\n",
       "17           0          28-Mar-2020                High\n",
       "18           0          29-Mar-2020                High\n",
       "19           0          30-Mar-2020                High\n",
       "20           0  2020-03-31 00:00:00                High\n",
       "21           0  2020-04-01 00:00:00                High\n",
       "22           0  2020-04-02 00:00:00                High\n",
       "23           0  2020-04-03 00:00:00                High"
      ]
     },
     "execution_count": 62,
     "metadata": {},
     "output_type": "execute_result"
    }
   ],
   "source": [
    "sheet7"
   ]
  },
  {
   "cell_type": "markdown",
   "metadata": {
    "colab_type": "text",
    "id": "kJQhPpNhvvVR"
   },
   "source": [
    "**Capitalize all the column headings**"
   ]
  },
  {
   "cell_type": "code",
   "execution_count": 63,
   "metadata": {
    "colab": {
     "base_uri": "https://localhost:8080/",
     "height": 0
    },
    "colab_type": "code",
    "id": "5H5mGCq9vwIC",
    "outputId": "7e381fb0-9a33-4dce-f9db-a0564bf20bc6"
   },
   "outputs": [
    {
     "data": {
      "text/plain": [
       "Index(['UNNAMED: 0', 'DATE', 'RISK ASSESSMENT NIH'], dtype='object')"
      ]
     },
     "execution_count": 63,
     "metadata": {},
     "output_type": "execute_result"
    }
   ],
   "source": [
    "sheet7.columns=sheet7.columns.str.upper().str.strip()\n",
    "sheet7.columns"
   ]
  },
  {
   "cell_type": "markdown",
   "metadata": {
    "colab_type": "text",
    "id": "q77o6S7AwO_2"
   },
   "source": [
    "**Finding which column has missing data**"
   ]
  },
  {
   "cell_type": "code",
   "execution_count": 64,
   "metadata": {
    "colab": {
     "base_uri": "https://localhost:8080/",
     "height": 0
    },
    "colab_type": "code",
    "id": "J1qoVF2ewPiY",
    "outputId": "a5028429-f1e0-4879-a6aa-309711b980f9"
   },
   "outputs": [
    {
     "data": {
      "text/plain": [
       "UNNAMED: 0             0\n",
       "DATE                   0\n",
       "RISK ASSESSMENT NIH    0\n",
       "dtype: int64"
      ]
     },
     "execution_count": 64,
     "metadata": {},
     "output_type": "execute_result"
    }
   ],
   "source": [
    "sheet7.isnull().sum()"
   ]
  },
  {
   "cell_type": "markdown",
   "metadata": {
    "colab_type": "text",
    "id": "S0a9pROLFAFC"
   },
   "source": [
    "**Drop the column 1 'UNNAMED: 0' column**"
   ]
  },
  {
   "cell_type": "code",
   "execution_count": 65,
   "metadata": {
    "colab": {
     "base_uri": "https://localhost:8080/",
     "height": 0
    },
    "colab_type": "code",
    "id": "1gO4cds_FARy",
    "outputId": "b0645f7a-9e0b-496e-b753-31c7eb133b53"
   },
   "outputs": [
    {
     "data": {
      "text/html": [
       "<div>\n",
       "<style scoped>\n",
       "    .dataframe tbody tr th:only-of-type {\n",
       "        vertical-align: middle;\n",
       "    }\n",
       "\n",
       "    .dataframe tbody tr th {\n",
       "        vertical-align: top;\n",
       "    }\n",
       "\n",
       "    .dataframe thead th {\n",
       "        text-align: right;\n",
       "    }\n",
       "</style>\n",
       "<table border=\"1\" class=\"dataframe\">\n",
       "  <thead>\n",
       "    <tr style=\"text-align: right;\">\n",
       "      <th></th>\n",
       "      <th>DATE</th>\n",
       "      <th>RISK ASSESSMENT NIH</th>\n",
       "    </tr>\n",
       "  </thead>\n",
       "  <tbody>\n",
       "    <tr>\n",
       "      <td>0</td>\n",
       "      <td>11-Mar-2020</td>\n",
       "      <td>MODERATE.</td>\n",
       "    </tr>\n",
       "    <tr>\n",
       "      <td>1</td>\n",
       "      <td>12-Mar-2020</td>\n",
       "      <td>MODERATE.</td>\n",
       "    </tr>\n",
       "    <tr>\n",
       "      <td>2</td>\n",
       "      <td>13-Mar-2020</td>\n",
       "      <td>MODERATE.</td>\n",
       "    </tr>\n",
       "    <tr>\n",
       "      <td>3</td>\n",
       "      <td>14-Mar-2020</td>\n",
       "      <td>MODERATE.</td>\n",
       "    </tr>\n",
       "    <tr>\n",
       "      <td>4</td>\n",
       "      <td>15-Mar-2020</td>\n",
       "      <td>Moderate</td>\n",
       "    </tr>\n",
       "    <tr>\n",
       "      <td>5</td>\n",
       "      <td>16-Mar-2020</td>\n",
       "      <td>Moderate</td>\n",
       "    </tr>\n",
       "    <tr>\n",
       "      <td>6</td>\n",
       "      <td>17-Mar-2020</td>\n",
       "      <td>Moderate</td>\n",
       "    </tr>\n",
       "    <tr>\n",
       "      <td>7</td>\n",
       "      <td>18-Mar-2020</td>\n",
       "      <td>Moderate</td>\n",
       "    </tr>\n",
       "    <tr>\n",
       "      <td>8</td>\n",
       "      <td>19-Mar-2020</td>\n",
       "      <td>High</td>\n",
       "    </tr>\n",
       "    <tr>\n",
       "      <td>9</td>\n",
       "      <td>20-Mar-2020</td>\n",
       "      <td>High</td>\n",
       "    </tr>\n",
       "    <tr>\n",
       "      <td>10</td>\n",
       "      <td>21-Mar-2020</td>\n",
       "      <td>High</td>\n",
       "    </tr>\n",
       "    <tr>\n",
       "      <td>11</td>\n",
       "      <td>22-Mar-2020</td>\n",
       "      <td>High</td>\n",
       "    </tr>\n",
       "    <tr>\n",
       "      <td>12</td>\n",
       "      <td>23-Mar-2020</td>\n",
       "      <td>High</td>\n",
       "    </tr>\n",
       "    <tr>\n",
       "      <td>13</td>\n",
       "      <td>24-Mar-2020</td>\n",
       "      <td>High</td>\n",
       "    </tr>\n",
       "    <tr>\n",
       "      <td>14</td>\n",
       "      <td>25-Mar-2020</td>\n",
       "      <td>High</td>\n",
       "    </tr>\n",
       "    <tr>\n",
       "      <td>15</td>\n",
       "      <td>26-Mar-2020</td>\n",
       "      <td>High</td>\n",
       "    </tr>\n",
       "    <tr>\n",
       "      <td>16</td>\n",
       "      <td>27-Mar-2020</td>\n",
       "      <td>High</td>\n",
       "    </tr>\n",
       "    <tr>\n",
       "      <td>17</td>\n",
       "      <td>28-Mar-2020</td>\n",
       "      <td>High</td>\n",
       "    </tr>\n",
       "    <tr>\n",
       "      <td>18</td>\n",
       "      <td>29-Mar-2020</td>\n",
       "      <td>High</td>\n",
       "    </tr>\n",
       "    <tr>\n",
       "      <td>19</td>\n",
       "      <td>30-Mar-2020</td>\n",
       "      <td>High</td>\n",
       "    </tr>\n",
       "    <tr>\n",
       "      <td>20</td>\n",
       "      <td>2020-03-31 00:00:00</td>\n",
       "      <td>High</td>\n",
       "    </tr>\n",
       "    <tr>\n",
       "      <td>21</td>\n",
       "      <td>2020-04-01 00:00:00</td>\n",
       "      <td>High</td>\n",
       "    </tr>\n",
       "    <tr>\n",
       "      <td>22</td>\n",
       "      <td>2020-04-02 00:00:00</td>\n",
       "      <td>High</td>\n",
       "    </tr>\n",
       "    <tr>\n",
       "      <td>23</td>\n",
       "      <td>2020-04-03 00:00:00</td>\n",
       "      <td>High</td>\n",
       "    </tr>\n",
       "  </tbody>\n",
       "</table>\n",
       "</div>"
      ],
      "text/plain": [
       "                   DATE RISK ASSESSMENT NIH\n",
       "0           11-Mar-2020           MODERATE.\n",
       "1           12-Mar-2020           MODERATE.\n",
       "2           13-Mar-2020           MODERATE.\n",
       "3           14-Mar-2020           MODERATE.\n",
       "4           15-Mar-2020            Moderate\n",
       "5           16-Mar-2020            Moderate\n",
       "6           17-Mar-2020            Moderate\n",
       "7           18-Mar-2020            Moderate\n",
       "8           19-Mar-2020                High\n",
       "9           20-Mar-2020                High\n",
       "10          21-Mar-2020                High\n",
       "11          22-Mar-2020                High\n",
       "12          23-Mar-2020                High\n",
       "13          24-Mar-2020                High\n",
       "14          25-Mar-2020                High\n",
       "15          26-Mar-2020                High\n",
       "16          27-Mar-2020                High\n",
       "17          28-Mar-2020                High\n",
       "18          29-Mar-2020                High\n",
       "19          30-Mar-2020                High\n",
       "20  2020-03-31 00:00:00                High\n",
       "21  2020-04-01 00:00:00                High\n",
       "22  2020-04-02 00:00:00                High\n",
       "23  2020-04-03 00:00:00                High"
      ]
     },
     "execution_count": 65,
     "metadata": {},
     "output_type": "execute_result"
    }
   ],
   "source": [
    "sheet7.drop(['UNNAMED: 0'], axis=1, inplace=True)\n",
    "sheet7"
   ]
  },
  {
   "cell_type": "markdown",
   "metadata": {
    "colab_type": "text",
    "id": "_qfD0mXsFlBY"
   },
   "source": [
    "**Checking the Data Types of the columns**"
   ]
  },
  {
   "cell_type": "code",
   "execution_count": 66,
   "metadata": {
    "colab": {
     "base_uri": "https://localhost:8080/",
     "height": 0
    },
    "colab_type": "code",
    "id": "0E34LmkRFlOS",
    "outputId": "03e974e9-f360-4435-de9c-b43f5aa6affd"
   },
   "outputs": [
    {
     "data": {
      "text/plain": [
       "DATE                   object\n",
       "RISK ASSESSMENT NIH    object\n",
       "dtype: object"
      ]
     },
     "execution_count": 66,
     "metadata": {},
     "output_type": "execute_result"
    }
   ],
   "source": [
    "sheet7.dtypes"
   ]
  },
  {
   "cell_type": "markdown",
   "metadata": {
    "colab_type": "text",
    "id": "K568T-AMFla6"
   },
   "source": [
    "**Changing the datatype and syntax of 'DATE' column**"
   ]
  },
  {
   "cell_type": "code",
   "execution_count": 67,
   "metadata": {
    "colab": {},
    "colab_type": "code",
    "id": "ernYMV2oFlon"
   },
   "outputs": [],
   "source": [
    "sheet7['DATE']=pd.to_datetime(sheet7['DATE']).dt.date"
   ]
  },
  {
   "cell_type": "markdown",
   "metadata": {
    "colab_type": "text",
    "id": "J7zNfrdFFl5A"
   },
   "source": [
    "**Again checking the datatypes of all the columns**"
   ]
  },
  {
   "cell_type": "code",
   "execution_count": 68,
   "metadata": {
    "colab": {
     "base_uri": "https://localhost:8080/",
     "height": 0
    },
    "colab_type": "code",
    "id": "R87bVEKDFmJI",
    "outputId": "6ec35dfb-7bac-4867-d9ac-3189deff4728"
   },
   "outputs": [
    {
     "data": {
      "text/plain": [
       "DATE                   object\n",
       "RISK ASSESSMENT NIH    object\n",
       "dtype: object"
      ]
     },
     "execution_count": 68,
     "metadata": {},
     "output_type": "execute_result"
    }
   ],
   "source": [
    "sheet7.dtypes"
   ]
  },
  {
   "cell_type": "markdown",
   "metadata": {
    "colab_type": "text",
    "id": "0vtzvSmMF3RN"
   },
   "source": [
    "**Replace 'MODERATE.' with 'Moderate'**"
   ]
  },
  {
   "cell_type": "code",
   "execution_count": 69,
   "metadata": {
    "colab": {},
    "colab_type": "code",
    "id": "DSG0OCYBF3dk"
   },
   "outputs": [],
   "source": [
    "sheet7['RISK ASSESSMENT NIH']=sheet7['RISK ASSESSMENT NIH'].str.replace('MODERATE.','Moderate')"
   ]
  },
  {
   "cell_type": "markdown",
   "metadata": {
    "colab_type": "text",
    "id": "cMt4hAkaF3uv"
   },
   "source": [
    "**Padding will be done on the 'RISK ASSESSMENT NIH' column**"
   ]
  },
  {
   "cell_type": "code",
   "execution_count": 70,
   "metadata": {
    "colab": {},
    "colab_type": "code",
    "id": "TXiCSQ3rF3-A"
   },
   "outputs": [],
   "source": [
    "sheet7['RISK ASSESSMENT NIH']=sheet7['RISK ASSESSMENT NIH'].str.pad(12,side='right')"
   ]
  },
  {
   "cell_type": "markdown",
   "metadata": {
    "colab_type": "text",
    "id": "qRPiSDWcwP3q"
   },
   "source": [
    "**Displaying Sheet7 Again**"
   ]
  },
  {
   "cell_type": "code",
   "execution_count": 71,
   "metadata": {
    "colab": {
     "base_uri": "https://localhost:8080/",
     "height": 0
    },
    "colab_type": "code",
    "id": "QBUuhbyFArhf",
    "outputId": "f0742487-5396-44f9-f99b-c1ce80739c4e"
   },
   "outputs": [
    {
     "data": {
      "text/html": [
       "<div>\n",
       "<style scoped>\n",
       "    .dataframe tbody tr th:only-of-type {\n",
       "        vertical-align: middle;\n",
       "    }\n",
       "\n",
       "    .dataframe tbody tr th {\n",
       "        vertical-align: top;\n",
       "    }\n",
       "\n",
       "    .dataframe thead th {\n",
       "        text-align: right;\n",
       "    }\n",
       "</style>\n",
       "<table border=\"1\" class=\"dataframe\">\n",
       "  <thead>\n",
       "    <tr style=\"text-align: right;\">\n",
       "      <th></th>\n",
       "      <th>DATE</th>\n",
       "      <th>RISK ASSESSMENT NIH</th>\n",
       "    </tr>\n",
       "  </thead>\n",
       "  <tbody>\n",
       "    <tr>\n",
       "      <td>0</td>\n",
       "      <td>2020-03-11</td>\n",
       "      <td>Moderate</td>\n",
       "    </tr>\n",
       "    <tr>\n",
       "      <td>1</td>\n",
       "      <td>2020-03-12</td>\n",
       "      <td>Moderate</td>\n",
       "    </tr>\n",
       "    <tr>\n",
       "      <td>2</td>\n",
       "      <td>2020-03-13</td>\n",
       "      <td>Moderate</td>\n",
       "    </tr>\n",
       "    <tr>\n",
       "      <td>3</td>\n",
       "      <td>2020-03-14</td>\n",
       "      <td>Moderate</td>\n",
       "    </tr>\n",
       "    <tr>\n",
       "      <td>4</td>\n",
       "      <td>2020-03-15</td>\n",
       "      <td>Moderate</td>\n",
       "    </tr>\n",
       "    <tr>\n",
       "      <td>5</td>\n",
       "      <td>2020-03-16</td>\n",
       "      <td>Moderate</td>\n",
       "    </tr>\n",
       "    <tr>\n",
       "      <td>6</td>\n",
       "      <td>2020-03-17</td>\n",
       "      <td>Moderate</td>\n",
       "    </tr>\n",
       "    <tr>\n",
       "      <td>7</td>\n",
       "      <td>2020-03-18</td>\n",
       "      <td>Moderate</td>\n",
       "    </tr>\n",
       "    <tr>\n",
       "      <td>8</td>\n",
       "      <td>2020-03-19</td>\n",
       "      <td>High</td>\n",
       "    </tr>\n",
       "    <tr>\n",
       "      <td>9</td>\n",
       "      <td>2020-03-20</td>\n",
       "      <td>High</td>\n",
       "    </tr>\n",
       "    <tr>\n",
       "      <td>10</td>\n",
       "      <td>2020-03-21</td>\n",
       "      <td>High</td>\n",
       "    </tr>\n",
       "    <tr>\n",
       "      <td>11</td>\n",
       "      <td>2020-03-22</td>\n",
       "      <td>High</td>\n",
       "    </tr>\n",
       "    <tr>\n",
       "      <td>12</td>\n",
       "      <td>2020-03-23</td>\n",
       "      <td>High</td>\n",
       "    </tr>\n",
       "    <tr>\n",
       "      <td>13</td>\n",
       "      <td>2020-03-24</td>\n",
       "      <td>High</td>\n",
       "    </tr>\n",
       "    <tr>\n",
       "      <td>14</td>\n",
       "      <td>2020-03-25</td>\n",
       "      <td>High</td>\n",
       "    </tr>\n",
       "    <tr>\n",
       "      <td>15</td>\n",
       "      <td>2020-03-26</td>\n",
       "      <td>High</td>\n",
       "    </tr>\n",
       "    <tr>\n",
       "      <td>16</td>\n",
       "      <td>2020-03-27</td>\n",
       "      <td>High</td>\n",
       "    </tr>\n",
       "    <tr>\n",
       "      <td>17</td>\n",
       "      <td>2020-03-28</td>\n",
       "      <td>High</td>\n",
       "    </tr>\n",
       "    <tr>\n",
       "      <td>18</td>\n",
       "      <td>2020-03-29</td>\n",
       "      <td>High</td>\n",
       "    </tr>\n",
       "    <tr>\n",
       "      <td>19</td>\n",
       "      <td>2020-03-30</td>\n",
       "      <td>High</td>\n",
       "    </tr>\n",
       "    <tr>\n",
       "      <td>20</td>\n",
       "      <td>2020-03-31</td>\n",
       "      <td>High</td>\n",
       "    </tr>\n",
       "    <tr>\n",
       "      <td>21</td>\n",
       "      <td>2020-04-01</td>\n",
       "      <td>High</td>\n",
       "    </tr>\n",
       "    <tr>\n",
       "      <td>22</td>\n",
       "      <td>2020-04-02</td>\n",
       "      <td>High</td>\n",
       "    </tr>\n",
       "    <tr>\n",
       "      <td>23</td>\n",
       "      <td>2020-04-03</td>\n",
       "      <td>High</td>\n",
       "    </tr>\n",
       "  </tbody>\n",
       "</table>\n",
       "</div>"
      ],
      "text/plain": [
       "          DATE RISK ASSESSMENT NIH\n",
       "0   2020-03-11         Moderate   \n",
       "1   2020-03-12         Moderate   \n",
       "2   2020-03-13         Moderate   \n",
       "3   2020-03-14         Moderate   \n",
       "4   2020-03-15         Moderate   \n",
       "5   2020-03-16         Moderate   \n",
       "6   2020-03-17         Moderate   \n",
       "7   2020-03-18         Moderate   \n",
       "8   2020-03-19         High       \n",
       "9   2020-03-20         High       \n",
       "10  2020-03-21         High       \n",
       "11  2020-03-22         High       \n",
       "12  2020-03-23         High       \n",
       "13  2020-03-24         High       \n",
       "14  2020-03-25         High       \n",
       "15  2020-03-26         High       \n",
       "16  2020-03-27         High       \n",
       "17  2020-03-28         High       \n",
       "18  2020-03-29         High       \n",
       "19  2020-03-30         High       \n",
       "20  2020-03-31         High       \n",
       "21  2020-04-01         High       \n",
       "22  2020-04-02         High       \n",
       "23  2020-04-03         High       "
      ]
     },
     "execution_count": 71,
     "metadata": {},
     "output_type": "execute_result"
    }
   ],
   "source": [
    "sheet7"
   ]
  },
  {
   "cell_type": "markdown",
   "metadata": {
    "colab_type": "text",
    "id": "YmBGHHXdts_N"
   },
   "source": [
    "#### **SHEET 8:**"
   ]
  },
  {
   "cell_type": "markdown",
   "metadata": {
    "colab_type": "text",
    "id": "xFIYZYPnuDKM"
   },
   "source": [
    "**Displaying Sheet 8**"
   ]
  },
  {
   "cell_type": "code",
   "execution_count": 72,
   "metadata": {
    "colab": {
     "base_uri": "https://localhost:8080/",
     "height": 0
    },
    "colab_type": "code",
    "id": "4AQz37NVvxka",
    "outputId": "2576477c-0f64-43a1-ac27-42197c791c23"
   },
   "outputs": [
    {
     "data": {
      "text/html": [
       "<div>\n",
       "<style scoped>\n",
       "    .dataframe tbody tr th:only-of-type {\n",
       "        vertical-align: middle;\n",
       "    }\n",
       "\n",
       "    .dataframe tbody tr th {\n",
       "        vertical-align: top;\n",
       "    }\n",
       "\n",
       "    .dataframe thead th {\n",
       "        text-align: right;\n",
       "    }\n",
       "</style>\n",
       "<table border=\"1\" class=\"dataframe\">\n",
       "  <thead>\n",
       "    <tr style=\"text-align: right;\">\n",
       "      <th></th>\n",
       "      <th>Unnamed: 0</th>\n",
       "      <th>region</th>\n",
       "      <th>Provinces Preparedness and Response</th>\n",
       "      <th>Date</th>\n",
       "      <th>Agg Provinces Preparedness and Response</th>\n",
       "    </tr>\n",
       "  </thead>\n",
       "  <tbody>\n",
       "    <tr>\n",
       "      <td>0</td>\n",
       "      <td>0</td>\n",
       "      <td>Balochistan</td>\n",
       "      <td>316 newly arrived individuals screened and qua...</td>\n",
       "      <td>11-Mar-2020</td>\n",
       "      <td>316 newly arrived individuals screened and qua...</td>\n",
       "    </tr>\n",
       "    <tr>\n",
       "      <td>1</td>\n",
       "      <td>1</td>\n",
       "      <td>Balochistan</td>\n",
       "      <td>14 Chinese nationals quarantined at East Bay E...</td>\n",
       "      <td>11-Mar-2020</td>\n",
       "      <td>316 newly arrived individuals screened and qua...</td>\n",
       "    </tr>\n",
       "    <tr>\n",
       "      <td>2</td>\n",
       "      <td>2</td>\n",
       "      <td>Sindh</td>\n",
       "      <td>Staff deployed to designated quarantine facili...</td>\n",
       "      <td>11-Mar-2020</td>\n",
       "      <td>Staff deployed to designated quarantine facili...</td>\n",
       "    </tr>\n",
       "    <tr>\n",
       "      <td>3</td>\n",
       "      <td>3</td>\n",
       "      <td>Sindh</td>\n",
       "      <td>Training and orientation sessions for the heal...</td>\n",
       "      <td>11-Mar-2020</td>\n",
       "      <td>Staff deployed to designated quarantine facili...</td>\n",
       "    </tr>\n",
       "    <tr>\n",
       "      <td>4</td>\n",
       "      <td>4</td>\n",
       "      <td>KP &amp; TD</td>\n",
       "      <td>24 High Dependency Units established across KP...</td>\n",
       "      <td>11-Mar-2020</td>\n",
       "      <td>24 High Dependency Units established across KP...</td>\n",
       "    </tr>\n",
       "    <tr>\n",
       "      <td>...</td>\n",
       "      <td>...</td>\n",
       "      <td>...</td>\n",
       "      <td>...</td>\n",
       "      <td>...</td>\n",
       "      <td>...</td>\n",
       "    </tr>\n",
       "    <tr>\n",
       "      <td>161</td>\n",
       "      <td>2</td>\n",
       "      <td>Sindh</td>\n",
       "      <td>Sindh Government has disbursed Rs.569.604 mill...</td>\n",
       "      <td>2020-04-03 00:00:00</td>\n",
       "      <td>Sindh Government has disbursed Rs.569.604 mill...</td>\n",
       "    </tr>\n",
       "    <tr>\n",
       "      <td>162</td>\n",
       "      <td>3</td>\n",
       "      <td>Punjab</td>\n",
       "      <td>District level trainings of HDU/Isolation/Quar...</td>\n",
       "      <td>2020-04-03 00:00:00</td>\n",
       "      <td>District level trainings of HDU/Isolation/Quar...</td>\n",
       "    </tr>\n",
       "    <tr>\n",
       "      <td>163</td>\n",
       "      <td>4</td>\n",
       "      <td>KP</td>\n",
       "      <td>Data transcription on to the IPMS software hos...</td>\n",
       "      <td>2020-04-03 00:00:00</td>\n",
       "      <td>Data transcription on to the IPMS software hos...</td>\n",
       "    </tr>\n",
       "    <tr>\n",
       "      <td>164</td>\n",
       "      <td>5</td>\n",
       "      <td>AJK</td>\n",
       "      <td>Out of 9 confirmed cases, 6 are local transmis...</td>\n",
       "      <td>2020-04-03 00:00:00</td>\n",
       "      <td>Out of 9 confirmed cases, 6 are local transmis...</td>\n",
       "    </tr>\n",
       "    <tr>\n",
       "      <td>165</td>\n",
       "      <td>6</td>\n",
       "      <td>GB</td>\n",
       "      <td>Involvement of WHO staff to provide support in...</td>\n",
       "      <td>2020-04-03 00:00:00</td>\n",
       "      <td>Involvement of WHO staff to provide support in...</td>\n",
       "    </tr>\n",
       "  </tbody>\n",
       "</table>\n",
       "<p>166 rows × 5 columns</p>\n",
       "</div>"
      ],
      "text/plain": [
       "     Unnamed: 0       region  \\\n",
       "0             0  Balochistan   \n",
       "1             1  Balochistan   \n",
       "2             2        Sindh   \n",
       "3             3        Sindh   \n",
       "4             4      KP & TD   \n",
       "..          ...          ...   \n",
       "161           2        Sindh   \n",
       "162           3       Punjab   \n",
       "163           4           KP   \n",
       "164           5          AJK   \n",
       "165           6           GB   \n",
       "\n",
       "                   Provinces Preparedness and Response                 Date  \\\n",
       "0    316 newly arrived individuals screened and qua...          11-Mar-2020   \n",
       "1    14 Chinese nationals quarantined at East Bay E...          11-Mar-2020   \n",
       "2    Staff deployed to designated quarantine facili...          11-Mar-2020   \n",
       "3    Training and orientation sessions for the heal...          11-Mar-2020   \n",
       "4    24 High Dependency Units established across KP...          11-Mar-2020   \n",
       "..                                                 ...                  ...   \n",
       "161  Sindh Government has disbursed Rs.569.604 mill...  2020-04-03 00:00:00   \n",
       "162  District level trainings of HDU/Isolation/Quar...  2020-04-03 00:00:00   \n",
       "163  Data transcription on to the IPMS software hos...  2020-04-03 00:00:00   \n",
       "164  Out of 9 confirmed cases, 6 are local transmis...  2020-04-03 00:00:00   \n",
       "165  Involvement of WHO staff to provide support in...  2020-04-03 00:00:00   \n",
       "\n",
       "               Agg Provinces Preparedness and Response  \n",
       "0    316 newly arrived individuals screened and qua...  \n",
       "1    316 newly arrived individuals screened and qua...  \n",
       "2    Staff deployed to designated quarantine facili...  \n",
       "3    Staff deployed to designated quarantine facili...  \n",
       "4    24 High Dependency Units established across KP...  \n",
       "..                                                 ...  \n",
       "161  Sindh Government has disbursed Rs.569.604 mill...  \n",
       "162  District level trainings of HDU/Isolation/Quar...  \n",
       "163  Data transcription on to the IPMS software hos...  \n",
       "164  Out of 9 confirmed cases, 6 are local transmis...  \n",
       "165  Involvement of WHO staff to provide support in...  \n",
       "\n",
       "[166 rows x 5 columns]"
      ]
     },
     "execution_count": 72,
     "metadata": {},
     "output_type": "execute_result"
    }
   ],
   "source": [
    "sheet8"
   ]
  },
  {
   "cell_type": "markdown",
   "metadata": {
    "colab_type": "text",
    "id": "uh95aQh3vyf6"
   },
   "source": [
    "**Capitalize all the column headings**"
   ]
  },
  {
   "cell_type": "code",
   "execution_count": 73,
   "metadata": {
    "colab": {
     "base_uri": "https://localhost:8080/",
     "height": 0
    },
    "colab_type": "code",
    "id": "M-azoX24vzsV",
    "outputId": "cf5ed04c-7c06-467d-8013-8f49baf76d49"
   },
   "outputs": [
    {
     "data": {
      "text/plain": [
       "Index(['UNNAMED: 0', 'REGION', 'PROVINCES PREPAREDNESS AND RESPONSE', 'DATE',\n",
       "       'AGG PROVINCES PREPAREDNESS AND RESPONSE'],\n",
       "      dtype='object')"
      ]
     },
     "execution_count": 73,
     "metadata": {},
     "output_type": "execute_result"
    }
   ],
   "source": [
    "sheet8.columns=sheet8.columns.str.upper().str.strip()\n",
    "sheet8.columns"
   ]
  },
  {
   "cell_type": "markdown",
   "metadata": {
    "colab_type": "text",
    "id": "Bsit5SBSwRR6"
   },
   "source": [
    "**Finding which column has missing data**"
   ]
  },
  {
   "cell_type": "code",
   "execution_count": 74,
   "metadata": {
    "colab": {
     "base_uri": "https://localhost:8080/",
     "height": 0
    },
    "colab_type": "code",
    "id": "yH9ULM4nwRy2",
    "outputId": "38ec8234-96b7-4f5d-f8af-4f4329336fce"
   },
   "outputs": [
    {
     "data": {
      "text/plain": [
       "UNNAMED: 0                                 0\n",
       "REGION                                     0\n",
       "PROVINCES PREPAREDNESS AND RESPONSE        0\n",
       "DATE                                       0\n",
       "AGG PROVINCES PREPAREDNESS AND RESPONSE    0\n",
       "dtype: int64"
      ]
     },
     "execution_count": 74,
     "metadata": {},
     "output_type": "execute_result"
    }
   ],
   "source": [
    "sheet8.isnull().sum()"
   ]
  },
  {
   "cell_type": "markdown",
   "metadata": {
    "colab_type": "text",
    "id": "L0DYmmjjJIIo"
   },
   "source": [
    "**Renaming the column 1 'UNNAMED: 0' to 'PROVINCE_RESPONSE_NO'**"
   ]
  },
  {
   "cell_type": "code",
   "execution_count": 75,
   "metadata": {
    "colab": {},
    "colab_type": "code",
    "id": "xBqGdB1tJITt"
   },
   "outputs": [],
   "source": [
    "sheet8.rename(columns={'UNNAMED: 0':'PROVINCE_RESPONSE_NO'},inplace=True)"
   ]
  },
  {
   "cell_type": "markdown",
   "metadata": {
    "colab_type": "text",
    "id": "gREzUCf-J6Sk"
   },
   "source": [
    "**Padding will be done on the 'REGION', 'PROVINCES PREPAREDNESS AND RESPONSE', 'AGG PROVINCES PREPAREDNESS AND RESPONSE' columns**"
   ]
  },
  {
   "cell_type": "code",
   "execution_count": 76,
   "metadata": {
    "colab": {
     "base_uri": "https://localhost:8080/",
     "height": 0
    },
    "colab_type": "code",
    "id": "YptF0qG0J6eK",
    "outputId": "6a2cda8e-273f-424e-d5cd-9b711bcbe1ec"
   },
   "outputs": [
    {
     "data": {
      "text/html": [
       "<div>\n",
       "<style scoped>\n",
       "    .dataframe tbody tr th:only-of-type {\n",
       "        vertical-align: middle;\n",
       "    }\n",
       "\n",
       "    .dataframe tbody tr th {\n",
       "        vertical-align: top;\n",
       "    }\n",
       "\n",
       "    .dataframe thead th {\n",
       "        text-align: right;\n",
       "    }\n",
       "</style>\n",
       "<table border=\"1\" class=\"dataframe\">\n",
       "  <thead>\n",
       "    <tr style=\"text-align: right;\">\n",
       "      <th></th>\n",
       "      <th>PROVINCE_RESPONSE_NO</th>\n",
       "      <th>REGION</th>\n",
       "      <th>PROVINCES PREPAREDNESS AND RESPONSE</th>\n",
       "      <th>DATE</th>\n",
       "      <th>AGG PROVINCES PREPAREDNESS AND RESPONSE</th>\n",
       "    </tr>\n",
       "  </thead>\n",
       "  <tbody>\n",
       "    <tr>\n",
       "      <td>0</td>\n",
       "      <td>0</td>\n",
       "      <td>Balochistan</td>\n",
       "      <td>316 newly arrived individuals screened and qua...</td>\n",
       "      <td>11-Mar-2020</td>\n",
       "      <td>316 newly arrived individuals screened and qua...</td>\n",
       "    </tr>\n",
       "    <tr>\n",
       "      <td>1</td>\n",
       "      <td>1</td>\n",
       "      <td>Balochistan</td>\n",
       "      <td>14 Chinese nationals quarantined at East Bay E...</td>\n",
       "      <td>11-Mar-2020</td>\n",
       "      <td>316 newly arrived individuals screened and qua...</td>\n",
       "    </tr>\n",
       "    <tr>\n",
       "      <td>2</td>\n",
       "      <td>2</td>\n",
       "      <td>Sindh</td>\n",
       "      <td>Staff deployed to designated quarantine facili...</td>\n",
       "      <td>11-Mar-2020</td>\n",
       "      <td>Staff deployed to designated quarantine facili...</td>\n",
       "    </tr>\n",
       "    <tr>\n",
       "      <td>3</td>\n",
       "      <td>3</td>\n",
       "      <td>Sindh</td>\n",
       "      <td>Training and orientation sessions for the heal...</td>\n",
       "      <td>11-Mar-2020</td>\n",
       "      <td>Staff deployed to designated quarantine facili...</td>\n",
       "    </tr>\n",
       "    <tr>\n",
       "      <td>4</td>\n",
       "      <td>4</td>\n",
       "      <td>KP &amp; TD</td>\n",
       "      <td>24 High Dependency Units established across KP...</td>\n",
       "      <td>11-Mar-2020</td>\n",
       "      <td>24 High Dependency Units established across KP...</td>\n",
       "    </tr>\n",
       "  </tbody>\n",
       "</table>\n",
       "</div>"
      ],
      "text/plain": [
       "   PROVINCE_RESPONSE_NO        REGION  \\\n",
       "0                     0  Balochistan    \n",
       "1                     1  Balochistan    \n",
       "2                     2  Sindh          \n",
       "3                     3  Sindh          \n",
       "4                     4  KP & TD        \n",
       "\n",
       "                 PROVINCES PREPAREDNESS AND RESPONSE         DATE  \\\n",
       "0  316 newly arrived individuals screened and qua...  11-Mar-2020   \n",
       "1  14 Chinese nationals quarantined at East Bay E...  11-Mar-2020   \n",
       "2  Staff deployed to designated quarantine facili...  11-Mar-2020   \n",
       "3  Training and orientation sessions for the heal...  11-Mar-2020   \n",
       "4  24 High Dependency Units established across KP...  11-Mar-2020   \n",
       "\n",
       "             AGG PROVINCES PREPAREDNESS AND RESPONSE  \n",
       "0  316 newly arrived individuals screened and qua...  \n",
       "1  316 newly arrived individuals screened and qua...  \n",
       "2  Staff deployed to designated quarantine facili...  \n",
       "3  Staff deployed to designated quarantine facili...  \n",
       "4  24 High Dependency Units established across KP...  "
      ]
     },
     "execution_count": 76,
     "metadata": {},
     "output_type": "execute_result"
    }
   ],
   "source": [
    "sheet8['REGION']=sheet8['REGION'].str.pad(12,side='right')\n",
    "sheet8['PROVINCES PREPAREDNESS AND RESPONSE']=sheet8['PROVINCES PREPAREDNESS AND RESPONSE'].str.pad(12,side='right')\n",
    "sheet8['AGG PROVINCES PREPAREDNESS AND RESPONSE']=sheet8['AGG PROVINCES PREPAREDNESS AND RESPONSE'].str.pad(12,side='right')\n",
    "sheet8.head()"
   ]
  },
  {
   "cell_type": "markdown",
   "metadata": {
    "colab_type": "text",
    "id": "EXdWstLKI_Pj"
   },
   "source": [
    "**Checking the Data Types of the columns**"
   ]
  },
  {
   "cell_type": "code",
   "execution_count": 77,
   "metadata": {
    "colab": {
     "base_uri": "https://localhost:8080/",
     "height": 0
    },
    "colab_type": "code",
    "id": "bkO1R-xPI_dE",
    "outputId": "8f9b86a7-c993-432c-b1d6-f12abf675a7b"
   },
   "outputs": [
    {
     "data": {
      "text/plain": [
       "PROVINCE_RESPONSE_NO                        int64\n",
       "REGION                                     object\n",
       "PROVINCES PREPAREDNESS AND RESPONSE        object\n",
       "DATE                                       object\n",
       "AGG PROVINCES PREPAREDNESS AND RESPONSE    object\n",
       "dtype: object"
      ]
     },
     "execution_count": 77,
     "metadata": {},
     "output_type": "execute_result"
    }
   ],
   "source": [
    "sheet8.dtypes"
   ]
  },
  {
   "cell_type": "markdown",
   "metadata": {
    "colab_type": "text",
    "id": "rlHOEoZrI__K"
   },
   "source": [
    "**Changing the datatype of 'DATE' column**"
   ]
  },
  {
   "cell_type": "code",
   "execution_count": 78,
   "metadata": {
    "colab": {},
    "colab_type": "code",
    "id": "7J2Ax0-5JAMf"
   },
   "outputs": [],
   "source": [
    "sheet8['DATE']=pd.to_datetime(sheet8['DATE']).dt.date"
   ]
  },
  {
   "cell_type": "markdown",
   "metadata": {
    "colab_type": "text",
    "id": "3K4E5pHGJAah"
   },
   "source": [
    "**Again checking the datatypes of all the columns**"
   ]
  },
  {
   "cell_type": "code",
   "execution_count": 79,
   "metadata": {
    "colab": {
     "base_uri": "https://localhost:8080/",
     "height": 0
    },
    "colab_type": "code",
    "id": "fUpTivYYJAqz",
    "outputId": "d5fe684d-14ee-4489-901c-3920a2751159"
   },
   "outputs": [
    {
     "data": {
      "text/plain": [
       "PROVINCE_RESPONSE_NO                        int64\n",
       "REGION                                     object\n",
       "PROVINCES PREPAREDNESS AND RESPONSE        object\n",
       "DATE                                       object\n",
       "AGG PROVINCES PREPAREDNESS AND RESPONSE    object\n",
       "dtype: object"
      ]
     },
     "execution_count": 79,
     "metadata": {},
     "output_type": "execute_result"
    }
   ],
   "source": [
    "sheet8.dtypes"
   ]
  },
  {
   "cell_type": "markdown",
   "metadata": {
    "colab_type": "text",
    "id": "u7ruF5uOLJx4"
   },
   "source": [
    "**Replace 'KP & TD' with \"KPTD\" in 'REGION' column**"
   ]
  },
  {
   "cell_type": "code",
   "execution_count": 80,
   "metadata": {
    "colab": {},
    "colab_type": "code",
    "id": "Oq0kU7tCLJ-8"
   },
   "outputs": [],
   "source": [
    "sheet8['REGION']=sheet8['REGION'].str.replace('KP & TD','KPTD')"
   ]
  },
  {
   "cell_type": "markdown",
   "metadata": {
    "colab_type": "text",
    "id": "JR-EbbPPwSOC"
   },
   "source": [
    "**Displaying Sheet8 Again**"
   ]
  },
  {
   "cell_type": "code",
   "execution_count": 81,
   "metadata": {
    "colab": {
     "base_uri": "https://localhost:8080/",
     "height": 0
    },
    "colab_type": "code",
    "id": "xIv99FCJAu1h",
    "outputId": "708cc993-1fed-4068-f891-81438e7801bb"
   },
   "outputs": [
    {
     "data": {
      "text/html": [
       "<div>\n",
       "<style scoped>\n",
       "    .dataframe tbody tr th:only-of-type {\n",
       "        vertical-align: middle;\n",
       "    }\n",
       "\n",
       "    .dataframe tbody tr th {\n",
       "        vertical-align: top;\n",
       "    }\n",
       "\n",
       "    .dataframe thead th {\n",
       "        text-align: right;\n",
       "    }\n",
       "</style>\n",
       "<table border=\"1\" class=\"dataframe\">\n",
       "  <thead>\n",
       "    <tr style=\"text-align: right;\">\n",
       "      <th></th>\n",
       "      <th>PROVINCE_RESPONSE_NO</th>\n",
       "      <th>REGION</th>\n",
       "      <th>PROVINCES PREPAREDNESS AND RESPONSE</th>\n",
       "      <th>DATE</th>\n",
       "      <th>AGG PROVINCES PREPAREDNESS AND RESPONSE</th>\n",
       "    </tr>\n",
       "  </thead>\n",
       "  <tbody>\n",
       "    <tr>\n",
       "      <td>0</td>\n",
       "      <td>0</td>\n",
       "      <td>Balochistan</td>\n",
       "      <td>316 newly arrived individuals screened and qua...</td>\n",
       "      <td>2020-03-11</td>\n",
       "      <td>316 newly arrived individuals screened and qua...</td>\n",
       "    </tr>\n",
       "    <tr>\n",
       "      <td>1</td>\n",
       "      <td>1</td>\n",
       "      <td>Balochistan</td>\n",
       "      <td>14 Chinese nationals quarantined at East Bay E...</td>\n",
       "      <td>2020-03-11</td>\n",
       "      <td>316 newly arrived individuals screened and qua...</td>\n",
       "    </tr>\n",
       "    <tr>\n",
       "      <td>2</td>\n",
       "      <td>2</td>\n",
       "      <td>Sindh</td>\n",
       "      <td>Staff deployed to designated quarantine facili...</td>\n",
       "      <td>2020-03-11</td>\n",
       "      <td>Staff deployed to designated quarantine facili...</td>\n",
       "    </tr>\n",
       "    <tr>\n",
       "      <td>3</td>\n",
       "      <td>3</td>\n",
       "      <td>Sindh</td>\n",
       "      <td>Training and orientation sessions for the heal...</td>\n",
       "      <td>2020-03-11</td>\n",
       "      <td>Staff deployed to designated quarantine facili...</td>\n",
       "    </tr>\n",
       "    <tr>\n",
       "      <td>4</td>\n",
       "      <td>4</td>\n",
       "      <td>KPTD</td>\n",
       "      <td>24 High Dependency Units established across KP...</td>\n",
       "      <td>2020-03-11</td>\n",
       "      <td>24 High Dependency Units established across KP...</td>\n",
       "    </tr>\n",
       "    <tr>\n",
       "      <td>...</td>\n",
       "      <td>...</td>\n",
       "      <td>...</td>\n",
       "      <td>...</td>\n",
       "      <td>...</td>\n",
       "      <td>...</td>\n",
       "    </tr>\n",
       "    <tr>\n",
       "      <td>161</td>\n",
       "      <td>2</td>\n",
       "      <td>Sindh</td>\n",
       "      <td>Sindh Government has disbursed Rs.569.604 mill...</td>\n",
       "      <td>2020-04-03</td>\n",
       "      <td>Sindh Government has disbursed Rs.569.604 mill...</td>\n",
       "    </tr>\n",
       "    <tr>\n",
       "      <td>162</td>\n",
       "      <td>3</td>\n",
       "      <td>Punjab</td>\n",
       "      <td>District level trainings of HDU/Isolation/Quar...</td>\n",
       "      <td>2020-04-03</td>\n",
       "      <td>District level trainings of HDU/Isolation/Quar...</td>\n",
       "    </tr>\n",
       "    <tr>\n",
       "      <td>163</td>\n",
       "      <td>4</td>\n",
       "      <td>KP</td>\n",
       "      <td>Data transcription on to the IPMS software hos...</td>\n",
       "      <td>2020-04-03</td>\n",
       "      <td>Data transcription on to the IPMS software hos...</td>\n",
       "    </tr>\n",
       "    <tr>\n",
       "      <td>164</td>\n",
       "      <td>5</td>\n",
       "      <td>AJK</td>\n",
       "      <td>Out of 9 confirmed cases, 6 are local transmis...</td>\n",
       "      <td>2020-04-03</td>\n",
       "      <td>Out of 9 confirmed cases, 6 are local transmis...</td>\n",
       "    </tr>\n",
       "    <tr>\n",
       "      <td>165</td>\n",
       "      <td>6</td>\n",
       "      <td>GB</td>\n",
       "      <td>Involvement of WHO staff to provide support in...</td>\n",
       "      <td>2020-04-03</td>\n",
       "      <td>Involvement of WHO staff to provide support in...</td>\n",
       "    </tr>\n",
       "  </tbody>\n",
       "</table>\n",
       "<p>166 rows × 5 columns</p>\n",
       "</div>"
      ],
      "text/plain": [
       "     PROVINCE_RESPONSE_NO        REGION  \\\n",
       "0                       0  Balochistan    \n",
       "1                       1  Balochistan    \n",
       "2                       2  Sindh          \n",
       "3                       3  Sindh          \n",
       "4                       4     KPTD        \n",
       "..                    ...           ...   \n",
       "161                     2  Sindh          \n",
       "162                     3  Punjab         \n",
       "163                     4  KP             \n",
       "164                     5  AJK            \n",
       "165                     6  GB             \n",
       "\n",
       "                   PROVINCES PREPAREDNESS AND RESPONSE        DATE  \\\n",
       "0    316 newly arrived individuals screened and qua...  2020-03-11   \n",
       "1    14 Chinese nationals quarantined at East Bay E...  2020-03-11   \n",
       "2    Staff deployed to designated quarantine facili...  2020-03-11   \n",
       "3    Training and orientation sessions for the heal...  2020-03-11   \n",
       "4    24 High Dependency Units established across KP...  2020-03-11   \n",
       "..                                                 ...         ...   \n",
       "161  Sindh Government has disbursed Rs.569.604 mill...  2020-04-03   \n",
       "162  District level trainings of HDU/Isolation/Quar...  2020-04-03   \n",
       "163  Data transcription on to the IPMS software hos...  2020-04-03   \n",
       "164  Out of 9 confirmed cases, 6 are local transmis...  2020-04-03   \n",
       "165  Involvement of WHO staff to provide support in...  2020-04-03   \n",
       "\n",
       "               AGG PROVINCES PREPAREDNESS AND RESPONSE  \n",
       "0    316 newly arrived individuals screened and qua...  \n",
       "1    316 newly arrived individuals screened and qua...  \n",
       "2    Staff deployed to designated quarantine facili...  \n",
       "3    Staff deployed to designated quarantine facili...  \n",
       "4    24 High Dependency Units established across KP...  \n",
       "..                                                 ...  \n",
       "161  Sindh Government has disbursed Rs.569.604 mill...  \n",
       "162  District level trainings of HDU/Isolation/Quar...  \n",
       "163  Data transcription on to the IPMS software hos...  \n",
       "164  Out of 9 confirmed cases, 6 are local transmis...  \n",
       "165  Involvement of WHO staff to provide support in...  \n",
       "\n",
       "[166 rows x 5 columns]"
      ]
     },
     "execution_count": 81,
     "metadata": {},
     "output_type": "execute_result"
    }
   ],
   "source": [
    "sheet8"
   ]
  },
  {
   "cell_type": "markdown",
   "metadata": {
    "colab_type": "text",
    "id": "Gx5TZTXhtuIh"
   },
   "source": [
    "#### **SHEET 9:**"
   ]
  },
  {
   "cell_type": "markdown",
   "metadata": {
    "colab_type": "text",
    "id": "lI3iyrPmuGGj"
   },
   "source": [
    "**Displaying Sheet 9**"
   ]
  },
  {
   "cell_type": "code",
   "execution_count": 82,
   "metadata": {
    "colab": {
     "base_uri": "https://localhost:8080/",
     "height": 0
    },
    "colab_type": "code",
    "id": "a8i_Mqy6v1Pp",
    "outputId": "2220b899-26fe-4409-afa4-0544bc4bbb8a"
   },
   "outputs": [
    {
     "data": {
      "text/html": [
       "<div>\n",
       "<style scoped>\n",
       "    .dataframe tbody tr th:only-of-type {\n",
       "        vertical-align: middle;\n",
       "    }\n",
       "\n",
       "    .dataframe tbody tr th {\n",
       "        vertical-align: top;\n",
       "    }\n",
       "\n",
       "    .dataframe thead th {\n",
       "        text-align: right;\n",
       "    }\n",
       "</style>\n",
       "<table border=\"1\" class=\"dataframe\">\n",
       "  <thead>\n",
       "    <tr style=\"text-align: right;\">\n",
       "      <th></th>\n",
       "      <th>Unnamed: 0</th>\n",
       "      <th>Cumulative Calls</th>\n",
       "      <th>Date</th>\n",
       "      <th>New Calls</th>\n",
       "    </tr>\n",
       "  </thead>\n",
       "  <tbody>\n",
       "    <tr>\n",
       "      <td>0</td>\n",
       "      <td>0</td>\n",
       "      <td>12481</td>\n",
       "      <td>2020-03-11</td>\n",
       "      <td>547</td>\n",
       "    </tr>\n",
       "    <tr>\n",
       "      <td>1</td>\n",
       "      <td>0</td>\n",
       "      <td>13167</td>\n",
       "      <td>2020-03-12</td>\n",
       "      <td>686</td>\n",
       "    </tr>\n",
       "    <tr>\n",
       "      <td>2</td>\n",
       "      <td>0</td>\n",
       "      <td>13896</td>\n",
       "      <td>2020-03-13</td>\n",
       "      <td>729</td>\n",
       "    </tr>\n",
       "    <tr>\n",
       "      <td>3</td>\n",
       "      <td>0</td>\n",
       "      <td>15340</td>\n",
       "      <td>2020-03-14</td>\n",
       "      <td>1444</td>\n",
       "    </tr>\n",
       "    <tr>\n",
       "      <td>4</td>\n",
       "      <td>0</td>\n",
       "      <td>19131</td>\n",
       "      <td>2020-03-15</td>\n",
       "      <td>3791</td>\n",
       "    </tr>\n",
       "    <tr>\n",
       "      <td>5</td>\n",
       "      <td>0</td>\n",
       "      <td>26193</td>\n",
       "      <td>2020-03-16</td>\n",
       "      <td>7062</td>\n",
       "    </tr>\n",
       "    <tr>\n",
       "      <td>6</td>\n",
       "      <td>0</td>\n",
       "      <td>33427</td>\n",
       "      <td>2020-03-17</td>\n",
       "      <td>7234</td>\n",
       "    </tr>\n",
       "    <tr>\n",
       "      <td>7</td>\n",
       "      <td>0</td>\n",
       "      <td>41563</td>\n",
       "      <td>2020-03-18</td>\n",
       "      <td>8136</td>\n",
       "    </tr>\n",
       "    <tr>\n",
       "      <td>8</td>\n",
       "      <td>0</td>\n",
       "      <td>48786</td>\n",
       "      <td>2020-03-19</td>\n",
       "      <td>7223</td>\n",
       "    </tr>\n",
       "    <tr>\n",
       "      <td>9</td>\n",
       "      <td>0</td>\n",
       "      <td>56892</td>\n",
       "      <td>2020-03-20</td>\n",
       "      <td>8106</td>\n",
       "    </tr>\n",
       "    <tr>\n",
       "      <td>10</td>\n",
       "      <td>0</td>\n",
       "      <td>65602</td>\n",
       "      <td>2020-03-21</td>\n",
       "      <td>8710</td>\n",
       "    </tr>\n",
       "    <tr>\n",
       "      <td>11</td>\n",
       "      <td>0</td>\n",
       "      <td>65602</td>\n",
       "      <td>2020-03-22</td>\n",
       "      <td>8710</td>\n",
       "    </tr>\n",
       "    <tr>\n",
       "      <td>12</td>\n",
       "      <td>0</td>\n",
       "      <td>84700</td>\n",
       "      <td>2020-03-23</td>\n",
       "      <td>9654</td>\n",
       "    </tr>\n",
       "    <tr>\n",
       "      <td>13</td>\n",
       "      <td>0</td>\n",
       "      <td>93991</td>\n",
       "      <td>2020-03-24</td>\n",
       "      <td>9291</td>\n",
       "    </tr>\n",
       "    <tr>\n",
       "      <td>14</td>\n",
       "      <td>0</td>\n",
       "      <td>110052</td>\n",
       "      <td>2020-03-25</td>\n",
       "      <td>16061</td>\n",
       "    </tr>\n",
       "    <tr>\n",
       "      <td>15</td>\n",
       "      <td>0</td>\n",
       "      <td>152633</td>\n",
       "      <td>2020-03-26</td>\n",
       "      <td>42581</td>\n",
       "    </tr>\n",
       "    <tr>\n",
       "      <td>16</td>\n",
       "      <td>0</td>\n",
       "      <td>152633</td>\n",
       "      <td>2020-03-27</td>\n",
       "      <td>0</td>\n",
       "    </tr>\n",
       "    <tr>\n",
       "      <td>17</td>\n",
       "      <td>0</td>\n",
       "      <td>321600</td>\n",
       "      <td>2020-03-28</td>\n",
       "      <td>138062</td>\n",
       "    </tr>\n",
       "    <tr>\n",
       "      <td>18</td>\n",
       "      <td>0</td>\n",
       "      <td>449289</td>\n",
       "      <td>2020-03-29</td>\n",
       "      <td>128229</td>\n",
       "    </tr>\n",
       "    <tr>\n",
       "      <td>19</td>\n",
       "      <td>0</td>\n",
       "      <td>531628</td>\n",
       "      <td>2020-03-30</td>\n",
       "      <td>82799</td>\n",
       "    </tr>\n",
       "    <tr>\n",
       "      <td>20</td>\n",
       "      <td>0</td>\n",
       "      <td>620574</td>\n",
       "      <td>2020-03-31</td>\n",
       "      <td>88946</td>\n",
       "    </tr>\n",
       "    <tr>\n",
       "      <td>21</td>\n",
       "      <td>0</td>\n",
       "      <td>700728</td>\n",
       "      <td>2020-04-01</td>\n",
       "      <td>80154</td>\n",
       "    </tr>\n",
       "    <tr>\n",
       "      <td>22</td>\n",
       "      <td>0</td>\n",
       "      <td>772723</td>\n",
       "      <td>2020-04-02</td>\n",
       "      <td>71995</td>\n",
       "    </tr>\n",
       "    <tr>\n",
       "      <td>23</td>\n",
       "      <td>0</td>\n",
       "      <td>840021</td>\n",
       "      <td>2020-04-03</td>\n",
       "      <td>67298</td>\n",
       "    </tr>\n",
       "  </tbody>\n",
       "</table>\n",
       "</div>"
      ],
      "text/plain": [
       "    Unnamed: 0  Cumulative Calls       Date  New Calls\n",
       "0            0             12481 2020-03-11        547\n",
       "1            0             13167 2020-03-12        686\n",
       "2            0             13896 2020-03-13        729\n",
       "3            0             15340 2020-03-14       1444\n",
       "4            0             19131 2020-03-15       3791\n",
       "5            0             26193 2020-03-16       7062\n",
       "6            0             33427 2020-03-17       7234\n",
       "7            0             41563 2020-03-18       8136\n",
       "8            0             48786 2020-03-19       7223\n",
       "9            0             56892 2020-03-20       8106\n",
       "10           0             65602 2020-03-21       8710\n",
       "11           0             65602 2020-03-22       8710\n",
       "12           0             84700 2020-03-23       9654\n",
       "13           0             93991 2020-03-24       9291\n",
       "14           0            110052 2020-03-25      16061\n",
       "15           0            152633 2020-03-26      42581\n",
       "16           0            152633 2020-03-27          0\n",
       "17           0            321600 2020-03-28     138062\n",
       "18           0            449289 2020-03-29     128229\n",
       "19           0            531628 2020-03-30      82799\n",
       "20           0            620574 2020-03-31      88946\n",
       "21           0            700728 2020-04-01      80154\n",
       "22           0            772723 2020-04-02      71995\n",
       "23           0            840021 2020-04-03      67298"
      ]
     },
     "execution_count": 82,
     "metadata": {},
     "output_type": "execute_result"
    }
   ],
   "source": [
    "sheet9"
   ]
  },
  {
   "cell_type": "markdown",
   "metadata": {
    "colab_type": "text",
    "id": "iKx6Sft5v2HJ"
   },
   "source": [
    "**Capitalize all the column headings**"
   ]
  },
  {
   "cell_type": "code",
   "execution_count": 83,
   "metadata": {
    "colab": {
     "base_uri": "https://localhost:8080/",
     "height": 0
    },
    "colab_type": "code",
    "id": "y78-aMMdv2rK",
    "outputId": "6d78fb2d-d329-4d87-eeb8-d50fb224574b"
   },
   "outputs": [
    {
     "data": {
      "text/plain": [
       "Index(['UNNAMED: 0', 'CUMULATIVE CALLS', 'DATE', 'NEW CALLS'], dtype='object')"
      ]
     },
     "execution_count": 83,
     "metadata": {},
     "output_type": "execute_result"
    }
   ],
   "source": [
    "sheet9.columns=sheet9.columns.str.upper().str.strip()\n",
    "sheet9.columns"
   ]
  },
  {
   "cell_type": "markdown",
   "metadata": {
    "colab_type": "text",
    "id": "wFpBkevKwTaI"
   },
   "source": [
    "**Finding which column has missing data**"
   ]
  },
  {
   "cell_type": "code",
   "execution_count": 84,
   "metadata": {
    "colab": {
     "base_uri": "https://localhost:8080/",
     "height": 0
    },
    "colab_type": "code",
    "id": "LfXp6kdwwToa",
    "outputId": "25a525a1-48cb-4690-af57-0158df383aae"
   },
   "outputs": [
    {
     "data": {
      "text/plain": [
       "UNNAMED: 0          0\n",
       "CUMULATIVE CALLS    0\n",
       "DATE                0\n",
       "NEW CALLS           0\n",
       "dtype: int64"
      ]
     },
     "execution_count": 84,
     "metadata": {},
     "output_type": "execute_result"
    }
   ],
   "source": [
    "sheet9.isnull().sum()"
   ]
  },
  {
   "cell_type": "markdown",
   "metadata": {
    "colab_type": "text",
    "id": "_xy9pordy3Ff"
   },
   "source": [
    "**Drop the column 1 'UNNAMED: 0' column**"
   ]
  },
  {
   "cell_type": "code",
   "execution_count": 85,
   "metadata": {
    "colab": {
     "base_uri": "https://localhost:8080/",
     "height": 0
    },
    "colab_type": "code",
    "id": "W6L9xPQDy3VA",
    "outputId": "e7821e9f-4e33-400b-f38d-b218d121f44b"
   },
   "outputs": [
    {
     "data": {
      "text/plain": [
       "Index(['CUMULATIVE CALLS', 'DATE', 'NEW CALLS'], dtype='object')"
      ]
     },
     "execution_count": 85,
     "metadata": {},
     "output_type": "execute_result"
    }
   ],
   "source": [
    "sheet9.drop(['UNNAMED: 0'], axis=1, inplace=True)\n",
    "sheet9.columns"
   ]
  },
  {
   "cell_type": "markdown",
   "metadata": {
    "colab_type": "text",
    "id": "JMlMawVTy6_k"
   },
   "source": [
    "**Checking the Data Types of the columns**"
   ]
  },
  {
   "cell_type": "code",
   "execution_count": 86,
   "metadata": {
    "colab": {
     "base_uri": "https://localhost:8080/",
     "height": 0
    },
    "colab_type": "code",
    "id": "pQoeeY6fy7V9",
    "outputId": "b8157238-b267-49dc-ec25-b13fe73bf111"
   },
   "outputs": [
    {
     "data": {
      "text/plain": [
       "CUMULATIVE CALLS             int64\n",
       "DATE                datetime64[ns]\n",
       "NEW CALLS                    int64\n",
       "dtype: object"
      ]
     },
     "execution_count": 86,
     "metadata": {},
     "output_type": "execute_result"
    }
   ],
   "source": [
    "sheet9.dtypes"
   ]
  },
  {
   "cell_type": "markdown",
   "metadata": {
    "colab_type": "text",
    "id": "PxdViSGty9WT"
   },
   "source": [
    "**Changing the datatype and syntax of 'DATE' column**"
   ]
  },
  {
   "cell_type": "code",
   "execution_count": 87,
   "metadata": {
    "colab": {},
    "colab_type": "code",
    "id": "D4pn3zw_y920"
   },
   "outputs": [],
   "source": [
    "sheet9['DATE']=pd.to_datetime(sheet9['DATE']).dt.date"
   ]
  },
  {
   "cell_type": "markdown",
   "metadata": {
    "colab_type": "text",
    "id": "8I7zXs-5zAXj"
   },
   "source": [
    "**Again checking the datatypes of all the columns**"
   ]
  },
  {
   "cell_type": "code",
   "execution_count": 88,
   "metadata": {
    "colab": {
     "base_uri": "https://localhost:8080/",
     "height": 0
    },
    "colab_type": "code",
    "id": "YZAdyfrfzAob",
    "outputId": "a796f726-ff4f-4159-f40e-3395566de691"
   },
   "outputs": [
    {
     "data": {
      "text/plain": [
       "CUMULATIVE CALLS     int64\n",
       "DATE                object\n",
       "NEW CALLS            int64\n",
       "dtype: object"
      ]
     },
     "execution_count": 88,
     "metadata": {},
     "output_type": "execute_result"
    }
   ],
   "source": [
    "sheet9.dtypes"
   ]
  },
  {
   "cell_type": "markdown",
   "metadata": {
    "colab_type": "text",
    "id": "BptXPl7FzJqj"
   },
   "source": [
    "**Displaying Sheet9 Again**"
   ]
  },
  {
   "cell_type": "code",
   "execution_count": 89,
   "metadata": {
    "colab": {
     "base_uri": "https://localhost:8080/",
     "height": 0
    },
    "colab_type": "code",
    "id": "YmxtR1jJzKRK",
    "outputId": "efe802f1-fde6-4191-b20a-f90cd4d0eff1"
   },
   "outputs": [
    {
     "data": {
      "text/html": [
       "<div>\n",
       "<style scoped>\n",
       "    .dataframe tbody tr th:only-of-type {\n",
       "        vertical-align: middle;\n",
       "    }\n",
       "\n",
       "    .dataframe tbody tr th {\n",
       "        vertical-align: top;\n",
       "    }\n",
       "\n",
       "    .dataframe thead th {\n",
       "        text-align: right;\n",
       "    }\n",
       "</style>\n",
       "<table border=\"1\" class=\"dataframe\">\n",
       "  <thead>\n",
       "    <tr style=\"text-align: right;\">\n",
       "      <th></th>\n",
       "      <th>CUMULATIVE CALLS</th>\n",
       "      <th>DATE</th>\n",
       "      <th>NEW CALLS</th>\n",
       "    </tr>\n",
       "  </thead>\n",
       "  <tbody>\n",
       "    <tr>\n",
       "      <td>0</td>\n",
       "      <td>12481</td>\n",
       "      <td>2020-03-11</td>\n",
       "      <td>547</td>\n",
       "    </tr>\n",
       "    <tr>\n",
       "      <td>1</td>\n",
       "      <td>13167</td>\n",
       "      <td>2020-03-12</td>\n",
       "      <td>686</td>\n",
       "    </tr>\n",
       "    <tr>\n",
       "      <td>2</td>\n",
       "      <td>13896</td>\n",
       "      <td>2020-03-13</td>\n",
       "      <td>729</td>\n",
       "    </tr>\n",
       "    <tr>\n",
       "      <td>3</td>\n",
       "      <td>15340</td>\n",
       "      <td>2020-03-14</td>\n",
       "      <td>1444</td>\n",
       "    </tr>\n",
       "    <tr>\n",
       "      <td>4</td>\n",
       "      <td>19131</td>\n",
       "      <td>2020-03-15</td>\n",
       "      <td>3791</td>\n",
       "    </tr>\n",
       "    <tr>\n",
       "      <td>5</td>\n",
       "      <td>26193</td>\n",
       "      <td>2020-03-16</td>\n",
       "      <td>7062</td>\n",
       "    </tr>\n",
       "    <tr>\n",
       "      <td>6</td>\n",
       "      <td>33427</td>\n",
       "      <td>2020-03-17</td>\n",
       "      <td>7234</td>\n",
       "    </tr>\n",
       "    <tr>\n",
       "      <td>7</td>\n",
       "      <td>41563</td>\n",
       "      <td>2020-03-18</td>\n",
       "      <td>8136</td>\n",
       "    </tr>\n",
       "    <tr>\n",
       "      <td>8</td>\n",
       "      <td>48786</td>\n",
       "      <td>2020-03-19</td>\n",
       "      <td>7223</td>\n",
       "    </tr>\n",
       "    <tr>\n",
       "      <td>9</td>\n",
       "      <td>56892</td>\n",
       "      <td>2020-03-20</td>\n",
       "      <td>8106</td>\n",
       "    </tr>\n",
       "    <tr>\n",
       "      <td>10</td>\n",
       "      <td>65602</td>\n",
       "      <td>2020-03-21</td>\n",
       "      <td>8710</td>\n",
       "    </tr>\n",
       "    <tr>\n",
       "      <td>11</td>\n",
       "      <td>65602</td>\n",
       "      <td>2020-03-22</td>\n",
       "      <td>8710</td>\n",
       "    </tr>\n",
       "    <tr>\n",
       "      <td>12</td>\n",
       "      <td>84700</td>\n",
       "      <td>2020-03-23</td>\n",
       "      <td>9654</td>\n",
       "    </tr>\n",
       "    <tr>\n",
       "      <td>13</td>\n",
       "      <td>93991</td>\n",
       "      <td>2020-03-24</td>\n",
       "      <td>9291</td>\n",
       "    </tr>\n",
       "    <tr>\n",
       "      <td>14</td>\n",
       "      <td>110052</td>\n",
       "      <td>2020-03-25</td>\n",
       "      <td>16061</td>\n",
       "    </tr>\n",
       "    <tr>\n",
       "      <td>15</td>\n",
       "      <td>152633</td>\n",
       "      <td>2020-03-26</td>\n",
       "      <td>42581</td>\n",
       "    </tr>\n",
       "    <tr>\n",
       "      <td>16</td>\n",
       "      <td>152633</td>\n",
       "      <td>2020-03-27</td>\n",
       "      <td>0</td>\n",
       "    </tr>\n",
       "    <tr>\n",
       "      <td>17</td>\n",
       "      <td>321600</td>\n",
       "      <td>2020-03-28</td>\n",
       "      <td>138062</td>\n",
       "    </tr>\n",
       "    <tr>\n",
       "      <td>18</td>\n",
       "      <td>449289</td>\n",
       "      <td>2020-03-29</td>\n",
       "      <td>128229</td>\n",
       "    </tr>\n",
       "    <tr>\n",
       "      <td>19</td>\n",
       "      <td>531628</td>\n",
       "      <td>2020-03-30</td>\n",
       "      <td>82799</td>\n",
       "    </tr>\n",
       "    <tr>\n",
       "      <td>20</td>\n",
       "      <td>620574</td>\n",
       "      <td>2020-03-31</td>\n",
       "      <td>88946</td>\n",
       "    </tr>\n",
       "    <tr>\n",
       "      <td>21</td>\n",
       "      <td>700728</td>\n",
       "      <td>2020-04-01</td>\n",
       "      <td>80154</td>\n",
       "    </tr>\n",
       "    <tr>\n",
       "      <td>22</td>\n",
       "      <td>772723</td>\n",
       "      <td>2020-04-02</td>\n",
       "      <td>71995</td>\n",
       "    </tr>\n",
       "    <tr>\n",
       "      <td>23</td>\n",
       "      <td>840021</td>\n",
       "      <td>2020-04-03</td>\n",
       "      <td>67298</td>\n",
       "    </tr>\n",
       "  </tbody>\n",
       "</table>\n",
       "</div>"
      ],
      "text/plain": [
       "    CUMULATIVE CALLS        DATE  NEW CALLS\n",
       "0              12481  2020-03-11        547\n",
       "1              13167  2020-03-12        686\n",
       "2              13896  2020-03-13        729\n",
       "3              15340  2020-03-14       1444\n",
       "4              19131  2020-03-15       3791\n",
       "5              26193  2020-03-16       7062\n",
       "6              33427  2020-03-17       7234\n",
       "7              41563  2020-03-18       8136\n",
       "8              48786  2020-03-19       7223\n",
       "9              56892  2020-03-20       8106\n",
       "10             65602  2020-03-21       8710\n",
       "11             65602  2020-03-22       8710\n",
       "12             84700  2020-03-23       9654\n",
       "13             93991  2020-03-24       9291\n",
       "14            110052  2020-03-25      16061\n",
       "15            152633  2020-03-26      42581\n",
       "16            152633  2020-03-27          0\n",
       "17            321600  2020-03-28     138062\n",
       "18            449289  2020-03-29     128229\n",
       "19            531628  2020-03-30      82799\n",
       "20            620574  2020-03-31      88946\n",
       "21            700728  2020-04-01      80154\n",
       "22            772723  2020-04-02      71995\n",
       "23            840021  2020-04-03      67298"
      ]
     },
     "execution_count": 89,
     "metadata": {},
     "output_type": "execute_result"
    }
   ],
   "source": [
    "sheet9"
   ]
  },
  {
   "cell_type": "markdown",
   "metadata": {
    "colab_type": "text",
    "id": "HLm4pn89tvOH"
   },
   "source": [
    "#### **SHEET 10:**"
   ]
  },
  {
   "cell_type": "markdown",
   "metadata": {
    "colab_type": "text",
    "id": "VDduY9lsuH2c"
   },
   "source": [
    "**Displaying Sheet 10**"
   ]
  },
  {
   "cell_type": "code",
   "execution_count": 90,
   "metadata": {
    "colab": {
     "base_uri": "https://localhost:8080/",
     "height": 0
    },
    "colab_type": "code",
    "id": "5mpBONh0v3_y",
    "outputId": "d093492a-58c1-439d-b7a5-f1128d927fb6"
   },
   "outputs": [
    {
     "data": {
      "text/html": [
       "<div>\n",
       "<style scoped>\n",
       "    .dataframe tbody tr th:only-of-type {\n",
       "        vertical-align: middle;\n",
       "    }\n",
       "\n",
       "    .dataframe tbody tr th {\n",
       "        vertical-align: top;\n",
       "    }\n",
       "\n",
       "    .dataframe thead th {\n",
       "        text-align: right;\n",
       "    }\n",
       "</style>\n",
       "<table border=\"1\" class=\"dataframe\">\n",
       "  <thead>\n",
       "    <tr style=\"text-align: right;\">\n",
       "      <th></th>\n",
       "      <th>Unnamed: 0</th>\n",
       "      <th>Regions</th>\n",
       "      <th>Quarantine facilities (n)</th>\n",
       "      <th>No. of arrivals in last 24 hrs</th>\n",
       "      <th>Cumulative no of persons present</th>\n",
       "      <th>Date</th>\n",
       "    </tr>\n",
       "  </thead>\n",
       "  <tbody>\n",
       "    <tr>\n",
       "      <td>0</td>\n",
       "      <td>0</td>\n",
       "      <td>ICT</td>\n",
       "      <td>1</td>\n",
       "      <td>0</td>\n",
       "      <td>24</td>\n",
       "      <td>2020-04-01</td>\n",
       "    </tr>\n",
       "    <tr>\n",
       "      <td>1</td>\n",
       "      <td>1</td>\n",
       "      <td>Punjab</td>\n",
       "      <td>4</td>\n",
       "      <td>0</td>\n",
       "      <td>2956</td>\n",
       "      <td>2020-04-01</td>\n",
       "    </tr>\n",
       "    <tr>\n",
       "      <td>2</td>\n",
       "      <td>2</td>\n",
       "      <td>Sindh</td>\n",
       "      <td>5</td>\n",
       "      <td>0</td>\n",
       "      <td>1388</td>\n",
       "      <td>2020-04-01</td>\n",
       "    </tr>\n",
       "    <tr>\n",
       "      <td>3</td>\n",
       "      <td>3</td>\n",
       "      <td>KP</td>\n",
       "      <td>92</td>\n",
       "      <td>181</td>\n",
       "      <td>3260</td>\n",
       "      <td>2020-04-01</td>\n",
       "    </tr>\n",
       "    <tr>\n",
       "      <td>4</td>\n",
       "      <td>4</td>\n",
       "      <td>Balochistan</td>\n",
       "      <td>9</td>\n",
       "      <td>0</td>\n",
       "      <td>366</td>\n",
       "      <td>2020-04-01</td>\n",
       "    </tr>\n",
       "    <tr>\n",
       "      <td>5</td>\n",
       "      <td>5</td>\n",
       "      <td>AJK</td>\n",
       "      <td>13</td>\n",
       "      <td>210</td>\n",
       "      <td>373</td>\n",
       "      <td>2020-04-01</td>\n",
       "    </tr>\n",
       "    <tr>\n",
       "      <td>6</td>\n",
       "      <td>6</td>\n",
       "      <td>GB</td>\n",
       "      <td>47</td>\n",
       "      <td>0</td>\n",
       "      <td>526</td>\n",
       "      <td>2020-04-01</td>\n",
       "    </tr>\n",
       "    <tr>\n",
       "      <td>7</td>\n",
       "      <td>0</td>\n",
       "      <td>ICT</td>\n",
       "      <td>1</td>\n",
       "      <td>7</td>\n",
       "      <td>31</td>\n",
       "      <td>2020-04-02</td>\n",
       "    </tr>\n",
       "    <tr>\n",
       "      <td>8</td>\n",
       "      <td>1</td>\n",
       "      <td>Punjab</td>\n",
       "      <td>4</td>\n",
       "      <td>0</td>\n",
       "      <td>2956</td>\n",
       "      <td>2020-04-02</td>\n",
       "    </tr>\n",
       "    <tr>\n",
       "      <td>9</td>\n",
       "      <td>2</td>\n",
       "      <td>Sindh</td>\n",
       "      <td>5</td>\n",
       "      <td>0</td>\n",
       "      <td>1365</td>\n",
       "      <td>2020-04-02</td>\n",
       "    </tr>\n",
       "    <tr>\n",
       "      <td>10</td>\n",
       "      <td>3</td>\n",
       "      <td>KP</td>\n",
       "      <td>98</td>\n",
       "      <td>98</td>\n",
       "      <td>3223</td>\n",
       "      <td>2020-04-02</td>\n",
       "    </tr>\n",
       "    <tr>\n",
       "      <td>11</td>\n",
       "      <td>4</td>\n",
       "      <td>Balochistan</td>\n",
       "      <td>9</td>\n",
       "      <td>0</td>\n",
       "      <td>364</td>\n",
       "      <td>2020-04-02</td>\n",
       "    </tr>\n",
       "    <tr>\n",
       "      <td>12</td>\n",
       "      <td>5</td>\n",
       "      <td>AJK</td>\n",
       "      <td>37</td>\n",
       "      <td>5</td>\n",
       "      <td>188</td>\n",
       "      <td>2020-04-02</td>\n",
       "    </tr>\n",
       "    <tr>\n",
       "      <td>13</td>\n",
       "      <td>6</td>\n",
       "      <td>GB</td>\n",
       "      <td>47</td>\n",
       "      <td>3</td>\n",
       "      <td>529</td>\n",
       "      <td>2020-04-02</td>\n",
       "    </tr>\n",
       "    <tr>\n",
       "      <td>14</td>\n",
       "      <td>0</td>\n",
       "      <td>ICT</td>\n",
       "      <td>6</td>\n",
       "      <td>0</td>\n",
       "      <td>30</td>\n",
       "      <td>2020-04-03</td>\n",
       "    </tr>\n",
       "    <tr>\n",
       "      <td>15</td>\n",
       "      <td>1</td>\n",
       "      <td>Punjab</td>\n",
       "      <td>4</td>\n",
       "      <td>0</td>\n",
       "      <td>2956</td>\n",
       "      <td>2020-04-03</td>\n",
       "    </tr>\n",
       "    <tr>\n",
       "      <td>16</td>\n",
       "      <td>2</td>\n",
       "      <td>Sindh</td>\n",
       "      <td>5</td>\n",
       "      <td>0</td>\n",
       "      <td>1363</td>\n",
       "      <td>2020-04-03</td>\n",
       "    </tr>\n",
       "    <tr>\n",
       "      <td>17</td>\n",
       "      <td>3</td>\n",
       "      <td>KP</td>\n",
       "      <td>101</td>\n",
       "      <td>279</td>\n",
       "      <td>3312</td>\n",
       "      <td>2020-04-03</td>\n",
       "    </tr>\n",
       "    <tr>\n",
       "      <td>18</td>\n",
       "      <td>4</td>\n",
       "      <td>Balochistan</td>\n",
       "      <td>9</td>\n",
       "      <td>0</td>\n",
       "      <td>408</td>\n",
       "      <td>2020-04-03</td>\n",
       "    </tr>\n",
       "    <tr>\n",
       "      <td>19</td>\n",
       "      <td>5</td>\n",
       "      <td>AJK</td>\n",
       "      <td>37</td>\n",
       "      <td>22</td>\n",
       "      <td>197</td>\n",
       "      <td>2020-04-03</td>\n",
       "    </tr>\n",
       "    <tr>\n",
       "      <td>20</td>\n",
       "      <td>6</td>\n",
       "      <td>GB</td>\n",
       "      <td>47</td>\n",
       "      <td>0</td>\n",
       "      <td>227</td>\n",
       "      <td>2020-04-03</td>\n",
       "    </tr>\n",
       "  </tbody>\n",
       "</table>\n",
       "</div>"
      ],
      "text/plain": [
       "    Unnamed: 0      Regions  Quarantine facilities (n)  \\\n",
       "0            0          ICT                          1   \n",
       "1            1       Punjab                          4   \n",
       "2            2        Sindh                          5   \n",
       "3            3           KP                         92   \n",
       "4            4  Balochistan                          9   \n",
       "5            5          AJK                         13   \n",
       "6            6           GB                         47   \n",
       "7            0          ICT                          1   \n",
       "8            1       Punjab                          4   \n",
       "9            2        Sindh                          5   \n",
       "10           3           KP                         98   \n",
       "11           4  Balochistan                          9   \n",
       "12           5          AJK                         37   \n",
       "13           6           GB                         47   \n",
       "14           0          ICT                          6   \n",
       "15           1       Punjab                          4   \n",
       "16           2        Sindh                          5   \n",
       "17           3           KP                        101   \n",
       "18           4  Balochistan                          9   \n",
       "19           5          AJK                         37   \n",
       "20           6           GB                         47   \n",
       "\n",
       "    No. of arrivals in last 24 hrs  Cumulative no of persons present  \\\n",
       "0                                0                                24   \n",
       "1                                0                              2956   \n",
       "2                                0                              1388   \n",
       "3                              181                              3260   \n",
       "4                                0                               366   \n",
       "5                              210                               373   \n",
       "6                                0                               526   \n",
       "7                                7                                31   \n",
       "8                                0                              2956   \n",
       "9                                0                              1365   \n",
       "10                              98                              3223   \n",
       "11                               0                               364   \n",
       "12                               5                               188   \n",
       "13                               3                               529   \n",
       "14                               0                                30   \n",
       "15                               0                              2956   \n",
       "16                               0                              1363   \n",
       "17                             279                              3312   \n",
       "18                               0                               408   \n",
       "19                              22                               197   \n",
       "20                               0                               227   \n",
       "\n",
       "         Date  \n",
       "0  2020-04-01  \n",
       "1  2020-04-01  \n",
       "2  2020-04-01  \n",
       "3  2020-04-01  \n",
       "4  2020-04-01  \n",
       "5  2020-04-01  \n",
       "6  2020-04-01  \n",
       "7  2020-04-02  \n",
       "8  2020-04-02  \n",
       "9  2020-04-02  \n",
       "10 2020-04-02  \n",
       "11 2020-04-02  \n",
       "12 2020-04-02  \n",
       "13 2020-04-02  \n",
       "14 2020-04-03  \n",
       "15 2020-04-03  \n",
       "16 2020-04-03  \n",
       "17 2020-04-03  \n",
       "18 2020-04-03  \n",
       "19 2020-04-03  \n",
       "20 2020-04-03  "
      ]
     },
     "execution_count": 90,
     "metadata": {},
     "output_type": "execute_result"
    }
   ],
   "source": [
    "sheet10"
   ]
  },
  {
   "cell_type": "markdown",
   "metadata": {
    "colab_type": "text",
    "id": "EbiVm5ENv5bQ"
   },
   "source": [
    "**Capitalize all the column headings**"
   ]
  },
  {
   "cell_type": "code",
   "execution_count": 91,
   "metadata": {
    "colab": {
     "base_uri": "https://localhost:8080/",
     "height": 0
    },
    "colab_type": "code",
    "id": "fzX9L-MqwVwF",
    "outputId": "f49922bb-908f-419a-acae-6a7bb279f2ae"
   },
   "outputs": [
    {
     "data": {
      "text/plain": [
       "Index(['UNNAMED: 0', 'REGIONS', 'QUARANTINE FACILITIES (N)',\n",
       "       'NO. OF ARRIVALS IN LAST 24 HRS', 'CUMULATIVE NO OF PERSONS PRESENT',\n",
       "       'DATE'],\n",
       "      dtype='object')"
      ]
     },
     "execution_count": 91,
     "metadata": {},
     "output_type": "execute_result"
    }
   ],
   "source": [
    "sheet10.columns=sheet10.columns.str.upper().str.strip()\n",
    "sheet10.columns"
   ]
  },
  {
   "cell_type": "markdown",
   "metadata": {
    "colab_type": "text",
    "id": "ObI4KBgJwWNA"
   },
   "source": [
    "**Finding which column has missing data**"
   ]
  },
  {
   "cell_type": "code",
   "execution_count": 92,
   "metadata": {
    "colab": {
     "base_uri": "https://localhost:8080/",
     "height": 0
    },
    "colab_type": "code",
    "id": "Gy2esrLcwYcX",
    "outputId": "540dd89d-d3f7-42c7-e3d4-74e056b4351e"
   },
   "outputs": [
    {
     "data": {
      "text/plain": [
       "UNNAMED: 0                          0\n",
       "REGIONS                             0\n",
       "QUARANTINE FACILITIES (N)           0\n",
       "NO. OF ARRIVALS IN LAST 24 HRS      0\n",
       "CUMULATIVE NO OF PERSONS PRESENT    0\n",
       "DATE                                0\n",
       "dtype: int64"
      ]
     },
     "execution_count": 92,
     "metadata": {},
     "output_type": "execute_result"
    }
   ],
   "source": [
    "sheet10.isnull().sum()"
   ]
  },
  {
   "cell_type": "markdown",
   "metadata": {
    "colab_type": "text",
    "id": "v7n-H2oAwoQD"
   },
   "source": [
    "**Renaming the column 'REGIONS' to 'REGION'**"
   ]
  },
  {
   "cell_type": "code",
   "execution_count": 93,
   "metadata": {
    "colab": {
     "base_uri": "https://localhost:8080/",
     "height": 0
    },
    "colab_type": "code",
    "id": "8TauieyDwofb",
    "outputId": "8eff5903-3d6d-4ca9-c947-f37c5cb47c88"
   },
   "outputs": [
    {
     "data": {
      "text/plain": [
       "Index(['UNNAMED: 0', 'REGION', 'QUARANTINE FACILITIES (N)',\n",
       "       'NO. OF ARRIVALS IN LAST 24 HRS', 'CUMULATIVE NO OF PERSONS PRESENT',\n",
       "       'DATE'],\n",
       "      dtype='object')"
      ]
     },
     "execution_count": 93,
     "metadata": {},
     "output_type": "execute_result"
    }
   ],
   "source": [
    "sheet10.rename(columns={'REGIONS':'REGION'},inplace=True)\n",
    "sheet10.columns"
   ]
  },
  {
   "cell_type": "markdown",
   "metadata": {
    "colab_type": "text",
    "id": "4jtFzpFYHIpy"
   },
   "source": [
    "**Drop the 'UNNAMED: 0' column**"
   ]
  },
  {
   "cell_type": "code",
   "execution_count": 94,
   "metadata": {
    "colab": {
     "base_uri": "https://localhost:8080/",
     "height": 0
    },
    "colab_type": "code",
    "id": "JaYWXEEPHI7_",
    "outputId": "535f04aa-fe6c-4008-99dc-44c5d3c7d8c0"
   },
   "outputs": [
    {
     "data": {
      "text/plain": [
       "Index(['REGION', 'QUARANTINE FACILITIES (N)', 'NO. OF ARRIVALS IN LAST 24 HRS',\n",
       "       'CUMULATIVE NO OF PERSONS PRESENT', 'DATE'],\n",
       "      dtype='object')"
      ]
     },
     "execution_count": 94,
     "metadata": {},
     "output_type": "execute_result"
    }
   ],
   "source": [
    "sheet10.drop(['UNNAMED: 0'], axis=1, inplace=True)\n",
    "sheet10.columns"
   ]
  },
  {
   "cell_type": "markdown",
   "metadata": {
    "colab_type": "text",
    "id": "RqfBM0zuxLrC"
   },
   "source": [
    "**Checking the Data Types of the columns**"
   ]
  },
  {
   "cell_type": "code",
   "execution_count": 95,
   "metadata": {
    "colab": {
     "base_uri": "https://localhost:8080/",
     "height": 0
    },
    "colab_type": "code",
    "id": "4SRijJ2gxL8R",
    "outputId": "d05c2f4c-119a-45c1-b0c7-15eaca88d239"
   },
   "outputs": [
    {
     "data": {
      "text/plain": [
       "REGION                                      object\n",
       "QUARANTINE FACILITIES (N)                    int64\n",
       "NO. OF ARRIVALS IN LAST 24 HRS               int64\n",
       "CUMULATIVE NO OF PERSONS PRESENT             int64\n",
       "DATE                                datetime64[ns]\n",
       "dtype: object"
      ]
     },
     "execution_count": 95,
     "metadata": {},
     "output_type": "execute_result"
    }
   ],
   "source": [
    "sheet10.dtypes"
   ]
  },
  {
   "cell_type": "markdown",
   "metadata": {
    "colab_type": "text",
    "id": "KzIE1yOaxpxT"
   },
   "source": [
    "**Changing the datatype and syntax of 'DATE' column**"
   ]
  },
  {
   "cell_type": "code",
   "execution_count": 96,
   "metadata": {
    "colab": {
     "base_uri": "https://localhost:8080/",
     "height": 0
    },
    "colab_type": "code",
    "id": "P95sCHtlyeaJ",
    "outputId": "f4d0b6ba-4325-4219-c904-93b0bafd136f"
   },
   "outputs": [
    {
     "data": {
      "text/plain": [
       "Timestamp('2020-04-01 00:00:00')"
      ]
     },
     "execution_count": 96,
     "metadata": {},
     "output_type": "execute_result"
    }
   ],
   "source": [
    "sheet10['DATE'][0]"
   ]
  },
  {
   "cell_type": "code",
   "execution_count": 97,
   "metadata": {
    "colab": {},
    "colab_type": "code",
    "id": "t2dp1p5VxqAn"
   },
   "outputs": [],
   "source": [
    "sheet10['DATE']=pd.to_datetime(sheet10['DATE']).dt.date"
   ]
  },
  {
   "cell_type": "code",
   "execution_count": 98,
   "metadata": {
    "colab": {
     "base_uri": "https://localhost:8080/",
     "height": 0
    },
    "colab_type": "code",
    "id": "2L4zxk0kyitA",
    "outputId": "986a260c-8d9a-4259-a776-40f06c0473cf"
   },
   "outputs": [
    {
     "data": {
      "text/plain": [
       "datetime.date(2020, 4, 1)"
      ]
     },
     "execution_count": 98,
     "metadata": {},
     "output_type": "execute_result"
    }
   ],
   "source": [
    "sheet10['DATE'][0]"
   ]
  },
  {
   "cell_type": "markdown",
   "metadata": {
    "colab_type": "text",
    "id": "PxgDhUHExxDB"
   },
   "source": [
    "**Again checking the datatypes of all the columns**"
   ]
  },
  {
   "cell_type": "code",
   "execution_count": 99,
   "metadata": {
    "colab": {
     "base_uri": "https://localhost:8080/",
     "height": 0
    },
    "colab_type": "code",
    "id": "T6ZaJt-Nxxj0",
    "outputId": "2931901d-8026-446f-a048-1c6ecfd30bb5"
   },
   "outputs": [
    {
     "data": {
      "text/plain": [
       "REGION                              object\n",
       "QUARANTINE FACILITIES (N)            int64\n",
       "NO. OF ARRIVALS IN LAST 24 HRS       int64\n",
       "CUMULATIVE NO OF PERSONS PRESENT     int64\n",
       "DATE                                object\n",
       "dtype: object"
      ]
     },
     "execution_count": 99,
     "metadata": {},
     "output_type": "execute_result"
    }
   ],
   "source": [
    "sheet10.dtypes"
   ]
  },
  {
   "cell_type": "markdown",
   "metadata": {
    "colab_type": "text",
    "id": "ethp3ke_x_Vr"
   },
   "source": [
    "**Padding will be done on the 'REGION' column**"
   ]
  },
  {
   "cell_type": "code",
   "execution_count": 100,
   "metadata": {
    "colab": {},
    "colab_type": "code",
    "id": "vA_zD_Nox_jw"
   },
   "outputs": [],
   "source": [
    "sheet10['REGION']=sheet10['REGION'].str.pad(12,side='right')"
   ]
  },
  {
   "cell_type": "markdown",
   "metadata": {
    "colab_type": "text",
    "id": "WCG6470oyGvJ"
   },
   "source": [
    "**Displaying Sheet10 Again**"
   ]
  },
  {
   "cell_type": "code",
   "execution_count": 101,
   "metadata": {
    "colab": {
     "base_uri": "https://localhost:8080/",
     "height": 0
    },
    "colab_type": "code",
    "id": "TcKfScShyHUX",
    "outputId": "a941d998-a974-47b7-f9b0-ad47ffcefef0"
   },
   "outputs": [
    {
     "data": {
      "text/html": [
       "<div>\n",
       "<style scoped>\n",
       "    .dataframe tbody tr th:only-of-type {\n",
       "        vertical-align: middle;\n",
       "    }\n",
       "\n",
       "    .dataframe tbody tr th {\n",
       "        vertical-align: top;\n",
       "    }\n",
       "\n",
       "    .dataframe thead th {\n",
       "        text-align: right;\n",
       "    }\n",
       "</style>\n",
       "<table border=\"1\" class=\"dataframe\">\n",
       "  <thead>\n",
       "    <tr style=\"text-align: right;\">\n",
       "      <th></th>\n",
       "      <th>REGION</th>\n",
       "      <th>QUARANTINE FACILITIES (N)</th>\n",
       "      <th>NO. OF ARRIVALS IN LAST 24 HRS</th>\n",
       "      <th>CUMULATIVE NO OF PERSONS PRESENT</th>\n",
       "      <th>DATE</th>\n",
       "    </tr>\n",
       "  </thead>\n",
       "  <tbody>\n",
       "    <tr>\n",
       "      <td>0</td>\n",
       "      <td>ICT</td>\n",
       "      <td>1</td>\n",
       "      <td>0</td>\n",
       "      <td>24</td>\n",
       "      <td>2020-04-01</td>\n",
       "    </tr>\n",
       "    <tr>\n",
       "      <td>1</td>\n",
       "      <td>Punjab</td>\n",
       "      <td>4</td>\n",
       "      <td>0</td>\n",
       "      <td>2956</td>\n",
       "      <td>2020-04-01</td>\n",
       "    </tr>\n",
       "    <tr>\n",
       "      <td>2</td>\n",
       "      <td>Sindh</td>\n",
       "      <td>5</td>\n",
       "      <td>0</td>\n",
       "      <td>1388</td>\n",
       "      <td>2020-04-01</td>\n",
       "    </tr>\n",
       "    <tr>\n",
       "      <td>3</td>\n",
       "      <td>KP</td>\n",
       "      <td>92</td>\n",
       "      <td>181</td>\n",
       "      <td>3260</td>\n",
       "      <td>2020-04-01</td>\n",
       "    </tr>\n",
       "    <tr>\n",
       "      <td>4</td>\n",
       "      <td>Balochistan</td>\n",
       "      <td>9</td>\n",
       "      <td>0</td>\n",
       "      <td>366</td>\n",
       "      <td>2020-04-01</td>\n",
       "    </tr>\n",
       "    <tr>\n",
       "      <td>5</td>\n",
       "      <td>AJK</td>\n",
       "      <td>13</td>\n",
       "      <td>210</td>\n",
       "      <td>373</td>\n",
       "      <td>2020-04-01</td>\n",
       "    </tr>\n",
       "    <tr>\n",
       "      <td>6</td>\n",
       "      <td>GB</td>\n",
       "      <td>47</td>\n",
       "      <td>0</td>\n",
       "      <td>526</td>\n",
       "      <td>2020-04-01</td>\n",
       "    </tr>\n",
       "    <tr>\n",
       "      <td>7</td>\n",
       "      <td>ICT</td>\n",
       "      <td>1</td>\n",
       "      <td>7</td>\n",
       "      <td>31</td>\n",
       "      <td>2020-04-02</td>\n",
       "    </tr>\n",
       "    <tr>\n",
       "      <td>8</td>\n",
       "      <td>Punjab</td>\n",
       "      <td>4</td>\n",
       "      <td>0</td>\n",
       "      <td>2956</td>\n",
       "      <td>2020-04-02</td>\n",
       "    </tr>\n",
       "    <tr>\n",
       "      <td>9</td>\n",
       "      <td>Sindh</td>\n",
       "      <td>5</td>\n",
       "      <td>0</td>\n",
       "      <td>1365</td>\n",
       "      <td>2020-04-02</td>\n",
       "    </tr>\n",
       "    <tr>\n",
       "      <td>10</td>\n",
       "      <td>KP</td>\n",
       "      <td>98</td>\n",
       "      <td>98</td>\n",
       "      <td>3223</td>\n",
       "      <td>2020-04-02</td>\n",
       "    </tr>\n",
       "    <tr>\n",
       "      <td>11</td>\n",
       "      <td>Balochistan</td>\n",
       "      <td>9</td>\n",
       "      <td>0</td>\n",
       "      <td>364</td>\n",
       "      <td>2020-04-02</td>\n",
       "    </tr>\n",
       "    <tr>\n",
       "      <td>12</td>\n",
       "      <td>AJK</td>\n",
       "      <td>37</td>\n",
       "      <td>5</td>\n",
       "      <td>188</td>\n",
       "      <td>2020-04-02</td>\n",
       "    </tr>\n",
       "    <tr>\n",
       "      <td>13</td>\n",
       "      <td>GB</td>\n",
       "      <td>47</td>\n",
       "      <td>3</td>\n",
       "      <td>529</td>\n",
       "      <td>2020-04-02</td>\n",
       "    </tr>\n",
       "    <tr>\n",
       "      <td>14</td>\n",
       "      <td>ICT</td>\n",
       "      <td>6</td>\n",
       "      <td>0</td>\n",
       "      <td>30</td>\n",
       "      <td>2020-04-03</td>\n",
       "    </tr>\n",
       "    <tr>\n",
       "      <td>15</td>\n",
       "      <td>Punjab</td>\n",
       "      <td>4</td>\n",
       "      <td>0</td>\n",
       "      <td>2956</td>\n",
       "      <td>2020-04-03</td>\n",
       "    </tr>\n",
       "    <tr>\n",
       "      <td>16</td>\n",
       "      <td>Sindh</td>\n",
       "      <td>5</td>\n",
       "      <td>0</td>\n",
       "      <td>1363</td>\n",
       "      <td>2020-04-03</td>\n",
       "    </tr>\n",
       "    <tr>\n",
       "      <td>17</td>\n",
       "      <td>KP</td>\n",
       "      <td>101</td>\n",
       "      <td>279</td>\n",
       "      <td>3312</td>\n",
       "      <td>2020-04-03</td>\n",
       "    </tr>\n",
       "    <tr>\n",
       "      <td>18</td>\n",
       "      <td>Balochistan</td>\n",
       "      <td>9</td>\n",
       "      <td>0</td>\n",
       "      <td>408</td>\n",
       "      <td>2020-04-03</td>\n",
       "    </tr>\n",
       "    <tr>\n",
       "      <td>19</td>\n",
       "      <td>AJK</td>\n",
       "      <td>37</td>\n",
       "      <td>22</td>\n",
       "      <td>197</td>\n",
       "      <td>2020-04-03</td>\n",
       "    </tr>\n",
       "    <tr>\n",
       "      <td>20</td>\n",
       "      <td>GB</td>\n",
       "      <td>47</td>\n",
       "      <td>0</td>\n",
       "      <td>227</td>\n",
       "      <td>2020-04-03</td>\n",
       "    </tr>\n",
       "  </tbody>\n",
       "</table>\n",
       "</div>"
      ],
      "text/plain": [
       "          REGION  QUARANTINE FACILITIES (N)  NO. OF ARRIVALS IN LAST 24 HRS  \\\n",
       "0   ICT                                   1                               0   \n",
       "1   Punjab                                4                               0   \n",
       "2   Sindh                                 5                               0   \n",
       "3   KP                                   92                             181   \n",
       "4   Balochistan                           9                               0   \n",
       "5   AJK                                  13                             210   \n",
       "6   GB                                   47                               0   \n",
       "7   ICT                                   1                               7   \n",
       "8   Punjab                                4                               0   \n",
       "9   Sindh                                 5                               0   \n",
       "10  KP                                   98                              98   \n",
       "11  Balochistan                           9                               0   \n",
       "12  AJK                                  37                               5   \n",
       "13  GB                                   47                               3   \n",
       "14  ICT                                   6                               0   \n",
       "15  Punjab                                4                               0   \n",
       "16  Sindh                                 5                               0   \n",
       "17  KP                                  101                             279   \n",
       "18  Balochistan                           9                               0   \n",
       "19  AJK                                  37                              22   \n",
       "20  GB                                   47                               0   \n",
       "\n",
       "    CUMULATIVE NO OF PERSONS PRESENT        DATE  \n",
       "0                                 24  2020-04-01  \n",
       "1                               2956  2020-04-01  \n",
       "2                               1388  2020-04-01  \n",
       "3                               3260  2020-04-01  \n",
       "4                                366  2020-04-01  \n",
       "5                                373  2020-04-01  \n",
       "6                                526  2020-04-01  \n",
       "7                                 31  2020-04-02  \n",
       "8                               2956  2020-04-02  \n",
       "9                               1365  2020-04-02  \n",
       "10                              3223  2020-04-02  \n",
       "11                               364  2020-04-02  \n",
       "12                               188  2020-04-02  \n",
       "13                               529  2020-04-02  \n",
       "14                                30  2020-04-03  \n",
       "15                              2956  2020-04-03  \n",
       "16                              1363  2020-04-03  \n",
       "17                              3312  2020-04-03  \n",
       "18                               408  2020-04-03  \n",
       "19                               197  2020-04-03  \n",
       "20                               227  2020-04-03  "
      ]
     },
     "execution_count": 101,
     "metadata": {},
     "output_type": "execute_result"
    }
   ],
   "source": [
    "sheet10"
   ]
  },
  {
   "cell_type": "markdown",
   "metadata": {
    "colab_type": "text",
    "id": "X78KZ3Ki3vmo"
   },
   "source": [
    "#### **SAVING ALL THE SHEETS IN ONE EXCEL FILE**"
   ]
  },
  {
   "cell_type": "code",
   "execution_count": 102,
   "metadata": {
    "colab": {},
    "colab_type": "code",
    "id": "B19xXDYT4yHE"
   },
   "outputs": [],
   "source": [
    "Writing_Sheets = pd.ExcelWriter('Cleaned_Data_COVID.xlsx')\n",
    "\n",
    "sheet1.to_excel(Writing_Sheets,'TimeSeries_KeyIndicators', index=False)\n",
    "sheet2.to_excel(Writing_Sheets,'TimeSeries_KeyIndicators_Detail',index=False)\n",
    "sheet3.to_excel(Writing_Sheets,'TimeSeries_Action_Screen',index=False)\n",
    "sheet4.to_excel(Writing_Sheets,'TimeSeries_Action_Call',index=False)\n",
    "sheet5.to_excel(Writing_Sheets,'TimeSeries_COVID_News',index=False)\n",
    "sheet6.to_excel(Writing_Sheets,'TimeSeries_NIH_Response',index=False)\n",
    "sheet7.to_excel(Writing_Sheets,'TimeSeries_NIH_Risk',index=False)\n",
    "sheet8.to_excel(Writing_Sheets,'TimeSeries_Province_Response',index=False)\n",
    "sheet9.to_excel(Writing_Sheets,'TimeSeries_Helpline_Calls',index=False)\n",
    "sheet10.to_excel(Writing_Sheets,'TimeSeries_Quarantine_Details',index=False)\n",
    "\n",
    "Writing_Sheets.save()"
   ]
  },
  {
   "cell_type": "markdown",
   "metadata": {
    "colab_type": "text",
    "id": "0Jear_L5Mkgm"
   },
   "source": [
    "**Submitted by: Sareera Inam Afridi (2017-BSE-024)** "
   ]
  }
 ],
 "metadata": {
  "colab": {
   "name": "COVID_VISUALIZATION_PROJECT",
   "provenance": [],
   "toc_visible": true
  },
  "kernelspec": {
   "display_name": "Python 3",
   "language": "python",
   "name": "python3"
  },
  "language_info": {
   "codemirror_mode": {
    "name": "ipython",
    "version": 3
   },
   "file_extension": ".py",
   "mimetype": "text/x-python",
   "name": "python",
   "nbconvert_exporter": "python",
   "pygments_lexer": "ipython3",
   "version": "3.7.4"
  }
 },
 "nbformat": 4,
 "nbformat_minor": 1
}
